{
 "cells": [
  {
   "cell_type": "code",
   "execution_count": 1,
   "metadata": {
    "collapsed": true
   },
   "outputs": [],
   "source": [
    "import pandas as pd"
   ]
  },
  {
   "cell_type": "code",
   "execution_count": 2,
   "metadata": {
    "collapsed": true
   },
   "outputs": [],
   "source": [
    "df = pd.read_csv('patch_685_processed.csv')"
   ]
  },
  {
   "cell_type": "code",
   "execution_count": 3,
   "metadata": {
    "collapsed": false
   },
   "outputs": [
    {
     "data": {
      "text/html": [
       "<div>\n",
       "<table border=\"1\" class=\"dataframe\">\n",
       "  <thead>\n",
       "    <tr style=\"text-align: right;\">\n",
       "      <th></th>\n",
       "      <th>Unnamed: 0</th>\n",
       "      <th>hero</th>\n",
       "      <th>text</th>\n",
       "      <th>num_buffs</th>\n",
       "      <th>num_nerfs</th>\n",
       "      <th>change_type</th>\n",
       "      <th>text_no_abi</th>\n",
       "    </tr>\n",
       "  </thead>\n",
       "  <tbody>\n",
       "    <tr>\n",
       "      <th>0</th>\n",
       "      <td>0</td>\n",
       "      <td>Abaddon</td>\n",
       "      <td>[u'Mist Coil cooldown reduced from 5 to 4.5', ...</td>\n",
       "      <td>2</td>\n",
       "      <td>0</td>\n",
       "      <td>[1, 1]</td>\n",
       "      <td>[u'cooldown reduced from 5 to 4.5', u\"Aghanim'...</td>\n",
       "    </tr>\n",
       "    <tr>\n",
       "      <th>1</th>\n",
       "      <td>1</td>\n",
       "      <td>Alchemist</td>\n",
       "      <td>[u'Acid Spray damage increased from 12/16/20/2...</td>\n",
       "      <td>2</td>\n",
       "      <td>0</td>\n",
       "      <td>[1, 1]</td>\n",
       "      <td>[u'damage increased from 12/16/20/24 to 15/20/...</td>\n",
       "    </tr>\n",
       "    <tr>\n",
       "      <th>2</th>\n",
       "      <td>2</td>\n",
       "      <td>Ancient Apparition</td>\n",
       "      <td>[u'Cold Feet cast range increased from 700 to ...</td>\n",
       "      <td>1</td>\n",
       "      <td>0</td>\n",
       "      <td>[1]</td>\n",
       "      <td>[u'cast range increased from 700 to 700/800/90...</td>\n",
       "    </tr>\n",
       "    <tr>\n",
       "      <th>3</th>\n",
       "      <td>3</td>\n",
       "      <td>Anti-Mage</td>\n",
       "      <td>[u'Blink distance rescaled from 1000/1075/1150...</td>\n",
       "      <td>0</td>\n",
       "      <td>2</td>\n",
       "      <td>[-1, -1]</td>\n",
       "      <td>[u'distance rescaled from 1000/1075/1150/1150 ...</td>\n",
       "    </tr>\n",
       "    <tr>\n",
       "      <th>4</th>\n",
       "      <td>4</td>\n",
       "      <td>Arc Warden</td>\n",
       "      <td>[u'Spark Wraith cooldown reduced from 7 to 4']</td>\n",
       "      <td>1</td>\n",
       "      <td>0</td>\n",
       "      <td>[1]</td>\n",
       "      <td>[u'Spark Wraith cooldown reduced from 7 to 4']</td>\n",
       "    </tr>\n",
       "  </tbody>\n",
       "</table>\n",
       "</div>"
      ],
      "text/plain": [
       "   Unnamed: 0                hero  \\\n",
       "0           0             Abaddon   \n",
       "1           1           Alchemist   \n",
       "2           2  Ancient Apparition   \n",
       "3           3           Anti-Mage   \n",
       "4           4          Arc Warden   \n",
       "\n",
       "                                                text  num_buffs  num_nerfs  \\\n",
       "0  [u'Mist Coil cooldown reduced from 5 to 4.5', ...          2          0   \n",
       "1  [u'Acid Spray damage increased from 12/16/20/2...          2          0   \n",
       "2  [u'Cold Feet cast range increased from 700 to ...          1          0   \n",
       "3  [u'Blink distance rescaled from 1000/1075/1150...          0          2   \n",
       "4     [u'Spark Wraith cooldown reduced from 7 to 4']          1          0   \n",
       "\n",
       "  change_type                                        text_no_abi  \n",
       "0      [1, 1]  [u'cooldown reduced from 5 to 4.5', u\"Aghanim'...  \n",
       "1      [1, 1]  [u'damage increased from 12/16/20/24 to 15/20/...  \n",
       "2         [1]  [u'cast range increased from 700 to 700/800/90...  \n",
       "3    [-1, -1]  [u'distance rescaled from 1000/1075/1150/1150 ...  \n",
       "4         [1]     [u'Spark Wraith cooldown reduced from 7 to 4']  "
      ]
     },
     "execution_count": 3,
     "metadata": {},
     "output_type": "execute_result"
    }
   ],
   "source": [
    "df.head()"
   ]
  },
  {
   "cell_type": "code",
   "execution_count": null,
   "metadata": {
    "collapsed": true
   },
   "outputs": [],
   "source": []
  }
 ],
 "metadata": {
  "kernelspec": {
   "display_name": "Python 2",
   "language": "python",
   "name": "python2"
  },
  "language_info": {
   "codemirror_mode": {
    "name": "ipython",
    "version": 2
   },
   "file_extension": ".py",
   "mimetype": "text/x-python",
   "name": "python",
   "nbconvert_exporter": "python",
   "pygments_lexer": "ipython2",
   "version": "2.7.10"
  }
 },
 "nbformat": 4,
 "nbformat_minor": 0
}
