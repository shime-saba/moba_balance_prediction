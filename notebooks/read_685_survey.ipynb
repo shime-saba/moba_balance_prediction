{
 "cells": [
  {
   "cell_type": "markdown",
   "metadata": {},
   "source": [
    "## 686 impressions survey"
   ]
  },
  {
   "cell_type": "code",
   "execution_count": null,
   "metadata": {
    "collapsed": true
   },
   "outputs": [],
   "source": [
    "nerfs_list = []\n",
    "with open('../data/686_nerf_survey.txt') as f:\n",
    "    for line in f:\n",
    "        split_line = line.split()\n",
    "        name = ' '.join(split_line[:-2])\n",
    "        nerfs_list.append([name, split_line[-2], split_line[-1]])"
   ]
  },
  {
   "cell_type": "code",
   "execution_count": null,
   "metadata": {
    "collapsed": true
   },
   "outputs": [],
   "source": [
    "nerfs_list[:5]"
   ]
  },
  {
   "cell_type": "code",
   "execution_count": null,
   "metadata": {
    "collapsed": true
   },
   "outputs": [],
   "source": [
    "buffs_list = []\n",
    "with open('../data/686_buff_survey.txt') as f:\n",
    "    for line in f:\n",
    "        split_line = line.split()\n",
    "        name = ' '.join(split_line[:-2])\n",
    "        buffs_list.append([name, split_line[-2], split_line[-1]])"
   ]
  },
  {
   "cell_type": "code",
   "execution_count": null,
   "metadata": {
    "collapsed": true
   },
   "outputs": [],
   "source": [
    "buffs_list[:5]"
   ]
  },
  {
   "cell_type": "code",
   "execution_count": null,
   "metadata": {
    "collapsed": true
   },
   "outputs": [],
   "source": [
    "nerfs_list[21][0] = 'Death Prophet'\n",
    "buffs_list[21][0] = 'Death Prophet'\n",
    "nerfs_list[56][0] = \"Nature's Prophet\"\n",
    "buffs_list[56][0] = \"Nature's Prophet\"\n",
    "nerfs_list[59][0] = 'Nyx Assassin'\n",
    "buffs_list[59][0] = 'Nyx Assassin'\n",
    "nerfs_list[79][0] = 'Skywrath Mage'\n",
    "buffs_list[79][0] = 'Skywrath Mage'\n",
    "nerfs_list[84][0] = 'Spirit Breaker'\n",
    "buffs_list[84][0] = 'Spirit Breaker'\n",
    "nerfs_list[94][0] = 'Treant Protector'\n",
    "buffs_list[94][0] = 'Treant Protector'"
   ]
  }
 ],
 "metadata": {
  "kernelspec": {
   "display_name": "Python 2",
   "language": "python",
   "name": "python2"
  },
  "language_info": {
   "codemirror_mode": {
    "name": "ipython",
    "version": 2
   },
   "file_extension": ".py",
   "mimetype": "text/x-python",
   "name": "python",
   "nbconvert_exporter": "python",
   "pygments_lexer": "ipython2",
   "version": "2.7.10"
  }
 },
 "nbformat": 4,
 "nbformat_minor": 0
}
