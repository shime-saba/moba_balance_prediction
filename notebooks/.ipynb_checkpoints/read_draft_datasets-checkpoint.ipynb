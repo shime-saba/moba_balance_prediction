{
 "cells": [
  {
   "cell_type": "code",
   "execution_count": 134,
   "metadata": {
    "collapsed": true
   },
   "outputs": [],
   "source": [
    "import pandas as pd\n",
    "import cPickle as pickle\n",
    "import numpy as np\n",
    "from collections import defaultdict\n",
    "from scipy import stats"
   ]
  },
  {
   "cell_type": "code",
   "execution_count": 5,
   "metadata": {
    "collapsed": false
   },
   "outputs": [
    {
     "name": "stdout",
     "output_type": "stream",
     "text": [
      "drafts_677.csv   drafts_680.csv   drafts_682.csv   drafts_685.csv\r\n",
      "drafts_678.csv   drafts_681.csv   drafts_683.csv\r\n",
      "drafts_679.csv   drafts_681b.csv  drafts_684.csv\r\n"
     ]
    }
   ],
   "source": [
    "ls ../data/draft_stats/"
   ]
  },
  {
   "cell_type": "code",
   "execution_count": 85,
   "metadata": {
    "collapsed": true
   },
   "outputs": [],
   "source": [
    "df_677 = pd.read_csv('../data/draft_stats/drafts_677.csv')"
   ]
  },
  {
   "cell_type": "code",
   "execution_count": 100,
   "metadata": {
    "collapsed": false
   },
   "outputs": [],
   "source": [
    "df_677.loc[df_677[df_677['Hero']=='furion'].index[0], 'Name'] = \"Nature's Prophet\""
   ]
  },
  {
   "cell_type": "code",
   "execution_count": 140,
   "metadata": {
    "collapsed": false
   },
   "outputs": [
    {
     "data": {
      "text/plain": [
       "\"Nature's Prophet\""
      ]
     },
     "execution_count": 140,
     "metadata": {},
     "output_type": "execute_result"
    }
   ],
   "source": [
    "df_677.ix[12]['Name']"
   ]
  },
  {
   "cell_type": "code",
   "execution_count": 27,
   "metadata": {
    "collapsed": false
   },
   "outputs": [
    {
     "data": {
      "text/html": [
       "<div>\n",
       "<table border=\"1\" class=\"dataframe\">\n",
       "  <thead>\n",
       "    <tr style=\"text-align: right;\">\n",
       "      <th></th>\n",
       "      <th>Hero</th>\n",
       "      <th>Name</th>\n",
       "      <th>Pick %</th>\n",
       "      <th>Ban %</th>\n",
       "      <th>Pick or Ban %</th>\n",
       "      <th>Times Picked</th>\n",
       "      <th>Times Banned</th>\n",
       "      <th>Times Picked or Banned</th>\n",
       "    </tr>\n",
       "  </thead>\n",
       "  <tbody>\n",
       "    <tr>\n",
       "      <th>30</th>\n",
       "      <td>alchemist</td>\n",
       "      <td>Alchemist</td>\n",
       "      <td>9.4</td>\n",
       "      <td>10.1</td>\n",
       "      <td>19.5</td>\n",
       "      <td>163</td>\n",
       "      <td>175</td>\n",
       "      <td>338</td>\n",
       "    </tr>\n",
       "    <tr>\n",
       "      <th>62</th>\n",
       "      <td>ancient_apparition</td>\n",
       "      <td>Ancient Apparition</td>\n",
       "      <td>2.7</td>\n",
       "      <td>1.3</td>\n",
       "      <td>4.0</td>\n",
       "      <td>46</td>\n",
       "      <td>23</td>\n",
       "      <td>69</td>\n",
       "    </tr>\n",
       "    <tr>\n",
       "      <th>19</th>\n",
       "      <td>antimage</td>\n",
       "      <td>Anti Mage</td>\n",
       "      <td>15.2</td>\n",
       "      <td>18.9</td>\n",
       "      <td>34.1</td>\n",
       "      <td>264</td>\n",
       "      <td>328</td>\n",
       "      <td>592</td>\n",
       "    </tr>\n",
       "    <tr>\n",
       "      <th>78</th>\n",
       "      <td>axe</td>\n",
       "      <td>Axe</td>\n",
       "      <td>1.0</td>\n",
       "      <td>0.1</td>\n",
       "      <td>1.1</td>\n",
       "      <td>17</td>\n",
       "      <td>2</td>\n",
       "      <td>19</td>\n",
       "    </tr>\n",
       "    <tr>\n",
       "      <th>17</th>\n",
       "      <td>bane</td>\n",
       "      <td>Bane</td>\n",
       "      <td>22.6</td>\n",
       "      <td>17.5</td>\n",
       "      <td>40.1</td>\n",
       "      <td>392</td>\n",
       "      <td>304</td>\n",
       "      <td>696</td>\n",
       "    </tr>\n",
       "  </tbody>\n",
       "</table>\n",
       "</div>"
      ],
      "text/plain": [
       "                  Hero                Name  Pick %  Ban %  Pick or Ban %  \\\n",
       "30           alchemist           Alchemist     9.4   10.1           19.5   \n",
       "62  ancient_apparition  Ancient Apparition     2.7    1.3            4.0   \n",
       "19            antimage           Anti Mage    15.2   18.9           34.1   \n",
       "78                 axe                 Axe     1.0    0.1            1.1   \n",
       "17                bane                Bane    22.6   17.5           40.1   \n",
       "\n",
       "    Times Picked  Times Banned  Times Picked or Banned  \n",
       "30           163           175                     338  \n",
       "62            46            23                      69  \n",
       "19           264           328                     592  \n",
       "78            17             2                      19  \n",
       "17           392           304                     696  "
      ]
     },
     "execution_count": 27,
     "metadata": {},
     "output_type": "execute_result"
    }
   ],
   "source": [
    "df_677.sort('Name').head()"
   ]
  },
  {
   "cell_type": "code",
   "execution_count": 141,
   "metadata": {
    "collapsed": false
   },
   "outputs": [],
   "source": [
    "all_draft_dfs = {}\n",
    "for i in xrange(677, 687):\n",
    "    df = pd.read_csv('../data/draft_stats/drafts_{0}.csv'.format(i))\n",
    "    df.loc[df[df['Hero']=='furion'].index[0], 'Name'] = \"Nature's Prophet\" # fix apostrophe\n",
    "    df.loc[df[df['Hero']=='antimage'].index[0], 'Name'] = \"Anti-Mage\" # fix hyphen\n",
    "    df.drop(['Hero', 'Times Picked', 'Times Banned'], axis=1, inplace=True)\n",
    "    df.columns = ['hero', 'pick%', 'ban%', 'pb%', 'times_pb']\n",
    "    all_draft_dfs[i] = df.copy()"
   ]
  },
  {
   "cell_type": "code",
   "execution_count": 142,
   "metadata": {
    "collapsed": false
   },
   "outputs": [],
   "source": [
    "for patch_num, df in all_draft_dfs.iteritems():\n",
    "    if patch_num < 686:\n",
    "        next_df = all_draft_dfs[patch_num+1]\n",
    "        next_pbs = dict(next_df[['hero', 'pb%']].values)\n",
    "        new_pb_list = []\n",
    "        for hero in df['hero']:\n",
    "            if hero in next_pbs:\n",
    "                new_pb_list.append(next_pbs[hero])\n",
    "            else:\n",
    "                new_pb_list.append(None)\n",
    "        df['next_patch_pb%'] = new_pb_list\n",
    "    else:\n",
    "        df['next_patch_pb%'] = [None]*len(df)\n",
    "        \n",
    "    if patch_num > 677:\n",
    "        prev_df = all_draft_dfs[patch_num-1]\n",
    "        prev_pbs = dict(prev_df[['hero', 'pb%']].values)\n",
    "        old_pb_list = []\n",
    "        for hero in df['hero']:\n",
    "            if hero in prev_pbs:\n",
    "                old_pb_list.append(prev_pbs[hero])\n",
    "            else:\n",
    "                old_pb_list.append(None)\n",
    "        df['prev_patch_pb%'] = old_pb_list\n",
    "    else:\n",
    "        df['prev_patch_pb%'] = [None]*len(df)\n",
    "        \n",
    "    df['patch'] = [patch_num]*len(df)"
   ]
  },
  {
   "cell_type": "code",
   "execution_count": 144,
   "metadata": {
    "collapsed": false
   },
   "outputs": [
    {
     "data": {
      "text/html": [
       "<div>\n",
       "<table border=\"1\" class=\"dataframe\">\n",
       "  <thead>\n",
       "    <tr style=\"text-align: right;\">\n",
       "      <th></th>\n",
       "      <th></th>\n",
       "      <th>hero</th>\n",
       "      <th>pick%</th>\n",
       "      <th>ban%</th>\n",
       "      <th>pb%</th>\n",
       "      <th>times_pb</th>\n",
       "      <th>next_patch_pb%</th>\n",
       "      <th>prev_patch_pb%</th>\n",
       "      <th>patch</th>\n",
       "    </tr>\n",
       "  </thead>\n",
       "  <tbody>\n",
       "    <tr>\n",
       "      <th rowspan=\"3\" valign=\"top\">677</th>\n",
       "      <th>0</th>\n",
       "      <td>Batrider</td>\n",
       "      <td>24.0</td>\n",
       "      <td>76.0</td>\n",
       "      <td>99.9</td>\n",
       "      <td>1734</td>\n",
       "      <td>99.7</td>\n",
       "      <td>None</td>\n",
       "      <td>677</td>\n",
       "    </tr>\n",
       "    <tr>\n",
       "      <th>1</th>\n",
       "      <td>Nyx Assassin</td>\n",
       "      <td>33.7</td>\n",
       "      <td>61.7</td>\n",
       "      <td>95.3</td>\n",
       "      <td>1654</td>\n",
       "      <td>64</td>\n",
       "      <td>None</td>\n",
       "      <td>677</td>\n",
       "    </tr>\n",
       "    <tr>\n",
       "      <th>2</th>\n",
       "      <td>Magnus</td>\n",
       "      <td>49.1</td>\n",
       "      <td>41.2</td>\n",
       "      <td>90.3</td>\n",
       "      <td>1566</td>\n",
       "      <td>16.1</td>\n",
       "      <td>None</td>\n",
       "      <td>677</td>\n",
       "    </tr>\n",
       "  </tbody>\n",
       "</table>\n",
       "</div>"
      ],
      "text/plain": [
       "               hero  pick%  ban%   pb%  times_pb next_patch_pb%  \\\n",
       "677 0      Batrider   24.0  76.0  99.9      1734           99.7   \n",
       "    1  Nyx Assassin   33.7  61.7  95.3      1654             64   \n",
       "    2        Magnus   49.1  41.2  90.3      1566           16.1   \n",
       "\n",
       "      prev_patch_pb%  patch  \n",
       "677 0           None    677  \n",
       "    1           None    677  \n",
       "    2           None    677  "
      ]
     },
     "execution_count": 144,
     "metadata": {},
     "output_type": "execute_result"
    }
   ],
   "source": [
    "pd.concat(all_draft_dfs).head(3)"
   ]
  },
  {
   "cell_type": "code",
   "execution_count": 147,
   "metadata": {
    "collapsed": false
   },
   "outputs": [
    {
     "data": {
      "text/plain": [
       "686"
      ]
     },
     "execution_count": 147,
     "metadata": {},
     "output_type": "execute_result"
    }
   ],
   "source": [
    "max(all_draft_dfs.keys())"
   ]
  },
  {
   "cell_type": "code",
   "execution_count": null,
   "metadata": {
    "collapsed": true
   },
   "outputs": [],
   "source": []
  },
  {
   "cell_type": "code",
   "execution_count": null,
   "metadata": {
    "collapsed": true
   },
   "outputs": [],
   "source": []
  },
  {
   "cell_type": "code",
   "execution_count": 3,
   "metadata": {
    "collapsed": false
   },
   "outputs": [
    {
     "name": "stdout",
     "output_type": "stream",
     "text": [
      "heroes_677.csv   heroes_680.csv   heroes_682.csv   heroes_685.csv\r\n",
      "heroes_678.csv   heroes_681.csv   heroes_683.csv   heroes_686.csv\r\n",
      "heroes_679.csv   heroes_681b.csv  heroes_684.csv\r\n"
     ]
    }
   ],
   "source": [
    "ls ../data/hero_stats"
   ]
  },
  {
   "cell_type": "code",
   "execution_count": 5,
   "metadata": {
    "collapsed": false
   },
   "outputs": [],
   "source": [
    "heroes_677 = pd.read_csv('../data/hero_stats/heroes_677.csv')"
   ]
  },
  {
   "cell_type": "code",
   "execution_count": 6,
   "metadata": {
    "collapsed": false
   },
   "outputs": [
    {
     "data": {
      "text/html": [
       "<div>\n",
       "<table border=\"1\" class=\"dataframe\">\n",
       "  <thead>\n",
       "    <tr style=\"text-align: right;\">\n",
       "      <th></th>\n",
       "      <th>Hero</th>\n",
       "      <th>Name</th>\n",
       "      <th>Games</th>\n",
       "      <th>W</th>\n",
       "      <th>L</th>\n",
       "      <th>Win %</th>\n",
       "      <th>L.1</th>\n",
       "      <th>K</th>\n",
       "      <th>D</th>\n",
       "      <th>A</th>\n",
       "      <th>Tot. Gold</th>\n",
       "      <th>LH</th>\n",
       "      <th>Denies</th>\n",
       "      <th>GPM</th>\n",
       "      <th>XPM</th>\n",
       "    </tr>\n",
       "  </thead>\n",
       "  <tbody>\n",
       "    <tr>\n",
       "      <th>0</th>\n",
       "      <td>alchemist</td>\n",
       "      <td>Alchemist</td>\n",
       "      <td>176</td>\n",
       "      <td>91</td>\n",
       "      <td>85</td>\n",
       "      <td>0.517</td>\n",
       "      <td>17.6</td>\n",
       "      <td>4.7</td>\n",
       "      <td>4.1</td>\n",
       "      <td>8.9</td>\n",
       "      <td>19947.0</td>\n",
       "      <td>189.3</td>\n",
       "      <td>10.3</td>\n",
       "      <td>540.8</td>\n",
       "      <td>496.8</td>\n",
       "    </tr>\n",
       "    <tr>\n",
       "      <th>1</th>\n",
       "      <td>ancient_apparition</td>\n",
       "      <td>Ancient Apparition</td>\n",
       "      <td>49</td>\n",
       "      <td>19</td>\n",
       "      <td>30</td>\n",
       "      <td>0.388</td>\n",
       "      <td>10.7</td>\n",
       "      <td>2.4</td>\n",
       "      <td>5.7</td>\n",
       "      <td>8.1</td>\n",
       "      <td>6155.6</td>\n",
       "      <td>22.6</td>\n",
       "      <td>3.5</td>\n",
       "      <td>182.4</td>\n",
       "      <td>206.7</td>\n",
       "    </tr>\n",
       "    <tr>\n",
       "      <th>2</th>\n",
       "      <td>antimage</td>\n",
       "      <td>Anti Mage</td>\n",
       "      <td>282</td>\n",
       "      <td>144</td>\n",
       "      <td>138</td>\n",
       "      <td>0.511</td>\n",
       "      <td>20.1</td>\n",
       "      <td>6.6</td>\n",
       "      <td>2.9</td>\n",
       "      <td>4.8</td>\n",
       "      <td>21876.7</td>\n",
       "      <td>304.3</td>\n",
       "      <td>19.6</td>\n",
       "      <td>584.1</td>\n",
       "      <td>625.0</td>\n",
       "    </tr>\n",
       "    <tr>\n",
       "      <th>3</th>\n",
       "      <td>axe</td>\n",
       "      <td>Axe</td>\n",
       "      <td>19</td>\n",
       "      <td>8</td>\n",
       "      <td>11</td>\n",
       "      <td>0.421</td>\n",
       "      <td>13.6</td>\n",
       "      <td>5.4</td>\n",
       "      <td>5.1</td>\n",
       "      <td>5.9</td>\n",
       "      <td>9916.4</td>\n",
       "      <td>100.0</td>\n",
       "      <td>3.1</td>\n",
       "      <td>331.8</td>\n",
       "      <td>369.2</td>\n",
       "    </tr>\n",
       "    <tr>\n",
       "      <th>4</th>\n",
       "      <td>bane</td>\n",
       "      <td>Bane</td>\n",
       "      <td>431</td>\n",
       "      <td>212</td>\n",
       "      <td>219</td>\n",
       "      <td>0.492</td>\n",
       "      <td>12.4</td>\n",
       "      <td>2.8</td>\n",
       "      <td>5.1</td>\n",
       "      <td>8.0</td>\n",
       "      <td>7355.6</td>\n",
       "      <td>27.0</td>\n",
       "      <td>3.9</td>\n",
       "      <td>209.9</td>\n",
       "      <td>259.9</td>\n",
       "    </tr>\n",
       "  </tbody>\n",
       "</table>\n",
       "</div>"
      ],
      "text/plain": [
       "                 Hero                Name  Games    W    L  Win %   L.1    K  \\\n",
       "0           alchemist           Alchemist    176   91   85  0.517  17.6  4.7   \n",
       "1  ancient_apparition  Ancient Apparition     49   19   30  0.388  10.7  2.4   \n",
       "2            antimage           Anti Mage    282  144  138  0.511  20.1  6.6   \n",
       "3                 axe                 Axe     19    8   11  0.421  13.6  5.4   \n",
       "4                bane                Bane    431  212  219  0.492  12.4  2.8   \n",
       "\n",
       "     D    A  Tot. Gold     LH  Denies    GPM    XPM  \n",
       "0  4.1  8.9    19947.0  189.3    10.3  540.8  496.8  \n",
       "1  5.7  8.1     6155.6   22.6     3.5  182.4  206.7  \n",
       "2  2.9  4.8    21876.7  304.3    19.6  584.1  625.0  \n",
       "3  5.1  5.9     9916.4  100.0     3.1  331.8  369.2  \n",
       "4  5.1  8.0     7355.6   27.0     3.9  209.9  259.9  "
      ]
     },
     "execution_count": 6,
     "metadata": {},
     "output_type": "execute_result"
    }
   ],
   "source": [
    "heroes_677.head()"
   ]
  },
  {
   "cell_type": "code",
   "execution_count": 82,
   "metadata": {
    "collapsed": false
   },
   "outputs": [],
   "source": [
    "hero_patch_wrs = {}\n",
    "for i in xrange(677, 687):\n",
    "    df = pd.read_csv('../data/hero_stats/heroes_{0}.csv'.format(i))\n",
    "    df.loc[df[df['Hero']=='furion'].index[0], 'Name'] = \"Nature's Prophet\" # fix apostrophe\n",
    "    df.loc[df[df['Hero']=='antimage'].index[0], 'Name'] = \"Anti-Mage\" # fix hyphen\n",
    "    hero_patch_wrs[i] = df[['Name', 'W', 'L', 'Win %']].set_index('Name')"
   ]
  },
  {
   "cell_type": "code",
   "execution_count": 131,
   "metadata": {
    "collapsed": false
   },
   "outputs": [
    {
     "data": {
      "text/html": [
       "<div>\n",
       "<table border=\"1\" class=\"dataframe\">\n",
       "  <thead>\n",
       "    <tr style=\"text-align: right;\">\n",
       "      <th></th>\n",
       "      <th>W</th>\n",
       "      <th>L</th>\n",
       "      <th>Win %</th>\n",
       "    </tr>\n",
       "    <tr>\n",
       "      <th>Name</th>\n",
       "      <th></th>\n",
       "      <th></th>\n",
       "      <th></th>\n",
       "    </tr>\n",
       "  </thead>\n",
       "  <tbody>\n",
       "    <tr>\n",
       "      <th>Io</th>\n",
       "      <td>179</td>\n",
       "      <td>123</td>\n",
       "      <td>0.593</td>\n",
       "    </tr>\n",
       "    <tr>\n",
       "      <th>Chen</th>\n",
       "      <td>178</td>\n",
       "      <td>126</td>\n",
       "      <td>0.586</td>\n",
       "    </tr>\n",
       "    <tr>\n",
       "      <th>Dragon Knight</th>\n",
       "      <td>97</td>\n",
       "      <td>69</td>\n",
       "      <td>0.584</td>\n",
       "    </tr>\n",
       "    <tr>\n",
       "      <th>Nature's Prophet</th>\n",
       "      <td>314</td>\n",
       "      <td>243</td>\n",
       "      <td>0.564</td>\n",
       "    </tr>\n",
       "    <tr>\n",
       "      <th>Clockwerk</th>\n",
       "      <td>255</td>\n",
       "      <td>205</td>\n",
       "      <td>0.554</td>\n",
       "    </tr>\n",
       "  </tbody>\n",
       "</table>\n",
       "</div>"
      ],
      "text/plain": [
       "                    W    L  Win %\n",
       "Name                             \n",
       "Io                179  123  0.593\n",
       "Chen              178  126  0.586\n",
       "Dragon Knight      97   69  0.584\n",
       "Nature's Prophet  314  243  0.564\n",
       "Clockwerk         255  205  0.554"
      ]
     },
     "execution_count": 131,
     "metadata": {},
     "output_type": "execute_result"
    }
   ],
   "source": [
    "hero_patch_wrs[677][hero_patch_wrs[677]['W']>20].sort('Win %', ascending=False).head()"
   ]
  },
  {
   "cell_type": "code",
   "execution_count": 136,
   "metadata": {
    "collapsed": true
   },
   "outputs": [],
   "source": [
    "pairs_677 = pd.read_csv('../data/pair_stats/pairs_677.csv')"
   ]
  },
  {
   "cell_type": "code",
   "execution_count": 137,
   "metadata": {
    "collapsed": true
   },
   "outputs": [],
   "source": [
    "hero_pairs_by_patch = {}\n",
    "for i in xrange(677, 687):\n",
    "    df = pd.read_csv('../data/pair_stats/pairs_{0}.csv'.format(i))\n",
    "    hero_pairs_by_patch[i] = df"
   ]
  },
  {
   "cell_type": "code",
   "execution_count": 139,
   "metadata": {
    "collapsed": true
   },
   "outputs": [],
   "source": [
    "def check_sig(pair_wins, pair_losses, hero, hero_wr_df, threshold=0.1):\n",
    "    solo_wins = hero_wr_df.loc[hero]['W']\n",
    "    solo_losses = hero_wr_df.loc[hero]['L']\n",
    "    contingency_table = np.array([[pair_wins, pair_losses], [solo_wins, solo_losses]])\n",
    "    return stats.chi2_contingency(contingency_table)[1] < threshold"
   ]
  },
  {
   "cell_type": "code",
   "execution_count": 147,
   "metadata": {
    "collapsed": true
   },
   "outputs": [],
   "source": [
    "hero_ally_dicts = {}\n",
    "for i in xrange(677, 687):\n",
    "    pairs_df = hero_pairs_by_patch[i]\n",
    "    hero_wrs = hero_patch_wrs[i]\n",
    "    \n",
    "    hero_allies = defaultdict(list)\n",
    "    for _, pair in pairs_df.iterrows():\n",
    "        hero, other, joint_wr = pair['Name'], pair['Name.1'], pair['Win %']\n",
    "        hero = hero.replace('Natures Prophet', \"Nature's Prophet\").replace('Anti Mage', 'Anti-Mage')\n",
    "        other = other.replace('Natures Prophet', \"Nature's Prophet\").replace('Anti Mage', 'Anti-Mage')\n",
    "        hero_solo_wr = hero_wrs.loc[hero]['Win %']\n",
    "        other_solo_wr = hero_wrs.loc[other]['Win %']\n",
    "\n",
    "        hero_sig = check_sig(pair['W'], pair['L'], hero, hero_wrs)\n",
    "        other_sig = check_sig(pair['W'], pair['L'], other, hero_wrs)\n",
    "\n",
    "        hero_allies[hero].append((other, round(joint_wr - hero_solo_wr, 4), hero_sig))\n",
    "        hero_allies[other].append((hero, round(joint_wr - other_solo_wr, 4), other_sig)) \n",
    "\n",
    "    hero_ally_dicts[i] = hero_allies"
   ]
  },
  {
   "cell_type": "code",
   "execution_count": 156,
   "metadata": {
    "collapsed": false
   },
   "outputs": [
    {
     "data": {
      "text/plain": [
       "[('Bounty Hunter', 0.218, True),\n",
       " ('Dazzle', 0.18, True),\n",
       " ('Shadow Fiend', 0.106, False),\n",
       " ('Beastmaster', 0.104, False),\n",
       " ('Spirit Breaker', 0.091, False)]"
      ]
     },
     "execution_count": 156,
     "metadata": {},
     "output_type": "execute_result"
    }
   ],
   "source": [
    "sorted(hero_ally_dicts[684]['Leshrac'], key=lambda x: x[1], reverse=True)[:5]"
   ]
  },
  {
   "cell_type": "code",
   "execution_count": null,
   "metadata": {
    "collapsed": true
   },
   "outputs": [],
   "source": []
  }
 ],
 "metadata": {
  "kernelspec": {
   "display_name": "Python 2",
   "language": "python",
   "name": "python2"
  },
  "language_info": {
   "codemirror_mode": {
    "name": "ipython",
    "version": 2
   },
   "file_extension": ".py",
   "mimetype": "text/x-python",
   "name": "python",
   "nbconvert_exporter": "python",
   "pygments_lexer": "ipython2",
   "version": "2.7.10"
  }
 },
 "nbformat": 4,
 "nbformat_minor": 0
}
