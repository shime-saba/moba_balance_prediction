{
 "cells": [
  {
   "cell_type": "code",
   "execution_count": 1,
   "metadata": {
    "collapsed": true
   },
   "outputs": [],
   "source": [
    "import sys\n",
    "sys.path.append('../code')"
   ]
  },
  {
   "cell_type": "code",
   "execution_count": 37,
   "metadata": {
    "collapsed": true
   },
   "outputs": [],
   "source": [
    "import cPickle as pickle\n",
    "import pandas as pd\n",
    "import numpy as np\n",
    "\n",
    "from sklearn.metrics import mean_squared_error\n",
    "from sklearn.grid_search import GridSearchCV\n",
    "from sklearn.ensemble import GradientBoostingRegressor\n",
    "from sklearn.cross_validation import train_test_split\n",
    "from sklearn.ensemble import RandomForestRegressor\n",
    "\n",
    "import matplotlib.pyplot as plt\n",
    "plt.style.use('ggplot')\n",
    "%matplotlib inline"
   ]
  },
  {
   "cell_type": "code",
   "execution_count": 3,
   "metadata": {
    "collapsed": false
   },
   "outputs": [],
   "source": [
    "from add_model_features import add_features"
   ]
  },
  {
   "cell_type": "code",
   "execution_count": 4,
   "metadata": {
    "collapsed": true
   },
   "outputs": [],
   "source": [
    "with open('../data/all_patch_draft_dfs.pkl') as f:\n",
    "    patch_draft_dfs = pickle.load(f)\n",
    "del patch_draft_dfs['6.77']"
   ]
  },
  {
   "cell_type": "code",
   "execution_count": 5,
   "metadata": {
    "collapsed": false
   },
   "outputs": [
    {
     "name": "stderr",
     "output_type": "stream",
     "text": [
      "//anaconda/lib/python2.7/site-packages/numpy/core/_methods.py:59: RuntimeWarning: Mean of empty slice.\n",
      "  warnings.warn(\"Mean of empty slice.\", RuntimeWarning)\n"
     ]
    }
   ],
   "source": [
    "for key, df in patch_draft_dfs.iteritems():\n",
    "    df = df.copy()\n",
    "    patch_draft_dfs[key] = add_features(df)\n",
    "full_df = pd.concat(patch_draft_dfs, keys=None)"
   ]
  },
  {
   "cell_type": "code",
   "execution_count": 47,
   "metadata": {
    "collapsed": true
   },
   "outputs": [],
   "source": [
    "df_684 = patch_draft_dfs['6.84']"
   ]
  },
  {
   "cell_type": "code",
   "execution_count": 48,
   "metadata": {
    "collapsed": false
   },
   "outputs": [],
   "source": [
    "df_684['avg_pred'] = df_684['predictions'].apply(np.mean)"
   ]
  },
  {
   "cell_type": "code",
   "execution_count": 49,
   "metadata": {
    "collapsed": false
   },
   "outputs": [],
   "source": [
    "df_684['num_changes'] = df_684['predictions'].apply(np.size)"
   ]
  },
  {
   "cell_type": "code",
   "execution_count": 50,
   "metadata": {
    "collapsed": false
   },
   "outputs": [
    {
     "data": {
      "text/plain": [
       "array([ 0.8069,  0.7242,  0.9359])"
      ]
     },
     "execution_count": 50,
     "metadata": {},
     "output_type": "execute_result"
    }
   ],
   "source": [
    "df_684['predictions'][1]"
   ]
  },
  {
   "cell_type": "code",
   "execution_count": 52,
   "metadata": {
    "collapsed": false
   },
   "outputs": [],
   "source": [
    "num_numeric_changes = []\n",
    "for i, row in df_684.iterrows():\n",
    "    num_numeric_changes.append(np.sum(np.array(row['ratios']) >= 0))\n",
    "df_684['num_numeric_changes'] = num_numeric_changes"
   ]
  },
  {
   "cell_type": "code",
   "execution_count": 53,
   "metadata": {
    "collapsed": false
   },
   "outputs": [],
   "source": [
    "avg_ratio = []\n",
    "for ratio_list in df_684['ratios']:\n",
    "    ratios = np.array(ratio_list)\n",
    "    mean_ratio = np.mean(ratios[ratios >= 0])\n",
    "    if type(mean_ratio) in [float, np.float64] and not np.isnan(mean_ratio):\n",
    "        avg_ratio.append(np.mean(ratios[ratios >= 0]))\n",
    "    else:\n",
    "        avg_ratio.append(1)\n",
    "df_684['avg_ratio'] = avg_ratio"
   ]
  },
  {
   "cell_type": "code",
   "execution_count": 54,
   "metadata": {
    "collapsed": false
   },
   "outputs": [
    {
     "data": {
      "image/png": "[encoded data removed]",
      "text/plain": [
       "<matplotlib.figure.Figure at 0x1092fbc50>"
      ]
     },
     "metadata": {},
     "output_type": "display_data"
    }
   ],
   "source": [
    "all_preds = []\n",
    "for item in df_684['predictions']:\n",
    "    for sub_item in item:\n",
    "        all_preds.append(sub_item)\n",
    "_ = plt.hist(all_preds)"
   ]
  },
  {
   "cell_type": "code",
   "execution_count": 55,
   "metadata": {
    "collapsed": false
   },
   "outputs": [],
   "source": [
    "num_changes_0_4 = np.zeros(len(df_684))\n",
    "num_changes_4_6 = np.zeros(len(df_684))\n",
    "num_changes_6_7 = np.zeros(len(df_684))\n",
    "num_changes_7_8 = np.zeros(len(df_684))\n",
    "num_changes_8_9 = np.zeros(len(df_684))\n",
    "num_changes_9_10 = np.zeros(len(df_684))\n",
    "for i, pred_list in enumerate(df_684['predictions']):\n",
    "    for item in pred_list:\n",
    "        if 0 <= item < 0.4:\n",
    "            num_changes_0_4[i] += 1\n",
    "        elif 0.4 <= item < 0.6:\n",
    "            num_changes_4_6[i] += 1\n",
    "        elif 0.6 <= item < 0.7:\n",
    "            num_changes_6_7[i] += 1\n",
    "        elif 0.7 <= item < 0.8:\n",
    "            num_changes_7_8[i] += 1\n",
    "        elif 0.8 <= item < 0.9:\n",
    "            num_changes_8_9[i] += 1\n",
    "        elif item >= 0.9:\n",
    "            num_changes_9_10[i] += 1\n",
    "        else:\n",
    "            print 'some item got missed'\n",
    "df_684['num_changes_0_4'] = num_changes_0_4\n",
    "df_684['num_changes_4_6'] = num_changes_4_6\n",
    "df_684['num_changes_6_7'] = num_changes_6_7\n",
    "df_684['num_changes_7_8'] = num_changes_7_8\n",
    "df_684['num_changes_8_9'] = num_changes_8_9\n",
    "df_684['num_changes_9_10'] = num_changes_9_10"
   ]
  },
  {
   "cell_type": "code",
   "execution_count": 56,
   "metadata": {
    "collapsed": false
   },
   "outputs": [],
   "source": [
    "pred_dummies = pd.get_dummies(pd.cut(df_684['avg_pred'], [0, 0.4, 0.6, 0.7, 0.8, 0.9, 1.01]), prefix='avg_pred', dummy_na=True)\n",
    "df_684 = pd.concat([df_684, pred_dummies], axis=1)"
   ]
  },
  {
   "cell_type": "code",
   "execution_count": 57,
   "metadata": {
    "collapsed": false
   },
   "outputs": [],
   "source": [
    "composite_ally_change = np.zeros(len(df_684))\n",
    "composite_counter_change = np.zeros(len(df_684))\n",
    "for i, row in df_684.iterrows():\n",
    "    allies = row['prev_patch_allies']\n",
    "    counters = row['prev_patch_counters']\n",
    "    for ally in allies:\n",
    "        ally_pred = df_684[df_684['hero']==ally[0]]['avg_pred'].values[0]\n",
    "        if ally[1] > 0 and not np.isnan(ally_pred):\n",
    "            composite_ally_change[i] += ally[1] * ally_pred\n",
    "    for counter in counters:\n",
    "        counter_pred = df_684[df_684['hero']==counter[0]]['avg_pred'].values[0]\n",
    "        if not np.isnan(counter_pred):\n",
    "            composite_counter_change[i] += counter[1] * counter_pred\n",
    "\n",
    "df_684['composite_ally_change'] = composite_ally_change\n",
    "df_684['composite_counter_change'] = composite_counter_change"
   ]
  },
  {
   "cell_type": "code",
   "execution_count": 58,
   "metadata": {
    "collapsed": false
   },
   "outputs": [
    {
     "data": {
      "text/html": [
       "<div>\n",
       "<table border=\"1\" class=\"dataframe\">\n",
       "  <thead>\n",
       "    <tr style=\"text-align: right;\">\n",
       "      <th></th>\n",
       "      <th>0</th>\n",
       "      <th>1</th>\n",
       "      <th>2</th>\n",
       "      <th>3</th>\n",
       "    </tr>\n",
       "  </thead>\n",
       "  <tbody>\n",
       "    <tr>\n",
       "      <th>hero</th>\n",
       "      <td>Abaddon</td>\n",
       "      <td>Alchemist</td>\n",
       "      <td>Ancient Apparition</td>\n",
       "      <td>Anti-Mage</td>\n",
       "    </tr>\n",
       "    <tr>\n",
       "      <th>patch</th>\n",
       "      <td>6.84</td>\n",
       "      <td>6.84</td>\n",
       "      <td>6.84</td>\n",
       "      <td>6.84</td>\n",
       "    </tr>\n",
       "    <tr>\n",
       "      <th>text</th>\n",
       "      <td>[Borrowed Time can now be cast while disabled ...</td>\n",
       "      <td>[Unstable Concoction:\\n\\n Countdown can now be...</td>\n",
       "      <td>[Chilling Touch buff can now be removed by cli...</td>\n",
       "      <td>[]</td>\n",
       "    </tr>\n",
       "    <tr>\n",
       "      <th>text_no_abi</th>\n",
       "      <td>[can now be cast while disabled (same rules as...</td>\n",
       "      <td>[:\\n\\n Countdown can now be seen by enemies\\n\\...</td>\n",
       "      <td>[buff can now be removed by clicking on the bu...</td>\n",
       "      <td>[]</td>\n",
       "    </tr>\n",
       "    <tr>\n",
       "      <th>predictions</th>\n",
       "      <td>[0.921]</td>\n",
       "      <td>[0.8069, 0.7242, 0.9359]</td>\n",
       "      <td>[0.6837]</td>\n",
       "      <td>[]</td>\n",
       "    </tr>\n",
       "    <tr>\n",
       "      <th>ratios</th>\n",
       "      <td>[None]</td>\n",
       "      <td>[None, None, None]</td>\n",
       "      <td>[None]</td>\n",
       "      <td>[]</td>\n",
       "    </tr>\n",
       "    <tr>\n",
       "      <th>pick%</th>\n",
       "      <td>1.6</td>\n",
       "      <td>1.2</td>\n",
       "      <td>9.9</td>\n",
       "      <td>9.5</td>\n",
       "    </tr>\n",
       "    <tr>\n",
       "      <th>ban%</th>\n",
       "      <td>0.6</td>\n",
       "      <td>0.3</td>\n",
       "      <td>15.1</td>\n",
       "      <td>14.7</td>\n",
       "    </tr>\n",
       "    <tr>\n",
       "      <th>pb%</th>\n",
       "      <td>2.2</td>\n",
       "      <td>1.4</td>\n",
       "      <td>25</td>\n",
       "      <td>24.2</td>\n",
       "    </tr>\n",
       "    <tr>\n",
       "      <th>times_pb</th>\n",
       "      <td>34</td>\n",
       "      <td>22</td>\n",
       "      <td>391</td>\n",
       "      <td>378</td>\n",
       "    </tr>\n",
       "    <tr>\n",
       "      <th>prev_patch_pb%</th>\n",
       "      <td>4.9</td>\n",
       "      <td>1.1</td>\n",
       "      <td>44.3</td>\n",
       "      <td>17</td>\n",
       "    </tr>\n",
       "    <tr>\n",
       "      <th>prev_patch_winrate</th>\n",
       "      <td>0.543</td>\n",
       "      <td>0.6</td>\n",
       "      <td>0.524</td>\n",
       "      <td>0.447</td>\n",
       "    </tr>\n",
       "    <tr>\n",
       "      <th>prev_patch_allies</th>\n",
       "      <td>[]</td>\n",
       "      <td>[]</td>\n",
       "      <td>[(Vengeful Spirit, -0.028, False), (Lion, 0.05...</td>\n",
       "      <td>[]</td>\n",
       "    </tr>\n",
       "    <tr>\n",
       "      <th>prev_patch_counters</th>\n",
       "      <td>[]</td>\n",
       "      <td>[]</td>\n",
       "      <td>[(Dazzle, 0.124, True), (Shadow Fiend, 0.107, ...</td>\n",
       "      <td>[]</td>\n",
       "    </tr>\n",
       "    <tr>\n",
       "      <th>avg_pred</th>\n",
       "      <td>0.921</td>\n",
       "      <td>0.8223333</td>\n",
       "      <td>0.6837</td>\n",
       "      <td>NaN</td>\n",
       "    </tr>\n",
       "    <tr>\n",
       "      <th>num_changes</th>\n",
       "      <td>1</td>\n",
       "      <td>3</td>\n",
       "      <td>1</td>\n",
       "      <td>0</td>\n",
       "    </tr>\n",
       "    <tr>\n",
       "      <th>num_numeric_changes</th>\n",
       "      <td>0</td>\n",
       "      <td>0</td>\n",
       "      <td>0</td>\n",
       "      <td>0</td>\n",
       "    </tr>\n",
       "    <tr>\n",
       "      <th>avg_ratio</th>\n",
       "      <td>1</td>\n",
       "      <td>1</td>\n",
       "      <td>1</td>\n",
       "      <td>1</td>\n",
       "    </tr>\n",
       "    <tr>\n",
       "      <th>num_changes_0_4</th>\n",
       "      <td>0</td>\n",
       "      <td>0</td>\n",
       "      <td>0</td>\n",
       "      <td>0</td>\n",
       "    </tr>\n",
       "    <tr>\n",
       "      <th>num_changes_4_6</th>\n",
       "      <td>0</td>\n",
       "      <td>0</td>\n",
       "      <td>0</td>\n",
       "      <td>0</td>\n",
       "    </tr>\n",
       "    <tr>\n",
       "      <th>num_changes_6_7</th>\n",
       "      <td>0</td>\n",
       "      <td>0</td>\n",
       "      <td>1</td>\n",
       "      <td>0</td>\n",
       "    </tr>\n",
       "    <tr>\n",
       "      <th>num_changes_7_8</th>\n",
       "      <td>0</td>\n",
       "      <td>1</td>\n",
       "      <td>0</td>\n",
       "      <td>0</td>\n",
       "    </tr>\n",
       "    <tr>\n",
       "      <th>num_changes_8_9</th>\n",
       "      <td>0</td>\n",
       "      <td>1</td>\n",
       "      <td>0</td>\n",
       "      <td>0</td>\n",
       "    </tr>\n",
       "    <tr>\n",
       "      <th>num_changes_9_10</th>\n",
       "      <td>1</td>\n",
       "      <td>1</td>\n",
       "      <td>0</td>\n",
       "      <td>0</td>\n",
       "    </tr>\n",
       "    <tr>\n",
       "      <th>avg_pred_(0, 0.4]</th>\n",
       "      <td>0</td>\n",
       "      <td>0</td>\n",
       "      <td>0</td>\n",
       "      <td>0</td>\n",
       "    </tr>\n",
       "    <tr>\n",
       "      <th>avg_pred_(0.4, 0.6]</th>\n",
       "      <td>0</td>\n",
       "      <td>0</td>\n",
       "      <td>0</td>\n",
       "      <td>0</td>\n",
       "    </tr>\n",
       "    <tr>\n",
       "      <th>avg_pred_(0.6, 0.7]</th>\n",
       "      <td>0</td>\n",
       "      <td>0</td>\n",
       "      <td>1</td>\n",
       "      <td>0</td>\n",
       "    </tr>\n",
       "    <tr>\n",
       "      <th>avg_pred_(0.7, 0.8]</th>\n",
       "      <td>0</td>\n",
       "      <td>0</td>\n",
       "      <td>0</td>\n",
       "      <td>0</td>\n",
       "    </tr>\n",
       "    <tr>\n",
       "      <th>avg_pred_(0.8, 0.9]</th>\n",
       "      <td>0</td>\n",
       "      <td>1</td>\n",
       "      <td>0</td>\n",
       "      <td>0</td>\n",
       "    </tr>\n",
       "    <tr>\n",
       "      <th>avg_pred_(0.9, 1.01]</th>\n",
       "      <td>1</td>\n",
       "      <td>0</td>\n",
       "      <td>0</td>\n",
       "      <td>0</td>\n",
       "    </tr>\n",
       "    <tr>\n",
       "      <th>avg_pred_nan</th>\n",
       "      <td>0</td>\n",
       "      <td>0</td>\n",
       "      <td>0</td>\n",
       "      <td>1</td>\n",
       "    </tr>\n",
       "    <tr>\n",
       "      <th>composite_ally_change</th>\n",
       "      <td>0</td>\n",
       "      <td>0</td>\n",
       "      <td>0.3510297</td>\n",
       "      <td>0</td>\n",
       "    </tr>\n",
       "    <tr>\n",
       "      <th>composite_counter_change</th>\n",
       "      <td>0</td>\n",
       "      <td>0</td>\n",
       "      <td>0.04679873</td>\n",
       "      <td>0</td>\n",
       "    </tr>\n",
       "  </tbody>\n",
       "</table>\n",
       "</div>"
      ],
      "text/plain": [
       "                                                                          0  \\\n",
       "hero                                                                Abaddon   \n",
       "patch                                                                  6.84   \n",
       "text                      [Borrowed Time can now be cast while disabled ...   \n",
       "text_no_abi               [can now be cast while disabled (same rules as...   \n",
       "predictions                                                         [0.921]   \n",
       "ratios                                                               [None]   \n",
       "pick%                                                                   1.6   \n",
       "ban%                                                                    0.6   \n",
       "pb%                                                                     2.2   \n",
       "times_pb                                                                 34   \n",
       "prev_patch_pb%                                                          4.9   \n",
       "prev_patch_winrate                                                    0.543   \n",
       "prev_patch_allies                                                        []   \n",
       "prev_patch_counters                                                      []   \n",
       "avg_pred                                                              0.921   \n",
       "num_changes                                                               1   \n",
       "num_numeric_changes                                                       0   \n",
       "avg_ratio                                                                 1   \n",
       "num_changes_0_4                                                           0   \n",
       "num_changes_4_6                                                           0   \n",
       "num_changes_6_7                                                           0   \n",
       "num_changes_7_8                                                           0   \n",
       "num_changes_8_9                                                           0   \n",
       "num_changes_9_10                                                          1   \n",
       "avg_pred_(0, 0.4]                                                         0   \n",
       "avg_pred_(0.4, 0.6]                                                       0   \n",
       "avg_pred_(0.6, 0.7]                                                       0   \n",
       "avg_pred_(0.7, 0.8]                                                       0   \n",
       "avg_pred_(0.8, 0.9]                                                       0   \n",
       "avg_pred_(0.9, 1.01]                                                      1   \n",
       "avg_pred_nan                                                              0   \n",
       "composite_ally_change                                                     0   \n",
       "composite_counter_change                                                  0   \n",
       "\n",
       "                                                                          1  \\\n",
       "hero                                                              Alchemist   \n",
       "patch                                                                  6.84   \n",
       "text                      [Unstable Concoction:\\n\\n Countdown can now be...   \n",
       "text_no_abi               [:\\n\\n Countdown can now be seen by enemies\\n\\...   \n",
       "predictions                                        [0.8069, 0.7242, 0.9359]   \n",
       "ratios                                                   [None, None, None]   \n",
       "pick%                                                                   1.2   \n",
       "ban%                                                                    0.3   \n",
       "pb%                                                                     1.4   \n",
       "times_pb                                                                 22   \n",
       "prev_patch_pb%                                                          1.1   \n",
       "prev_patch_winrate                                                      0.6   \n",
       "prev_patch_allies                                                        []   \n",
       "prev_patch_counters                                                      []   \n",
       "avg_pred                                                          0.8223333   \n",
       "num_changes                                                               3   \n",
       "num_numeric_changes                                                       0   \n",
       "avg_ratio                                                                 1   \n",
       "num_changes_0_4                                                           0   \n",
       "num_changes_4_6                                                           0   \n",
       "num_changes_6_7                                                           0   \n",
       "num_changes_7_8                                                           1   \n",
       "num_changes_8_9                                                           1   \n",
       "num_changes_9_10                                                          1   \n",
       "avg_pred_(0, 0.4]                                                         0   \n",
       "avg_pred_(0.4, 0.6]                                                       0   \n",
       "avg_pred_(0.6, 0.7]                                                       0   \n",
       "avg_pred_(0.7, 0.8]                                                       0   \n",
       "avg_pred_(0.8, 0.9]                                                       1   \n",
       "avg_pred_(0.9, 1.01]                                                      0   \n",
       "avg_pred_nan                                                              0   \n",
       "composite_ally_change                                                     0   \n",
       "composite_counter_change                                                  0   \n",
       "\n",
       "                                                                          2  \\\n",
       "hero                                                     Ancient Apparition   \n",
       "patch                                                                  6.84   \n",
       "text                      [Chilling Touch buff can now be removed by cli...   \n",
       "text_no_abi               [buff can now be removed by clicking on the bu...   \n",
       "predictions                                                        [0.6837]   \n",
       "ratios                                                               [None]   \n",
       "pick%                                                                   9.9   \n",
       "ban%                                                                   15.1   \n",
       "pb%                                                                      25   \n",
       "times_pb                                                                391   \n",
       "prev_patch_pb%                                                         44.3   \n",
       "prev_patch_winrate                                                    0.524   \n",
       "prev_patch_allies         [(Vengeful Spirit, -0.028, False), (Lion, 0.05...   \n",
       "prev_patch_counters       [(Dazzle, 0.124, True), (Shadow Fiend, 0.107, ...   \n",
       "avg_pred                                                             0.6837   \n",
       "num_changes                                                               1   \n",
       "num_numeric_changes                                                       0   \n",
       "avg_ratio                                                                 1   \n",
       "num_changes_0_4                                                           0   \n",
       "num_changes_4_6                                                           0   \n",
       "num_changes_6_7                                                           1   \n",
       "num_changes_7_8                                                           0   \n",
       "num_changes_8_9                                                           0   \n",
       "num_changes_9_10                                                          0   \n",
       "avg_pred_(0, 0.4]                                                         0   \n",
       "avg_pred_(0.4, 0.6]                                                       0   \n",
       "avg_pred_(0.6, 0.7]                                                       1   \n",
       "avg_pred_(0.7, 0.8]                                                       0   \n",
       "avg_pred_(0.8, 0.9]                                                       0   \n",
       "avg_pred_(0.9, 1.01]                                                      0   \n",
       "avg_pred_nan                                                              0   \n",
       "composite_ally_change                                             0.3510297   \n",
       "composite_counter_change                                         0.04679873   \n",
       "\n",
       "                                  3  \n",
       "hero                      Anti-Mage  \n",
       "patch                          6.84  \n",
       "text                             []  \n",
       "text_no_abi                      []  \n",
       "predictions                      []  \n",
       "ratios                           []  \n",
       "pick%                           9.5  \n",
       "ban%                           14.7  \n",
       "pb%                            24.2  \n",
       "times_pb                        378  \n",
       "prev_patch_pb%                   17  \n",
       "prev_patch_winrate            0.447  \n",
       "prev_patch_allies                []  \n",
       "prev_patch_counters              []  \n",
       "avg_pred                        NaN  \n",
       "num_changes                       0  \n",
       "num_numeric_changes               0  \n",
       "avg_ratio                         1  \n",
       "num_changes_0_4                   0  \n",
       "num_changes_4_6                   0  \n",
       "num_changes_6_7                   0  \n",
       "num_changes_7_8                   0  \n",
       "num_changes_8_9                   0  \n",
       "num_changes_9_10                  0  \n",
       "avg_pred_(0, 0.4]                 0  \n",
       "avg_pred_(0.4, 0.6]               0  \n",
       "avg_pred_(0.6, 0.7]               0  \n",
       "avg_pred_(0.7, 0.8]               0  \n",
       "avg_pred_(0.8, 0.9]               0  \n",
       "avg_pred_(0.9, 1.01]              0  \n",
       "avg_pred_nan                      1  \n",
       "composite_ally_change             0  \n",
       "composite_counter_change          0  "
      ]
     },
     "execution_count": 58,
     "metadata": {},
     "output_type": "execute_result"
    }
   ],
   "source": [
    "df_684.head(4).T"
   ]
  },
  {
   "cell_type": "code",
   "execution_count": 59,
   "metadata": {
    "collapsed": true
   },
   "outputs": [],
   "source": [
    "df_test = df_684.copy()\n",
    "df_test.drop(['hero', 'patch', 'text', 'text_no_abi', 'predictions', 'ratios', 'pick%',\n",
    "              'ban%', 'times_pb', 'prev_patch_allies', 'prev_patch_counters', 'avg_pred'], axis=1, inplace=True)\n",
    "\n",
    "df_test['prev_patch_pb%'].fillna(0, inplace=True)\n",
    "df_test['prev_patch_winrate'].fillna(0, inplace=True)"
   ]
  },
  {
   "cell_type": "code",
   "execution_count": 60,
   "metadata": {
    "collapsed": false
   },
   "outputs": [],
   "source": [
    "target = df_test.pop('pb%').values"
   ]
  },
  {
   "cell_type": "code",
   "execution_count": 61,
   "metadata": {
    "collapsed": true
   },
   "outputs": [],
   "source": [
    "X = df_test.values"
   ]
  },
  {
   "cell_type": "code",
   "execution_count": 62,
   "metadata": {
    "collapsed": false
   },
   "outputs": [
    {
     "data": {
      "text/plain": [
       "RandomForestRegressor(bootstrap=True, criterion='mse', max_depth=None,\n",
       "           max_features='auto', max_leaf_nodes=None, min_samples_leaf=1,\n",
       "           min_samples_split=2, min_weight_fraction_leaf=0.0,\n",
       "           n_estimators=100, n_jobs=-1, oob_score=False, random_state=None,\n",
       "           verbose=0, warm_start=False)"
      ]
     },
     "execution_count": 62,
     "metadata": {},
     "output_type": "execute_result"
    }
   ],
   "source": [
    "from sklearn.ensemble import RandomForestRegressor\n",
    "rf = RandomForestRegressor(n_estimators=100, n_jobs=-1)\n",
    "rf.fit(X, target)"
   ]
  },
  {
   "cell_type": "code",
   "execution_count": 64,
   "metadata": {
    "collapsed": false
   },
   "outputs": [
    {
     "data": {
      "text/plain": [
       "58.562912499999953"
      ]
     },
     "execution_count": 64,
     "metadata": {},
     "output_type": "execute_result"
    }
   ],
   "source": [
    "mean_squared_error(target, rf.predict(X))"
   ]
  },
  {
   "cell_type": "code",
   "execution_count": 65,
   "metadata": {
    "collapsed": false
   },
   "outputs": [
    {
     "data": {
      "text/plain": [
       "636.64851851851859"
      ]
     },
     "execution_count": 65,
     "metadata": {},
     "output_type": "execute_result"
    }
   ],
   "source": [
    "mean_squared_error(target, df_test['prev_patch_pb%'])"
   ]
  },
  {
   "cell_type": "code",
   "execution_count": 74,
   "metadata": {
    "collapsed": true
   },
   "outputs": [],
   "source": [
    "X_train, X_test, y_train, y_test, prev_train, prev_test = train_test_split(X, target, df_test['prev_patch_pb%'].values, random_state=0)"
   ]
  },
  {
   "cell_type": "code",
   "execution_count": 75,
   "metadata": {
    "collapsed": false
   },
   "outputs": [
    {
     "data": {
      "text/plain": [
       "RandomForestRegressor(bootstrap=True, criterion='mse', max_depth=None,\n",
       "           max_features='auto', max_leaf_nodes=None, min_samples_leaf=1,\n",
       "           min_samples_split=2, min_weight_fraction_leaf=0.0,\n",
       "           n_estimators=100, n_jobs=-1, oob_score=False, random_state=0,\n",
       "           verbose=0, warm_start=False)"
      ]
     },
     "execution_count": 75,
     "metadata": {},
     "output_type": "execute_result"
    }
   ],
   "source": [
    "rf = RandomForestRegressor(n_estimators=100, n_jobs=-1, random_state=0)\n",
    "rf.fit(X_train, y_train)"
   ]
  },
  {
   "cell_type": "code",
   "execution_count": 76,
   "metadata": {
    "collapsed": false
   },
   "outputs": [
    {
     "data": {
      "text/plain": [
       "366.12833203703713"
      ]
     },
     "execution_count": 76,
     "metadata": {},
     "output_type": "execute_result"
    }
   ],
   "source": [
    "mean_squared_error(y_test, rf.predict(X_test))"
   ]
  },
  {
   "cell_type": "code",
   "execution_count": 77,
   "metadata": {
    "collapsed": false
   },
   "outputs": [
    {
     "data": {
      "text/plain": [
       "485.72629629629625"
      ]
     },
     "execution_count": 77,
     "metadata": {},
     "output_type": "execute_result"
    }
   ],
   "source": [
    "mean_squared_error(y_test, prev_test)"
   ]
  },
  {
   "cell_type": "code",
   "execution_count": null,
   "metadata": {
    "collapsed": true
   },
   "outputs": [],
   "source": []
  },
  {
   "cell_type": "code",
   "execution_count": 78,
   "metadata": {
    "collapsed": false
   },
   "outputs": [
    {
     "data": {
      "text/plain": [
       "559.02705517942172"
      ]
     },
     "execution_count": 78,
     "metadata": {},
     "output_type": "execute_result"
    }
   ],
   "source": [
    "gbr = GradientBoostingRegressor(random_state=0)\n",
    "gbr.fit(X_train, y_train)\n",
    "mean_squared_error(y_test, gbr.predict(X_test))"
   ]
  },
  {
   "cell_type": "code",
   "execution_count": 79,
   "metadata": {
    "collapsed": false
   },
   "outputs": [],
   "source": [
    "min_val = 0\n",
    "min_mse = float('inf')\n",
    "for const in np.linspace(0, 100, num=1000):\n",
    "    if mean_squared_error(y_test, [const]*len(y_test)) < min_mse:\n",
    "        min_val = const\n",
    "        min_mse = mean_squared_error(y_test, [const]*len(y_test))"
   ]
  },
  {
   "cell_type": "code",
   "execution_count": 80,
   "metadata": {
    "collapsed": false
   },
   "outputs": [
    {
     "data": {
      "text/plain": [
       "393.61410524638762"
      ]
     },
     "execution_count": 80,
     "metadata": {},
     "output_type": "execute_result"
    }
   ],
   "source": [
    "min_mse"
   ]
  },
  {
   "cell_type": "code",
   "execution_count": null,
   "metadata": {
    "collapsed": true
   },
   "outputs": [],
   "source": []
  },
  {
   "cell_type": "code",
   "execution_count": 103,
   "metadata": {
    "collapsed": true
   },
   "outputs": [],
   "source": [
    "df_test = full_df.copy()\n",
    "df_test.drop(['hero', 'patch', 'text', 'text_no_abi', 'predictions', 'ratios', 'pick%',\n",
    "              'ban%', 'times_pb', 'prev_patch_allies', 'prev_patch_counters', 'avg_pred'], axis=1, inplace=True)\n",
    "df_test['prev_patch_pb%'].fillna(0, inplace=True)\n",
    "df_test['prev_patch_winrate'].fillna(0, inplace=True)"
   ]
  },
  {
   "cell_type": "code",
   "execution_count": 104,
   "metadata": {
    "collapsed": true
   },
   "outputs": [],
   "source": [
    "target = df_test.pop('pb%').values"
   ]
  },
  {
   "cell_type": "code",
   "execution_count": 105,
   "metadata": {
    "collapsed": true
   },
   "outputs": [],
   "source": [
    "X = df_test.values"
   ]
  },
  {
   "cell_type": "code",
   "execution_count": 106,
   "metadata": {
    "collapsed": false
   },
   "outputs": [
    {
     "data": {
      "text/plain": [
       "array([0, 0, 0, 0, 0, 0, 0, 0, 0, 0, 0, 0, 0, 0, 0, 0, 0, 0, 0, 0])"
      ]
     },
     "execution_count": 106,
     "metadata": {},
     "output_type": "execute_result"
    }
   ],
   "source": [
    "sum(np.isnan(X))"
   ]
  },
  {
   "cell_type": "code",
   "execution_count": 107,
   "metadata": {
    "collapsed": false
   },
   "outputs": [
    {
     "data": {
      "text/plain": [
       "array([0, 0, 0, 0, 0, 0, 0, 0, 0, 0, 0, 0, 0, 0, 0, 0, 0, 0, 0, 0])"
      ]
     },
     "execution_count": 107,
     "metadata": {},
     "output_type": "execute_result"
    }
   ],
   "source": [
    "sum(np.isinf(X))"
   ]
  },
  {
   "cell_type": "code",
   "execution_count": 108,
   "metadata": {
    "collapsed": true
   },
   "outputs": [],
   "source": [
    "X_train, X_test, y_train, y_test, prev_train, prev_test = train_test_split(X, target, df_test['prev_patch_pb%'].values, random_state=0)"
   ]
  },
  {
   "cell_type": "code",
   "execution_count": 109,
   "metadata": {
    "collapsed": false
   },
   "outputs": [
    {
     "data": {
      "text/plain": [
       "RandomForestRegressor(bootstrap=True, criterion='mse', max_depth=None,\n",
       "           max_features='auto', max_leaf_nodes=None, min_samples_leaf=1,\n",
       "           min_samples_split=2, min_weight_fraction_leaf=0.0,\n",
       "           n_estimators=100, n_jobs=-1, oob_score=False, random_state=0,\n",
       "           verbose=0, warm_start=False)"
      ]
     },
     "execution_count": 109,
     "metadata": {},
     "output_type": "execute_result"
    }
   ],
   "source": [
    "rf = RandomForestRegressor(n_estimators=100, n_jobs=-1, random_state=0)\n",
    "rf.fit(X_train, y_train)"
   ]
  },
  {
   "cell_type": "code",
   "execution_count": 117,
   "metadata": {
    "collapsed": false
   },
   "outputs": [
    {
     "data": {
      "text/plain": [
       "1439.0450355970875"
      ]
     },
     "execution_count": 117,
     "metadata": {},
     "output_type": "execute_result"
    }
   ],
   "source": [
    "mean_squared_error(y_test[y_test>50], rf.predict(X_test[y_test>50]))"
   ]
  },
  {
   "cell_type": "code",
   "execution_count": 118,
   "metadata": {
    "collapsed": false
   },
   "outputs": [
    {
     "data": {
      "text/plain": [
       "1326.4490000000003"
      ]
     },
     "execution_count": 118,
     "metadata": {},
     "output_type": "execute_result"
    }
   ],
   "source": [
    "mean_squared_error(y_test[y_test>50], prev_test[y_test>50])"
   ]
  },
  {
   "cell_type": "code",
   "execution_count": 110,
   "metadata": {
    "collapsed": false
   },
   "outputs": [
    {
     "data": {
      "text/plain": [
       "386.66237973540717"
      ]
     },
     "execution_count": 110,
     "metadata": {},
     "output_type": "execute_result"
    }
   ],
   "source": [
    "mean_squared_error(y_test, rf.predict(X_test))"
   ]
  },
  {
   "cell_type": "code",
   "execution_count": 111,
   "metadata": {
    "collapsed": false
   },
   "outputs": [
    {
     "data": {
      "text/plain": [
       "409.25851063829782"
      ]
     },
     "execution_count": 111,
     "metadata": {},
     "output_type": "execute_result"
    }
   ],
   "source": [
    "mean_squared_error(y_test, prev_test)"
   ]
  },
  {
   "cell_type": "code",
   "execution_count": 17,
   "metadata": {
    "collapsed": true
   },
   "outputs": [],
   "source": [
    "min_val = 0\n",
    "min_mse = float('inf')\n",
    "for const in np.linspace(0, 100, num=1000):\n",
    "    if mean_squared_error(y_test, [const]*len(y_test)) < min_mse:\n",
    "        min_val = const\n",
    "        min_mse = mean_squared_error(y_test, [const]*len(y_test))"
   ]
  },
  {
   "cell_type": "code",
   "execution_count": 18,
   "metadata": {
    "collapsed": false
   },
   "outputs": [
    {
     "data": {
      "text/plain": [
       "496.62189136108611"
      ]
     },
     "execution_count": 18,
     "metadata": {},
     "output_type": "execute_result"
    }
   ],
   "source": [
    "min_mse"
   ]
  },
  {
   "cell_type": "code",
   "execution_count": 19,
   "metadata": {
    "collapsed": false
   },
   "outputs": [
    {
     "data": {
      "text/plain": [
       "393.93970939006778"
      ]
     },
     "execution_count": 19,
     "metadata": {},
     "output_type": "execute_result"
    }
   ],
   "source": [
    "gbr = GradientBoostingRegressor(random_state=0)\n",
    "gbr.fit(X_train, y_train)\n",
    "mean_squared_error(y_test, gbr.predict(X_test))"
   ]
  },
  {
   "cell_type": "code",
   "execution_count": 32,
   "metadata": {
    "collapsed": false
   },
   "outputs": [
    {
     "data": {
      "text/plain": [
       "1775.9359259259259"
      ]
     },
     "execution_count": 32,
     "metadata": {},
     "output_type": "execute_result"
    }
   ],
   "source": [
    "full_50_pbr = full_df[full_df['pb%'] > 50]\n",
    "df_test = full_50_pbr.copy()\n",
    "df_test.drop(['hero', 'patch', 'text', 'text_no_abi', 'predictions', 'ratios', 'pick%',\n",
    "              'ban%', 'times_pb', 'prev_patch_allies', 'prev_patch_counters', 'avg_pred'], axis=1, inplace=True)\n",
    "df_test['prev_patch_pb%'].fillna(0, inplace=True)\n",
    "df_test['prev_patch_winrate'].fillna(0, inplace=True)\n",
    "target = df_test.pop('pb%').values\n",
    "X = df_test.values\n",
    "X_train, X_test, y_train, y_test, prev_train, prev_test = train_test_split(X, target, df_test['prev_patch_pb%'].values, random_state=0)\n",
    "mean_squared_error(y_test, prev_test)"
   ]
  },
  {
   "cell_type": "code",
   "execution_count": 25,
   "metadata": {
    "collapsed": false
   },
   "outputs": [
    {
     "data": {
      "text/plain": [
       "223.52739766666662"
      ]
     },
     "execution_count": 25,
     "metadata": {},
     "output_type": "execute_result"
    }
   ],
   "source": [
    "rf = RandomForestRegressor(n_estimators=100, n_jobs=-1, random_state=0)\n",
    "rf.fit(X_train, y_train)\n",
    "mean_squared_error(y_test, rf.predict(X_test))"
   ]
  },
  {
   "cell_type": "code",
   "execution_count": 26,
   "metadata": {
    "collapsed": false
   },
   "outputs": [
    {
     "data": {
      "text/plain": [
       "array([ 1,  0, 18,  4, 19,  3,  2, 10, 13,  5, 12, 16,  7,  9, 17, 15,  8,\n",
       "       11, 14,  6])"
      ]
     },
     "execution_count": 26,
     "metadata": {},
     "output_type": "execute_result"
    }
   ],
   "source": [
    "np.argsort(rf.feature_importances_)[::-1]"
   ]
  },
  {
   "cell_type": "code",
   "execution_count": 27,
   "metadata": {
    "collapsed": false
   },
   "outputs": [
    {
     "data": {
      "text/plain": [
       "array([ 0.20937991,  0.2776114 ,  0.02892706,  0.03147612,  0.09887913,\n",
       "        0.01657886,  0.00200939,  0.01169385,  0.00935406,  0.01132311,\n",
       "        0.0223219 ,  0.00901818,  0.01429229,  0.0207023 ,  0.0036592 ,\n",
       "        0.00944983,  0.01411839,  0.01041966,  0.1112362 ,  0.08754917])"
      ]
     },
     "execution_count": 27,
     "metadata": {},
     "output_type": "execute_result"
    }
   ],
   "source": [
    "rf.feature_importances_"
   ]
  },
  {
   "cell_type": "code",
   "execution_count": 28,
   "metadata": {
    "collapsed": false
   },
   "outputs": [
    {
     "data": {
      "text/plain": [
       "Index([u'prev_patch_winrate', u'prev_patch_pb%', u'composite_ally_change',\n",
       "       u'avg_ratio', u'composite_counter_change', u'num_numeric_changes',\n",
       "       u'num_changes', u'num_changes_9_10', u'avg_pred_(0.6, 0.7]',\n",
       "       u'num_changes_0_4', u'avg_pred_(0.4, 0.6]', u'avg_pred_(0.9, 1.01]',\n",
       "       u'num_changes_6_7', u'num_changes_8_9', u'avg_pred_nan',\n",
       "       u'avg_pred_(0.8, 0.9]', u'num_changes_7_8', u'avg_pred_(0, 0.4]',\n",
       "       u'avg_pred_(0.7, 0.8]', u'num_changes_4_6'],\n",
       "      dtype='object')"
      ]
     },
     "execution_count": 28,
     "metadata": {},
     "output_type": "execute_result"
    }
   ],
   "source": [
    "df_test.columns[np.argsort(rf.feature_importances_)[::-1]]"
   ]
  },
  {
   "cell_type": "code",
   "execution_count": 29,
   "metadata": {
    "collapsed": false
   },
   "outputs": [
    {
     "data": {
      "text/plain": [
       "242.80731618447172"
      ]
     },
     "execution_count": 29,
     "metadata": {},
     "output_type": "execute_result"
    }
   ],
   "source": [
    "gbr = GradientBoostingRegressor()\n",
    "gbr.fit(X_train, y_train)\n",
    "mean_squared_error(y_test, gbr.predict(X_test))"
   ]
  },
  {
   "cell_type": "code",
   "execution_count": 31,
   "metadata": {
    "collapsed": false
   },
   "outputs": [
    {
     "data": {
      "text/plain": [
       "Index([u'composite_counter_change', u'prev_patch_winrate', u'prev_patch_pb%',\n",
       "       u'composite_ally_change', u'avg_ratio', u'num_numeric_changes',\n",
       "       u'num_changes', u'num_changes_6_7', u'num_changes_8_9',\n",
       "       u'num_changes_0_4', u'num_changes_9_10', u'avg_pred_(0.6, 0.7]',\n",
       "       u'avg_pred_(0.8, 0.9]', u'avg_pred_(0.4, 0.6]', u'avg_pred_(0.9, 1.01]',\n",
       "       u'avg_pred_nan', u'avg_pred_(0, 0.4]', u'num_changes_7_8',\n",
       "       u'avg_pred_(0.7, 0.8]', u'num_changes_4_6'],\n",
       "      dtype='object')"
      ]
     },
     "execution_count": 31,
     "metadata": {},
     "output_type": "execute_result"
    }
   ],
   "source": [
    "df_test.columns[np.argsort(gbr.feature_importances_)[::-1]]"
   ]
  },
  {
   "cell_type": "code",
   "execution_count": 96,
   "metadata": {
    "collapsed": false
   },
   "outputs": [
    {
     "data": {
      "text/plain": [
       "939"
      ]
     },
     "execution_count": 96,
     "metadata": {},
     "output_type": "execute_result"
    }
   ],
   "source": [
    "len(full_df)"
   ]
  },
  {
   "cell_type": "code",
   "execution_count": 64,
   "metadata": {
    "collapsed": false
   },
   "outputs": [
    {
     "data": {
      "text/plain": [
       "1195.7710714285713"
      ]
     },
     "execution_count": 64,
     "metadata": {},
     "output_type": "execute_result"
    }
   ],
   "source": [
    "full_50_old_pbr = full_df[full_df['prev_patch_pb%'] > 50]\n",
    "df_test = full_50_old_pbr.copy()\n",
    "df_test.drop(['hero', 'patch', 'text', 'text_no_abi', 'predictions', 'ratios', 'pick%',\n",
    "              'ban%', 'times_pb', 'prev_patch_allies', 'prev_patch_counters', 'avg_pred'], axis=1, inplace=True)\n",
    "df_test['prev_patch_pb%'].fillna(0, inplace=True)\n",
    "df_test['prev_patch_winrate'].fillna(0, inplace=True)\n",
    "target = df_test.pop('pb%').values\n",
    "X = df_test.values\n",
    "X_train, X_test, y_train, y_test, prev_train, prev_test = train_test_split(X, target, df_test['prev_patch_pb%'].values, random_state=0)\n",
    "mean_squared_error(y_test, prev_test)"
   ]
  },
  {
   "cell_type": "code",
   "execution_count": 65,
   "metadata": {
    "collapsed": false
   },
   "outputs": [
    {
     "data": {
      "text/plain": [
       "584.14243707142873"
      ]
     },
     "execution_count": 65,
     "metadata": {},
     "output_type": "execute_result"
    }
   ],
   "source": [
    "rf = RandomForestRegressor(n_estimators=100, n_jobs=-1, random_state=0)\n",
    "rf.fit(X_train, y_train)\n",
    "mean_squared_error(y_test, rf.predict(X_test))"
   ]
  },
  {
   "cell_type": "code",
   "execution_count": 66,
   "metadata": {
    "collapsed": true
   },
   "outputs": [],
   "source": [
    "rf_grid = {'max_depth': [3, None],\n",
    "           'max_features': [1, 3, 10],\n",
    "           'min_samples_split': [1, 3, 10],\n",
    "           'min_samples_leaf': [1, 3, 10],\n",
    "           'bootstrap': [True, False],\n",
    "           'n_estimators': [75, 100, 125],\n",
    "           'random_state': [0]}"
   ]
  },
  {
   "cell_type": "code",
   "execution_count": 41,
   "metadata": {
    "collapsed": false
   },
   "outputs": [
    {
     "name": "stdout",
     "output_type": "stream",
     "text": [
      "Fitting 3 folds for each of 324 candidates, totalling 972 fits\n"
     ]
    },
    {
     "name": "stderr",
     "output_type": "stream",
     "text": [
      "[Parallel(n_jobs=-1)]: Done   1 jobs       | elapsed:    0.1s\n",
      "[Parallel(n_jobs=-1)]: Done  50 jobs       | elapsed:    1.6s\n",
      "[Parallel(n_jobs=-1)]: Done 200 jobs       | elapsed:    5.9s\n",
      "[Parallel(n_jobs=-1)]: Done 450 jobs       | elapsed:   13.3s\n",
      "[Parallel(n_jobs=-1)]: Done 800 jobs       | elapsed:   23.3s\n",
      "[Parallel(n_jobs=-1)]: Done 966 out of 972 | elapsed:   28.0s remaining:    0.2s\n",
      "[Parallel(n_jobs=-1)]: Done 972 out of 972 | elapsed:   28.1s finished\n"
     ]
    }
   ],
   "source": [
    "rf_grid = GridSearchCV(RandomForestRegressor(), rf_grid, n_jobs=-1, verbose=True, scoring='mean_squared_error').fit(X_train, y_train)\n",
    "rf_grid.best_params_"
   ]
  },
  {
   "cell_type": "code",
   "execution_count": 67,
   "metadata": {
    "collapsed": false
   },
   "outputs": [
    {
     "data": {
      "text/plain": [
       "535.91623700170578"
      ]
     },
     "execution_count": 67,
     "metadata": {},
     "output_type": "execute_result"
    }
   ],
   "source": [
    "rf = RandomForestRegressor(n_estimators=100, max_depth=3, min_samples_split=1, min_samples_leaf=10, max_features=10, bootstrap=False, random_state=0, n_jobs=-1)\n",
    "rf.fit(X_train, y_train)\n",
    "mean_squared_error(y_test, rf.predict(X_test))"
   ]
  },
  {
   "cell_type": "code",
   "execution_count": 68,
   "metadata": {
    "collapsed": false
   },
   "outputs": [
    {
     "data": {
      "text/plain": [
       "array([ 45.25120575,  60.28464549,  38.62805973,  56.22536897,\n",
       "        38.31459701,  46.9041385 ,  34.83471453,  46.27998374,\n",
       "        38.28716123,  39.53884425,  42.2724415 ,  39.43804038,\n",
       "        38.37839499,  39.43343791,  39.40273358,  33.74044467,\n",
       "        60.05181088,  52.69691315,  59.35341293,  44.30998547,\n",
       "        38.81661048,  45.56271274,  58.30354386,  38.66006502,\n",
       "        42.70185476,  39.17390369,  41.73207721,  51.21052615])"
      ]
     },
     "execution_count": 68,
     "metadata": {},
     "output_type": "execute_result"
    }
   ],
   "source": [
    "rf.predict(X_test)"
   ]
  },
  {
   "cell_type": "code",
   "execution_count": 69,
   "metadata": {
    "collapsed": false
   },
   "outputs": [
    {
     "data": {
      "text/plain": [
       "array([ 87.9,  63.4,  41.4,  40.4,  87.4,  16.1,   5.8,  63.2,  57.1,\n",
       "        42.9,  33.2,  54.1,  33.8,  69.5,   1.8,  36.4,  21. ,  62.8,\n",
       "        57.6,  25.2,  40.9,  22.1,  66. ,  66.9,  70. ,  27. ,  26.4,  81. ])"
      ]
     },
     "execution_count": 69,
     "metadata": {},
     "output_type": "execute_result"
    }
   ],
   "source": [
    "y_test"
   ]
  },
  {
   "cell_type": "code",
   "execution_count": 70,
   "metadata": {
    "collapsed": false
   },
   "outputs": [
    {
     "data": {
      "text/plain": [
       "array([ 82.8,  91.9,  58.5,  93.6,  68.5,  90.3,  76.3,  71. ,  54.1,\n",
       "        66. ,  64. ,  66.1,  57.7,  76.9,  58.7,  59.1,  86.7,  57.1,\n",
       "        89.3,  53.5,  53.3,  51.1,  88.8,  55.6,  50.9,  76.2,  71. ,  74.6])"
      ]
     },
     "execution_count": 70,
     "metadata": {},
     "output_type": "execute_result"
    }
   ],
   "source": [
    "prev_test"
   ]
  },
  {
   "cell_type": "code",
   "execution_count": 102,
   "metadata": {
    "collapsed": false
   },
   "outputs": [
    {
     "data": {
      "text/plain": [
       "[<matplotlib.lines.Line2D at 0x10f463a10>]"
      ]
     },
     "execution_count": 102,
     "metadata": {},
     "output_type": "execute_result"
    },
    {
     "data": {
      "image/png": "[encoded data removed]",
      "text/plain": [
       "<matplotlib.figure.Figure at 0x10e7c7650>"
      ]
     },
     "metadata": {},
     "output_type": "display_data"
    }
   ],
   "source": [
    "plt.figure(figsize=(15, 6))\n",
    "plt.xlim(-1, len(prev_test))\n",
    "plt.plot(range(len(prev_test)), prev_test, linewidth=2)\n",
    "plt.plot(range(len(prev_test)), y_test, linewidth=2)\n",
    "plt.plot(range(len(prev_test)), rf.predict(X_test), '--', linewidth=2, color='black')\n"
   ]
  },
  {
   "cell_type": "code",
   "execution_count": 55,
   "metadata": {
    "collapsed": false
   },
   "outputs": [
    {
     "data": {
      "text/plain": [
       "1775.9359259259259"
      ]
     },
     "execution_count": 55,
     "metadata": {},
     "output_type": "execute_result"
    }
   ],
   "source": [
    "full_50_pbr = full_df[full_df['pb%'] > 50]\n",
    "df_test = full_50_pbr.copy()\n",
    "df_test.drop(['hero', 'patch', 'text', 'text_no_abi', 'predictions', 'ratios', 'pick%',\n",
    "              'ban%', 'times_pb', 'prev_patch_allies', 'prev_patch_counters', 'avg_pred'], axis=1, inplace=True)\n",
    "df_test['prev_patch_pb%'].fillna(0, inplace=True)\n",
    "df_test['prev_patch_winrate'].fillna(0, inplace=True)\n",
    "target = df_test.pop('pb%').values\n",
    "X = df_test.values\n",
    "X_train, X_test, y_train, y_test, prev_train, prev_test = train_test_split(X, target, df_test['prev_patch_pb%'].values, random_state=0)\n",
    "mean_squared_error(y_test, prev_test)"
   ]
  },
  {
   "cell_type": "code",
   "execution_count": 57,
   "metadata": {
    "collapsed": false
   },
   "outputs": [
    {
     "name": "stdout",
     "output_type": "stream",
     "text": [
      "Fitting 3 folds for each of 324 candidates, totalling 972 fits\n"
     ]
    },
    {
     "name": "stderr",
     "output_type": "stream",
     "text": [
      "[Parallel(n_jobs=-1)]: Done   1 jobs       | elapsed:    0.1s\n",
      "[Parallel(n_jobs=-1)]: Done  50 jobs       | elapsed:    1.5s\n",
      "[Parallel(n_jobs=-1)]: Done 200 jobs       | elapsed:    6.4s\n",
      "[Parallel(n_jobs=-1)]: Done 450 jobs       | elapsed:   14.0s\n",
      "[Parallel(n_jobs=-1)]: Done 800 jobs       | elapsed:   24.3s\n",
      "[Parallel(n_jobs=-1)]: Done 966 out of 972 | elapsed:   28.9s remaining:    0.2s\n",
      "[Parallel(n_jobs=-1)]: Done 972 out of 972 | elapsed:   29.1s finished\n"
     ]
    },
    {
     "data": {
      "text/plain": [
       "{'bootstrap': True,\n",
       " 'max_depth': 3,\n",
       " 'max_features': 1,\n",
       " 'min_samples_leaf': 10,\n",
       " 'min_samples_split': 1,\n",
       " 'n_estimators': 125,\n",
       " 'random_state': 0}"
      ]
     },
     "execution_count": 57,
     "metadata": {},
     "output_type": "execute_result"
    }
   ],
   "source": [
    "rf_grid = GridSearchCV(RandomForestRegressor(), rf_grid, n_jobs=-1, verbose=True, scoring='mean_squared_error').fit(X_train, y_train)\n",
    "rf_grid.best_params_"
   ]
  },
  {
   "cell_type": "code",
   "execution_count": 58,
   "metadata": {
    "collapsed": false
   },
   "outputs": [
    {
     "data": {
      "text/plain": [
       "172.76590610262497"
      ]
     },
     "execution_count": 58,
     "metadata": {},
     "output_type": "execute_result"
    }
   ],
   "source": [
    "rf = RandomForestRegressor(n_estimators=125, max_depth=3, min_samples_split=1, min_samples_leaf=10, max_features=1, bootstrap=True, random_state=0, n_jobs=-1)\n",
    "rf.fit(X_train, y_train)\n",
    "mean_squared_error(y_test, rf.predict(X_test))"
   ]
  },
  {
   "cell_type": "code",
   "execution_count": 146,
   "metadata": {
    "collapsed": true
   },
   "outputs": [],
   "source": [
    "# this looks good but is unfortunately cheating"
   ]
  },
  {
   "cell_type": "code",
   "execution_count": null,
   "metadata": {
    "collapsed": true
   },
   "outputs": [],
   "source": []
  },
  {
   "cell_type": "code",
   "execution_count": 119,
   "metadata": {
    "collapsed": true
   },
   "outputs": [],
   "source": [
    "for key, df in patch_draft_dfs.iteritems():\n",
    "    df = df.copy()\n",
    "    patch_draft_dfs[key] = add_features(df)\n",
    "df_686 = patch_draft_dfs.pop('6.86')\n",
    "df_no_686 = pd.concat(patch_draft_dfs, keys=None)"
   ]
  },
  {
   "cell_type": "code",
   "execution_count": 150,
   "metadata": {
    "collapsed": false
   },
   "outputs": [],
   "source": [
    "df_train = df_no_686.copy()\n",
    "df_train.drop(['hero', 'patch', 'text', 'text_no_abi', 'predictions', 'ratios', 'pick%',\n",
    "              'ban%', 'times_pb', 'prev_patch_allies', 'prev_patch_counters', 'avg_pred'], axis=1, inplace=True)\n",
    "df_train['prev_patch_pb%'] = df_test['prev_patch_pb%'].fillna(0)\n",
    "df_train['prev_patch_winrate'] = df_test['prev_patch_winrate'].fillna(0)\n",
    "y_train = df_train.pop('pb%').values\n",
    "X_train = df_train.values"
   ]
  },
  {
   "cell_type": "code",
   "execution_count": 152,
   "metadata": {
    "collapsed": false
   },
   "outputs": [],
   "source": [
    "df_test = df_686.copy()\n",
    "df_test.drop(['hero', 'patch', 'text', 'text_no_abi', 'predictions', 'ratios', 'pick%',\n",
    "              'ban%', 'times_pb', 'prev_patch_allies', 'prev_patch_counters', 'avg_pred'], axis=1, inplace=True)\n",
    "df_test['prev_patch_pb%'] = df_test['prev_patch_pb%'].fillna(0)\n",
    "df_test['prev_patch_winrate'] = df_test['prev_patch_winrate'].fillna(0)\n",
    "y_test = df_test.pop('pb%').values\n",
    "X_test = df_test.values"
   ]
  },
  {
   "cell_type": "code",
   "execution_count": 153,
   "metadata": {
    "collapsed": false
   },
   "outputs": [
    {
     "data": {
      "text/plain": [
       "247.06583265945136"
      ]
     },
     "execution_count": 153,
     "metadata": {},
     "output_type": "execute_result"
    }
   ],
   "source": [
    "rf = RandomForestRegressor(n_estimators=100, n_jobs=-1, random_state=0)\n",
    "rf.fit(X_train, y_train)\n",
    "mean_squared_error(y_test, rf.predict(X_test))"
   ]
  },
  {
   "cell_type": "code",
   "execution_count": 154,
   "metadata": {
    "collapsed": false
   },
   "outputs": [
    {
     "data": {
      "text/plain": [
       "275.51773584905652"
      ]
     },
     "execution_count": 154,
     "metadata": {},
     "output_type": "execute_result"
    }
   ],
   "source": [
    "mean_squared_error(y_test, df_test['prev_patch_pb%'].values)"
   ]
  },
  {
   "cell_type": "code",
   "execution_count": 166,
   "metadata": {
    "collapsed": false
   },
   "outputs": [
    {
     "data": {
      "text/plain": [
       "<matplotlib.legend.Legend at 0x110ed2d10>"
      ]
     },
     "execution_count": 166,
     "metadata": {},
     "output_type": "execute_result"
    },
    {
     "data": {
      "image/png": "[encoded data removed]",
      "text/plain": [
       "<matplotlib.figure.Figure at 0x10dad48d0>"
      ]
     },
     "metadata": {},
     "output_type": "display_data"
    }
   ],
   "source": [
    "plt.figure(figsize=(20, 8))\n",
    "plt.xlim(-1, len(y_test))\n",
    "plt.plot(range(len(y_test)), df_test['prev_patch_pb%'].values, linewidth=2, label=\"prev pb%\")\n",
    "plt.plot(range(len(y_test)), y_test, linewidth=2, label='new pb%')\n",
    "plt.plot(range(len(y_test)), rf.predict(X_test), '--', linewidth=2, color='black', label='prediction')\n",
    "plt.legend()"
   ]
  },
  {
   "cell_type": "code",
   "execution_count": 163,
   "metadata": {
    "collapsed": false
   },
   "outputs": [
    {
     "name": "stdout",
     "output_type": "stream",
     "text": [
      "Fitting 3 folds for each of 324 candidates, totalling 972 fits\n"
     ]
    },
    {
     "name": "stderr",
     "output_type": "stream",
     "text": [
      "[Parallel(n_jobs=-1)]: Done   1 jobs       | elapsed:    0.1s\n",
      "[Parallel(n_jobs=-1)]: Done  50 jobs       | elapsed:    1.7s\n",
      "[Parallel(n_jobs=-1)]: Done 200 jobs       | elapsed:    7.3s\n",
      "[Parallel(n_jobs=-1)]: Done 450 jobs       | elapsed:   18.9s\n",
      "[Parallel(n_jobs=-1)]: Done 800 jobs       | elapsed:   33.9s\n",
      "[Parallel(n_jobs=-1)]: Done 966 out of 972 | elapsed:   44.1s remaining:    0.3s\n",
      "[Parallel(n_jobs=-1)]: Done 972 out of 972 | elapsed:   44.5s finished\n"
     ]
    },
    {
     "data": {
      "text/plain": [
       "{'bootstrap': True,\n",
       " 'max_depth': None,\n",
       " 'max_features': 10,\n",
       " 'min_samples_leaf': 10,\n",
       " 'min_samples_split': 1,\n",
       " 'n_estimators': 75,\n",
       " 'random_state': 0}"
      ]
     },
     "execution_count": 163,
     "metadata": {},
     "output_type": "execute_result"
    }
   ],
   "source": [
    "rf_grid = {'max_depth': [3, None],\n",
    "           'max_features': [5, 7, 10, 12],\n",
    "           'min_samples_split': [1, 2, 5],\n",
    "           'min_samples_leaf': [5, 7, 10, 12],\n",
    "           'bootstrap': [True, False],\n",
    "           'n_estimators': [50, 75, 100],\n",
    "           'random_state': [0]}\n",
    "rf_opt = GridSearchCV(RandomForestRegressor(), rf_grid, n_jobs=-1, verbose=True, scoring='mean_squared_error').fit(X_train, y_train)\n",
    "rf_opt.best_params_"
   ]
  },
  {
   "cell_type": "code",
   "execution_count": 164,
   "metadata": {
    "collapsed": false
   },
   "outputs": [
    {
     "data": {
      "text/plain": [
       "204.29697437253068"
      ]
     },
     "execution_count": 164,
     "metadata": {},
     "output_type": "execute_result"
    }
   ],
   "source": [
    "rf = RandomForestRegressor(n_estimators=75, min_samples_split=1, min_samples_leaf=10, max_features=10, n_jobs=-1, random_state=0)\n",
    "rf.fit(X_train, y_train)\n",
    "mean_squared_error(y_test, rf.predict(X_test))"
   ]
  },
  {
   "cell_type": "code",
   "execution_count": null,
   "metadata": {
    "collapsed": true
   },
   "outputs": [],
   "source": []
  }
 ],
 "metadata": {
  "kernelspec": {
   "display_name": "Python 2",
   "language": "python",
   "name": "python2"
  },
  "language_info": {
   "codemirror_mode": {
    "name": "ipython",
    "version": 2
   },
   "file_extension": ".py",
   "mimetype": "text/x-python",
   "name": "python",
   "nbconvert_exporter": "python",
   "pygments_lexer": "ipython2",
   "version": "2.7.10"
  }
 },
 "nbformat": 4,
 "nbformat_minor": 0
}
