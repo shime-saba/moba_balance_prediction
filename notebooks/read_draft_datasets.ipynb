{
 "cells": [
  {
   "cell_type": "code",
   "execution_count": 1,
   "metadata": {
    "collapsed": true
   },
   "outputs": [],
   "source": [
    "import pandas as pd\n",
    "import cPickle as pickle"
   ]
  },
  {
   "cell_type": "code",
   "execution_count": 5,
   "metadata": {
    "collapsed": false
   },
   "outputs": [
    {
     "name": "stdout",
     "output_type": "stream",
     "text": [
      "drafts_677.csv   drafts_680.csv   drafts_682.csv   drafts_685.csv\r\n",
      "drafts_678.csv   drafts_681.csv   drafts_683.csv\r\n",
      "drafts_679.csv   drafts_681b.csv  drafts_684.csv\r\n"
     ]
    }
   ],
   "source": [
    "ls ../data/draft_stats/"
   ]
  },
  {
   "cell_type": "code",
   "execution_count": 85,
   "metadata": {
    "collapsed": true
   },
   "outputs": [],
   "source": [
    "df_677 = pd.read_csv('../data/draft_stats/drafts_677.csv')"
   ]
  },
  {
   "cell_type": "code",
   "execution_count": 100,
   "metadata": {
    "collapsed": false
   },
   "outputs": [],
   "source": [
    "df_677.loc[df_677[df_677['Hero']=='furion'].index[0], 'Name'] = \"Nature's Prophet\""
   ]
  },
  {
   "cell_type": "code",
   "execution_count": 140,
   "metadata": {
    "collapsed": false
   },
   "outputs": [
    {
     "data": {
      "text/plain": [
       "\"Nature's Prophet\""
      ]
     },
     "execution_count": 140,
     "metadata": {},
     "output_type": "execute_result"
    }
   ],
   "source": [
    "df_677.ix[12]['Name']"
   ]
  },
  {
   "cell_type": "code",
   "execution_count": 27,
   "metadata": {
    "collapsed": false
   },
   "outputs": [
    {
     "data": {
      "text/html": [
       "<div>\n",
       "<table border=\"1\" class=\"dataframe\">\n",
       "  <thead>\n",
       "    <tr style=\"text-align: right;\">\n",
       "      <th></th>\n",
       "      <th>Hero</th>\n",
       "      <th>Name</th>\n",
       "      <th>Pick %</th>\n",
       "      <th>Ban %</th>\n",
       "      <th>Pick or Ban %</th>\n",
       "      <th>Times Picked</th>\n",
       "      <th>Times Banned</th>\n",
       "      <th>Times Picked or Banned</th>\n",
       "    </tr>\n",
       "  </thead>\n",
       "  <tbody>\n",
       "    <tr>\n",
       "      <th>30</th>\n",
       "      <td>alchemist</td>\n",
       "      <td>Alchemist</td>\n",
       "      <td>9.4</td>\n",
       "      <td>10.1</td>\n",
       "      <td>19.5</td>\n",
       "      <td>163</td>\n",
       "      <td>175</td>\n",
       "      <td>338</td>\n",
       "    </tr>\n",
       "    <tr>\n",
       "      <th>62</th>\n",
       "      <td>ancient_apparition</td>\n",
       "      <td>Ancient Apparition</td>\n",
       "      <td>2.7</td>\n",
       "      <td>1.3</td>\n",
       "      <td>4.0</td>\n",
       "      <td>46</td>\n",
       "      <td>23</td>\n",
       "      <td>69</td>\n",
       "    </tr>\n",
       "    <tr>\n",
       "      <th>19</th>\n",
       "      <td>antimage</td>\n",
       "      <td>Anti Mage</td>\n",
       "      <td>15.2</td>\n",
       "      <td>18.9</td>\n",
       "      <td>34.1</td>\n",
       "      <td>264</td>\n",
       "      <td>328</td>\n",
       "      <td>592</td>\n",
       "    </tr>\n",
       "    <tr>\n",
       "      <th>78</th>\n",
       "      <td>axe</td>\n",
       "      <td>Axe</td>\n",
       "      <td>1.0</td>\n",
       "      <td>0.1</td>\n",
       "      <td>1.1</td>\n",
       "      <td>17</td>\n",
       "      <td>2</td>\n",
       "      <td>19</td>\n",
       "    </tr>\n",
       "    <tr>\n",
       "      <th>17</th>\n",
       "      <td>bane</td>\n",
       "      <td>Bane</td>\n",
       "      <td>22.6</td>\n",
       "      <td>17.5</td>\n",
       "      <td>40.1</td>\n",
       "      <td>392</td>\n",
       "      <td>304</td>\n",
       "      <td>696</td>\n",
       "    </tr>\n",
       "  </tbody>\n",
       "</table>\n",
       "</div>"
      ],
      "text/plain": [
       "                  Hero                Name  Pick %  Ban %  Pick or Ban %  \\\n",
       "30           alchemist           Alchemist     9.4   10.1           19.5   \n",
       "62  ancient_apparition  Ancient Apparition     2.7    1.3            4.0   \n",
       "19            antimage           Anti Mage    15.2   18.9           34.1   \n",
       "78                 axe                 Axe     1.0    0.1            1.1   \n",
       "17                bane                Bane    22.6   17.5           40.1   \n",
       "\n",
       "    Times Picked  Times Banned  Times Picked or Banned  \n",
       "30           163           175                     338  \n",
       "62            46            23                      69  \n",
       "19           264           328                     592  \n",
       "78            17             2                      19  \n",
       "17           392           304                     696  "
      ]
     },
     "execution_count": 27,
     "metadata": {},
     "output_type": "execute_result"
    }
   ],
   "source": [
    "df_677.sort('Name').head()"
   ]
  },
  {
   "cell_type": "code",
   "execution_count": 141,
   "metadata": {
    "collapsed": false
   },
   "outputs": [],
   "source": [
    "all_draft_dfs = {}\n",
    "for i in xrange(677, 687):\n",
    "    df = pd.read_csv('../data/draft_stats/drafts_{0}.csv'.format(i))\n",
    "    df.loc[df[df['Hero']=='furion'].index[0], 'Name'] = \"Nature's Prophet\" # fix apostrophe\n",
    "    df.drop(['Hero', 'Times Picked', 'Times Banned'], axis=1, inplace=True)\n",
    "    df.columns = ['hero', 'pick%', 'ban%', 'pb%', 'times_pb']\n",
    "    all_draft_dfs[i] = df.copy()"
   ]
  },
  {
   "cell_type": "code",
   "execution_count": 142,
   "metadata": {
    "collapsed": false
   },
   "outputs": [],
   "source": [
    "for patch_num, df in all_draft_dfs.iteritems():\n",
    "    if patch_num < 686:\n",
    "        next_df = all_draft_dfs[patch_num+1]\n",
    "        next_pbs = dict(next_df[['hero', 'pb%']].values)\n",
    "        new_pb_list = []\n",
    "        for hero in df['hero']:\n",
    "            if hero in next_pbs:\n",
    "                new_pb_list.append(next_pbs[hero])\n",
    "            else:\n",
    "                new_pb_list.append(None)\n",
    "        df['next_patch_pb%'] = new_pb_list\n",
    "    else:\n",
    "        df['next_patch_pb%'] = [None]*len(df)\n",
    "        \n",
    "    if patch_num > 677:\n",
    "        prev_df = all_draft_dfs[patch_num-1]\n",
    "        prev_pbs = dict(prev_df[['hero', 'pb%']].values)\n",
    "        old_pb_list = []\n",
    "        for hero in df['hero']:\n",
    "            if hero in prev_pbs:\n",
    "                old_pb_list.append(prev_pbs[hero])\n",
    "            else:\n",
    "                old_pb_list.append(None)\n",
    "        df['prev_patch_pb%'] = old_pb_list\n",
    "    else:\n",
    "        df['prev_patch_pb%'] = [None]*len(df)\n",
    "        \n",
    "    df['patch'] = [patch_num]*len(df)"
   ]
  },
  {
   "cell_type": "code",
   "execution_count": 144,
   "metadata": {
    "collapsed": false
   },
   "outputs": [
    {
     "data": {
      "text/html": [
       "<div>\n",
       "<table border=\"1\" class=\"dataframe\">\n",
       "  <thead>\n",
       "    <tr style=\"text-align: right;\">\n",
       "      <th></th>\n",
       "      <th></th>\n",
       "      <th>hero</th>\n",
       "      <th>pick%</th>\n",
       "      <th>ban%</th>\n",
       "      <th>pb%</th>\n",
       "      <th>times_pb</th>\n",
       "      <th>next_patch_pb%</th>\n",
       "      <th>prev_patch_pb%</th>\n",
       "      <th>patch</th>\n",
       "    </tr>\n",
       "  </thead>\n",
       "  <tbody>\n",
       "    <tr>\n",
       "      <th rowspan=\"3\" valign=\"top\">677</th>\n",
       "      <th>0</th>\n",
       "      <td>Batrider</td>\n",
       "      <td>24.0</td>\n",
       "      <td>76.0</td>\n",
       "      <td>99.9</td>\n",
       "      <td>1734</td>\n",
       "      <td>99.7</td>\n",
       "      <td>None</td>\n",
       "      <td>677</td>\n",
       "    </tr>\n",
       "    <tr>\n",
       "      <th>1</th>\n",
       "      <td>Nyx Assassin</td>\n",
       "      <td>33.7</td>\n",
       "      <td>61.7</td>\n",
       "      <td>95.3</td>\n",
       "      <td>1654</td>\n",
       "      <td>64</td>\n",
       "      <td>None</td>\n",
       "      <td>677</td>\n",
       "    </tr>\n",
       "    <tr>\n",
       "      <th>2</th>\n",
       "      <td>Magnus</td>\n",
       "      <td>49.1</td>\n",
       "      <td>41.2</td>\n",
       "      <td>90.3</td>\n",
       "      <td>1566</td>\n",
       "      <td>16.1</td>\n",
       "      <td>None</td>\n",
       "      <td>677</td>\n",
       "    </tr>\n",
       "  </tbody>\n",
       "</table>\n",
       "</div>"
      ],
      "text/plain": [
       "               hero  pick%  ban%   pb%  times_pb next_patch_pb%  \\\n",
       "677 0      Batrider   24.0  76.0  99.9      1734           99.7   \n",
       "    1  Nyx Assassin   33.7  61.7  95.3      1654             64   \n",
       "    2        Magnus   49.1  41.2  90.3      1566           16.1   \n",
       "\n",
       "      prev_patch_pb%  patch  \n",
       "677 0           None    677  \n",
       "    1           None    677  \n",
       "    2           None    677  "
      ]
     },
     "execution_count": 144,
     "metadata": {},
     "output_type": "execute_result"
    }
   ],
   "source": [
    "pd.concat(all_draft_dfs).head(3)"
   ]
  },
  {
   "cell_type": "code",
   "execution_count": 147,
   "metadata": {
    "collapsed": false
   },
   "outputs": [
    {
     "data": {
      "text/plain": [
       "686"
      ]
     },
     "execution_count": 147,
     "metadata": {},
     "output_type": "execute_result"
    }
   ],
   "source": [
    "max(all_draft_dfs.keys())"
   ]
  },
  {
   "cell_type": "code",
   "execution_count": null,
   "metadata": {
    "collapsed": true
   },
   "outputs": [],
   "source": []
  }
 ],
 "metadata": {
  "kernelspec": {
   "display_name": "Python 2",
   "language": "python",
   "name": "python2"
  },
  "language_info": {
   "codemirror_mode": {
    "name": "ipython",
    "version": 2
   },
   "file_extension": ".py",
   "mimetype": "text/x-python",
   "name": "python",
   "nbconvert_exporter": "python",
   "pygments_lexer": "ipython2",
   "version": "2.7.10"
  }
 },
 "nbformat": 4,
 "nbformat_minor": 0
}
