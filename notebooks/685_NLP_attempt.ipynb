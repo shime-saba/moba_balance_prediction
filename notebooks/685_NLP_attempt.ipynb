{
 "cells": [
  {
   "cell_type": "code",
   "execution_count": 3,
   "metadata": {
    "collapsed": true
   },
   "outputs": [],
   "source": [
    "import pandas as pd\n",
    "import numpy as np\n",
    "import cPickle as pickle\n",
    "import random\n",
    "import re\n",
    "import matplotlib.pyplot as plt\n",
    "plt.style.use('ggplot')\n",
    "%matplotlib inline\n",
    "\n",
    "from sklearn.metrics import roc_auc_score\n",
    "from sklearn.metrics import roc_curve\n",
    "from sklearn.cross_validation import train_test_split\n",
    "from sklearn.feature_extraction.text import CountVectorizer, TfidfVectorizer\n",
    "from sklearn.naive_bayes import MultinomialNB\n",
    "from sklearn.ensemble import RandomForestClassifier\n",
    "from sklearn.ensemble import GradientBoostingClassifier\n",
    "\n",
    "from nltk import word_tokenize\n",
    "from nltk import ngrams\n",
    "from nltk.corpus import stopwords\n",
    "# from nltk.stem.porter import PorterStemmer\n",
    "from nltk.stem.snowball import SnowballStemmer\n",
    "# from nltk.stem.wordnet import WordNetLemmatizer"
   ]
  },
  {
   "cell_type": "code",
   "execution_count": 4,
   "metadata": {
    "collapsed": false
   },
   "outputs": [],
   "source": [
    "with open('../data/patch_685_df.pkl') as f:\n",
    "    df = pickle.load(f)"
   ]
  },
  {
   "cell_type": "code",
   "execution_count": 5,
   "metadata": {
    "collapsed": false
   },
   "outputs": [
    {
     "data": {
      "text/html": [
       "<div>\n",
       "<table border=\"1\" class=\"dataframe\">\n",
       "  <thead>\n",
       "    <tr style=\"text-align: right;\">\n",
       "      <th></th>\n",
       "      <th>hero</th>\n",
       "      <th>patch</th>\n",
       "      <th>text</th>\n",
       "      <th>num_buffs</th>\n",
       "      <th>num_nerfs</th>\n",
       "      <th>change_type</th>\n",
       "      <th>text_no_abi</th>\n",
       "    </tr>\n",
       "  </thead>\n",
       "  <tbody>\n",
       "    <tr>\n",
       "      <th>0</th>\n",
       "      <td>Abaddon</td>\n",
       "      <td>6.85</td>\n",
       "      <td>[Mist Coil cooldown reduced from 5 to 4.5, Bor...</td>\n",
       "      <td>2</td>\n",
       "      <td>0</td>\n",
       "      <td>[1, 1]</td>\n",
       "      <td>[cooldown reduced from 5 to 4.5, Aghanim's Sce...</td>\n",
       "    </tr>\n",
       "    <tr>\n",
       "      <th>1</th>\n",
       "      <td>Alchemist</td>\n",
       "      <td>6.85</td>\n",
       "      <td>[Acid Spray damage increased from 12/16/20/24 ...</td>\n",
       "      <td>2</td>\n",
       "      <td>0</td>\n",
       "      <td>[1, 1]</td>\n",
       "      <td>[damage increased from 12/16/20/24 to 15/20/25...</td>\n",
       "    </tr>\n",
       "    <tr>\n",
       "      <th>2</th>\n",
       "      <td>Ancient Apparition</td>\n",
       "      <td>6.85</td>\n",
       "      <td>[Cold Feet cast range increased from 700 to 70...</td>\n",
       "      <td>1</td>\n",
       "      <td>0</td>\n",
       "      <td>[1]</td>\n",
       "      <td>[cast range increased from 700 to 700/800/900/...</td>\n",
       "    </tr>\n",
       "  </tbody>\n",
       "</table>\n",
       "</div>"
      ],
      "text/plain": [
       "                 hero patch  \\\n",
       "0             Abaddon  6.85   \n",
       "1           Alchemist  6.85   \n",
       "2  Ancient Apparition  6.85   \n",
       "\n",
       "                                                text  num_buffs  num_nerfs  \\\n",
       "0  [Mist Coil cooldown reduced from 5 to 4.5, Bor...          2          0   \n",
       "1  [Acid Spray damage increased from 12/16/20/24 ...          2          0   \n",
       "2  [Cold Feet cast range increased from 700 to 70...          1          0   \n",
       "\n",
       "  change_type                                        text_no_abi  \n",
       "0      [1, 1]  [cooldown reduced from 5 to 4.5, Aghanim's Sce...  \n",
       "1      [1, 1]  [damage increased from 12/16/20/24 to 15/20/25...  \n",
       "2         [1]  [cast range increased from 700 to 700/800/900/...  "
      ]
     },
     "execution_count": 5,
     "metadata": {},
     "output_type": "execute_result"
    }
   ],
   "source": [
    "df.head(3)"
   ]
  },
  {
   "cell_type": "code",
   "execution_count": 6,
   "metadata": {
    "collapsed": false
   },
   "outputs": [],
   "source": [
    "def get_texts_and_labels(df, labeled=True, nostops=True, snowball=True, bigrams=True):\n",
    "    change_texts = []\n",
    "    labels = []\n",
    "    for i, row in df.iterrows():\n",
    "        for j, text in enumerate(row['text_no_abi']):\n",
    "            change_texts.append(text.lower())\n",
    "            if labeled:\n",
    "                labels.append(row['change_type'][j])\n",
    "    \n",
    "    if nostops:\n",
    "        change_texts = [' '.join([word for word in text.split(' ') if word not in stopwords.words('english')]) for text in change_texts]\n",
    "    if snowball:\n",
    "        snowball = SnowballStemmer('english')\n",
    "        change_texts = [' '.join([snowball.stem(word) for word in text.split(' ')]) for text in change_texts]\n",
    "    if bigrams:\n",
    "        change_texts_bigrams = []\n",
    "        for text in change_texts:\n",
    "            for pair in ngrams(word_tokenize(text), 2):\n",
    "                text += ' ' + ''.join(pair)\n",
    "            change_texts_bigrams.append(text)\n",
    "        change_texts = change_texts_bigrams\n",
    "    \n",
    "    return change_texts, labels"
   ]
  },
  {
   "cell_type": "code",
   "execution_count": 68,
   "metadata": {
    "collapsed": true
   },
   "outputs": [],
   "source": [
    "change_texts, labels = get_texts_and_labels(df)"
   ]
  },
  {
   "cell_type": "code",
   "execution_count": 8,
   "metadata": {
    "collapsed": false
   },
   "outputs": [
    {
     "data": {
      "text/plain": [
       "0.73568281938325997"
      ]
     },
     "execution_count": 8,
     "metadata": {},
     "output_type": "execute_result"
    }
   ],
   "source": [
    "# PREDICT-ALL-BUFFS MODEL\n",
    "frac_buffs = sum(np.array(labels) == 1) / float(len(labels))\n",
    "frac_buffs"
   ]
  },
  {
   "cell_type": "code",
   "execution_count": null,
   "metadata": {
    "collapsed": false
   },
   "outputs": [],
   "source": []
  },
  {
   "cell_type": "markdown",
   "metadata": {},
   "source": [
    "## Experimentation"
   ]
  },
  {
   "cell_type": "code",
   "execution_count": 78,
   "metadata": {
    "collapsed": false
   },
   "outputs": [
    {
     "data": {
      "text/plain": [
       "u'aghanim scepter damag redirect increa 35% 50% aghanimscept scepterdamag damagredirect redirectincrea increas35 35% %50 50%'"
      ]
     },
     "execution_count": 78,
     "metadata": {},
     "output_type": "execute_result"
    }
   ],
   "source": [
    "# Snowball\n",
    "snowball = SnowballStemmer('english')\n",
    "text_snowball = [' '.join([snowball.stem(word) for word in text.split(' ')]) for text in change_texts]\n",
    "text_snowball[1]"
   ]
  },
  {
   "cell_type": "code",
   "execution_count": 79,
   "metadata": {
    "collapsed": false
   },
   "outputs": [
    {
     "data": {
      "text/plain": [
       "0.78947368421052633"
      ]
     },
     "execution_count": 79,
     "metadata": {},
     "output_type": "execute_result"
    }
   ],
   "source": [
    "X_train, X_test, y_train, y_test = train_test_split(text_snowball, labels, random_state=0)\n",
    "tfidf_train_snowball = TfidfVectorizer(use_idf=False)\n",
    "tfmat_snowball = tfidf_train_snowball.fit_transform(X_train)\n",
    "tfmat_test_snowball = tfidf_train_snowball.transform(X_test)\n",
    "\n",
    "rf_snowball = RandomForestClassifier(n_estimators=100, n_jobs=-1, random_state=0)\n",
    "rf_snowball.fit(tfmat_snowball, y_train)\n",
    "rf_snowball.score(tfmat_test_snowball, y_test)"
   ]
  },
  {
   "cell_type": "code",
   "execution_count": 77,
   "metadata": {
    "collapsed": false
   },
   "outputs": [
    {
     "data": {
      "text/plain": [
       "0.81478405315614622"
      ]
     },
     "execution_count": 77,
     "metadata": {},
     "output_type": "execute_result"
    }
   ],
   "source": [
    "roc_auc_score(y_test, rf_snowball.predict_proba(tfmat_test_snowball)[:, 1])"
   ]
  },
  {
   "cell_type": "code",
   "execution_count": 80,
   "metadata": {
    "collapsed": false
   },
   "outputs": [
    {
     "data": {
      "text/plain": [
       "0.78947368421052633"
      ]
     },
     "execution_count": 80,
     "metadata": {},
     "output_type": "execute_result"
    }
   ],
   "source": [
    "gdb_snowball = GradientBoostingClassifier(random_state=0)\n",
    "gdb_snowball.fit(tfmat_snowball.toarray(), y_train)\n",
    "gdb_snowball.score(tfmat_test_snowball.toarray(), y_test)"
   ]
  },
  {
   "cell_type": "code",
   "execution_count": 81,
   "metadata": {
    "collapsed": false
   },
   "outputs": [
    {
     "data": {
      "text/plain": [
       "0.89036544850498356"
      ]
     },
     "execution_count": 81,
     "metadata": {},
     "output_type": "execute_result"
    }
   ],
   "source": [
    "roc_auc_score(y_test, gdb_snowball.predict_proba(tfmat_test_snowball.toarray())[:, 1])"
   ]
  },
  {
   "cell_type": "code",
   "execution_count": null,
   "metadata": {
    "collapsed": true
   },
   "outputs": [],
   "source": []
  },
  {
   "cell_type": "code",
   "execution_count": null,
   "metadata": {
    "collapsed": true
   },
   "outputs": [],
   "source": []
  },
  {
   "cell_type": "code",
   "execution_count": 42,
   "metadata": {
    "collapsed": false
   },
   "outputs": [],
   "source": [
    "def kFold_TFIDF_CV(text_data, labels, model, n_folds=3, use_idf=True, shuffle_seed=None, **params):\n",
    "    text_label_zip = zip(text_data, labels)\n",
    "    if shuffle_seed:\n",
    "        random.seed(shuffle_seed)\n",
    "    random.shuffle(text_label_zip)\n",
    "    text_shuffled = np.array([row[0] for row in text_label_zip])\n",
    "    labels_shuffled = np.array([row[1] for row in text_label_zip])    \n",
    "    cutoffs = [i * int(len(text_data)/float(n_folds)) for i in xrange(n_folds)] + [len(text_data)]\n",
    "\n",
    "    all_acc = []\n",
    "    all_auc = []\n",
    "    for i, start_pt in enumerate(cutoffs[:-1]):\n",
    "        end_pt = cutoffs[i+1]\n",
    "        holdout_text = text_shuffled[start_pt:end_pt]\n",
    "        holdout_labels = labels_shuffled[start_pt:end_pt]\n",
    "        train_text = np.concatenate((text_shuffled[:start_pt], text_shuffled[end_pt:]))\n",
    "        train_labels = np.concatenate((labels_shuffled[:start_pt], labels_shuffled[end_pt:]))\n",
    "        \n",
    "        tfidf_train = TfidfVectorizer(use_idf=use_idf)\n",
    "        tfmat_train = tfidf_train.fit_transform(train_text)\n",
    "        tfmat_test = tfidf_train.transform(holdout_text)\n",
    "        \n",
    "        model.set_params(**params)\n",
    "        model.fit(tfmat_train.toarray(), train_labels)\n",
    "        all_acc.append(model.score(tfmat_test.toarray(), holdout_labels))\n",
    "        all_auc.append(roc_auc_score(holdout_labels, model.predict_proba(tfmat_test.toarray())[:, 1]))\n",
    "\n",
    "    return {'acc': np.mean(all_acc), 'auc': np.mean(all_auc)}"
   ]
  },
  {
   "cell_type": "code",
   "execution_count": 71,
   "metadata": {
    "collapsed": false
   },
   "outputs": [],
   "source": [
    "test_model = GradientBoostingClassifier()"
   ]
  },
  {
   "cell_type": "code",
   "execution_count": 72,
   "metadata": {
    "collapsed": false
   },
   "outputs": [
    {
     "data": {
      "text/plain": [
       "{'acc': 0.77484633569739947, 'auc': 0.80609740859740864}"
      ]
     },
     "execution_count": 72,
     "metadata": {},
     "output_type": "execute_result"
    }
   ],
   "source": [
    "kFold_TFIDF_CV(text_snowball, labels, test_model, 5, random_state=0)"
   ]
  },
  {
   "cell_type": "code",
   "execution_count": 73,
   "metadata": {
    "collapsed": false
   },
   "outputs": [
    {
     "data": {
      "text/plain": [
       "{'acc': 0.72245862884160761, 'auc': 0.79030798177856998}"
      ]
     },
     "execution_count": 73,
     "metadata": {},
     "output_type": "execute_result"
    }
   ],
   "source": [
    "kFold_TFIDF_CV(text_snowball, labels, test_model, 5, False, random_state=0)"
   ]
  },
  {
   "cell_type": "code",
   "execution_count": 85,
   "metadata": {
    "collapsed": false
   },
   "outputs": [
    {
     "data": {
      "text/plain": [
       "0.89036544850498356"
      ]
     },
     "execution_count": 85,
     "metadata": {},
     "output_type": "execute_result"
    }
   ],
   "source": [
    "gdb_snowball = GradientBoostingClassifier(random_state=0)\n",
    "gdb_snowball.fit(tfmat_snowball.toarray(), y_train)\n",
    "roc_auc_score(y_test, gdb_snowball.predict_proba(tfmat_test_snowball.toarray())[:, 1])"
   ]
  },
  {
   "cell_type": "code",
   "execution_count": 84,
   "metadata": {
    "collapsed": false
   },
   "outputs": [
    {
     "data": {
      "text/plain": [
       "[<matplotlib.lines.Line2D at 0x10b618090>]"
      ]
     },
     "execution_count": 84,
     "metadata": {},
     "output_type": "execute_result"
    },
    {
     "data": {
      "image/png": "[encoded data removed]",
      "text/plain": [
       "<matplotlib.figure.Figure at 0x10d28bc90>"
      ]
     },
     "metadata": {},
     "output_type": "display_data"
    }
   ],
   "source": [
    "fpr, tpr, thresholds = roc_curve(y_test, gdb_snowball.predict_proba(tfmat_test_snowball.toarray())[:, 1], pos_label=1)\n",
    "plt.ylim((0,1))\n",
    "plt.plot(fpr, tpr)"
   ]
  },
  {
   "cell_type": "code",
   "execution_count": 86,
   "metadata": {
    "collapsed": false
   },
   "outputs": [
    {
     "data": {
      "text/plain": [
       "0.28346829266062484"
      ]
     },
     "execution_count": 86,
     "metadata": {},
     "output_type": "execute_result"
    }
   ],
   "source": [
    "thresholds[22]"
   ]
  },
  {
   "cell_type": "code",
   "execution_count": 94,
   "metadata": {
    "collapsed": false
   },
   "outputs": [
    {
     "data": {
      "text/plain": [
       "(0.21428571428571427, 0.83720930232558144, 0.80784940954739126)"
      ]
     },
     "execution_count": 94,
     "metadata": {},
     "output_type": "execute_result"
    }
   ],
   "source": [
    "fpr[13], tpr[13], thresholds[13]"
   ]
  },
  {
   "cell_type": "code",
   "execution_count": null,
   "metadata": {
    "collapsed": true
   },
   "outputs": [],
   "source": []
  },
  {
   "cell_type": "code",
   "execution_count": 96,
   "metadata": {
    "collapsed": false
   },
   "outputs": [
    {
     "data": {
      "text/plain": [
       "{'acc': 0.77465721040189117, 'auc': 0.80382571531467961}"
      ]
     },
     "execution_count": 96,
     "metadata": {},
     "output_type": "execute_result"
    }
   ],
   "source": [
    "kFold_TFIDF_CV(change_texts, labels, GradientBoostingClassifier(), 5, random_state=0)"
   ]
  },
  {
   "cell_type": "code",
   "execution_count": 97,
   "metadata": {
    "collapsed": false
   },
   "outputs": [
    {
     "data": {
      "text/plain": [
       "{'acc': 0.80189125295508279, 'auc': 0.83251509807065349}"
      ]
     },
     "execution_count": 97,
     "metadata": {},
     "output_type": "execute_result"
    }
   ],
   "source": [
    "kFold_TFIDF_CV(change_texts, labels, GradientBoostingClassifier(), 5, use_idf=False, random_state=0)"
   ]
  },
  {
   "cell_type": "code",
   "execution_count": 74,
   "metadata": {
    "collapsed": false
   },
   "outputs": [
    {
     "data": {
      "text/plain": [
       "0.83824382466121306"
      ]
     },
     "execution_count": 74,
     "metadata": {},
     "output_type": "execute_result"
    }
   ],
   "source": [
    "auc_list = []\n",
    "for i in xrange(20):\n",
    "    auc_list.append(kFold_TFIDF_CV(change_texts, labels, GradientBoostingClassifier(), 5, use_idf=True, random_state=i)['auc'])\n",
    "np.mean(auc_list)"
   ]
  },
  {
   "cell_type": "code",
   "execution_count": 75,
   "metadata": {
    "collapsed": false
   },
   "outputs": [
    {
     "data": {
      "text/plain": [
       "0.83907170540876097"
      ]
     },
     "execution_count": 75,
     "metadata": {},
     "output_type": "execute_result"
    }
   ],
   "source": [
    "auc_list = []\n",
    "for i in xrange(20):\n",
    "    auc_list.append(kFold_TFIDF_CV(change_texts, labels, GradientBoostingClassifier(), 5, use_idf=False, random_state=i)['auc'])\n",
    "np.mean(auc_list)"
   ]
  },
  {
   "cell_type": "code",
   "execution_count": null,
   "metadata": {
    "collapsed": true
   },
   "outputs": [],
   "source": []
  },
  {
   "cell_type": "code",
   "execution_count": 7,
   "metadata": {
    "collapsed": true
   },
   "outputs": [],
   "source": [
    "texts_basic = []\n",
    "for i, row in df.iterrows():\n",
    "    for j, text in enumerate(row['text']):\n",
    "        texts_basic.append(text.lower())"
   ]
  },
  {
   "cell_type": "code",
   "execution_count": 8,
   "metadata": {
    "collapsed": false
   },
   "outputs": [
    {
     "data": {
      "text/plain": [
       "u'acid spray damage increased from 12/16/20/24 to 15/20/25/30'"
      ]
     },
     "execution_count": 8,
     "metadata": {},
     "output_type": "execute_result"
    }
   ],
   "source": [
    "# Messing with number identification\n",
    "texts_basic[2]"
   ]
  },
  {
   "cell_type": "code",
   "execution_count": 103,
   "metadata": {
    "collapsed": false
   },
   "outputs": [
    {
     "data": {
      "text/plain": [
       "[5]"
      ]
     },
     "execution_count": 103,
     "metadata": {},
     "output_type": "execute_result"
    }
   ],
   "source": [
    "[int(s) for s in texts_basic[0].split() if s.isdigit()]"
   ]
  },
  {
   "cell_type": "code",
   "execution_count": 104,
   "metadata": {
    "collapsed": false
   },
   "outputs": [
    {
     "data": {
      "text/plain": [
       "[u'12', u'16', u'20', u'24', u'15', u'20', u'25', u'30']"
      ]
     },
     "execution_count": 104,
     "metadata": {},
     "output_type": "execute_result"
    }
   ],
   "source": [
    "re.findall(r'\\d+', texts_basic[2])"
   ]
  },
  {
   "cell_type": "code",
   "execution_count": 110,
   "metadata": {
    "collapsed": false
   },
   "outputs": [],
   "source": [
    "numbers = [re.findall(r'[-+]?\\d*\\.\\d+|\\d+', text) for text in texts_basic]"
   ]
  },
  {
   "cell_type": "code",
   "execution_count": 113,
   "metadata": {
    "collapsed": false
   },
   "outputs": [
    {
     "data": {
      "text/plain": [
       "[(2, [u'5', u'4.5']),\n",
       " (2, [u'35', u'50']),\n",
       " (8, [u'12', u'16', u'20', u'24', u'15', u'20', u'25', u'30']),\n",
       " (2, [u'4', u'5']),\n",
       " (5, [u'700', u'700', u'800', u'900', u'1000']),\n",
       " (8, [u'1000', u'1075', u'1150', u'1150', u'925', u'1000', u'1075', u'1150']),\n",
       " (4, [u'0.1', u'0.2', u'0.3', u'0.15']),\n",
       " (2, [u'7', u'4']),\n",
       " (2, [u'10', u'8']),\n",
       " (8, [u'100', u'125', u'150', u'175', u'70', u'100', u'130', u'160']),\n",
       " (0, []),\n",
       " (5, [u'50', u'25', u'30', u'35', u'40']),\n",
       " (8, [u'1', u'2', u'3', u'4', u'3', u'4', u'5', u'6']),\n",
       " (2, [u'400', u'100']),\n",
       " (4, [u'100', u'25', u'75', u'25']),\n",
       " (5, [u'25', u'19', u'21', u'23', u'25']),\n",
       " (0, []),\n",
       " (6, [u'50', u'100', u'150', u'40', u'80', u'120']),\n",
       " (2, [u'200', u'600']),\n",
       " (2, [u'8', u'6']),\n",
       " (2, [u'7', u'5']),\n",
       " (2, [u'250', u'230']),\n",
       " (8, [u'26', u'34', u'42', u'50', u'30', u'42', u'54', u'66']),\n",
       " (2, [u'5', u'8']),\n",
       " (8, [u'150', u'200', u'250', u'300', u'125', u'175', u'225', u'275']),\n",
       " (8, [u'14', u'18', u'22', u'26', u'15', u'20', u'25', u'30']),\n",
       " (5, [u'175', u'90', u'100', u'110', u'120']),\n",
       " (2, [u'24', u'16']),\n",
       " (8, [u'45', u'40', u'35', u'30', u'40', u'35', u'30', u'25']),\n",
       " (2, [u'15', u'13']),\n",
       " (1, [u'2']),\n",
       " (5, [u'100', u'115', u'130', u'145', u'100']),\n",
       " (6, [u'6', u'13', u'21', u'8', u'14', u'21']),\n",
       " (5, [u'16', u'12', u'11', u'10', u'9']),\n",
       " (0, []),\n",
       " (8, [u'12', u'18', u'24', u'30', u'12', u'24', u'36', u'48']),\n",
       " (2, [u'8', u'7']),\n",
       " (2, [u'8', u'11']),\n",
       " (8, [u'18', u'24', u'30', u'36', u'20', u'26', u'32', u'38']),\n",
       " (2, [u'120', u'100']),\n",
       " (0, []),\n",
       " (8, [u'125', u'175', u'225', u'275', u'110', u'160', u'210', u'260']),\n",
       " (2, [u'475', u'500']),\n",
       " (5, [u'110', u'80', u'90', u'100', u'110']),\n",
       " (8, [u'3', u'6', u'9', u'12', u'6', u'9', u'12', u'15']),\n",
       " (2, [u'0.5', u'1.0']),\n",
       " (8, [u'3', u'5', u'7', u'9', u'4', u'6', u'8', u'10']),\n",
       " (0, []),\n",
       " (2, [u'0.2', u'0.1']),\n",
       " (2, [u'600', u'550']),\n",
       " (2, [u'400', u'420']),\n",
       " (16,\n",
       "  [u'8',\n",
       "   u'13',\n",
       "   u'18',\n",
       "   u'23',\n",
       "   u'7',\n",
       "   u'12',\n",
       "   u'17',\n",
       "   u'22',\n",
       "   u'240',\n",
       "   u'390',\n",
       "   u'540',\n",
       "   u'690',\n",
       "   u'210',\n",
       "   u'360',\n",
       "   u'510',\n",
       "   u'660']),\n",
       " (0, []),\n",
       " (8, [u'4', u'5', u'6', u'7', u'3', u'4', u'5', u'6']),\n",
       " (2, [u'3.2', u'4.0']),\n",
       " (4, [u'20', u'80', u'30', u'90']),\n",
       " (0, []),\n",
       " (0, []),\n",
       " (2, [u'850', u'1050']),\n",
       " (8, [u'16', u'26', u'56', u'76', u'20', u'40', u'60', u'80']),\n",
       " (2, [u'1100', u'1200']),\n",
       " (8, [u'80', u'100', u'120', u'140', u'80', u'105', u'130', u'155']),\n",
       " (8, [u'1', u'2', u'3', u'4', u'2', u'3', u'4', u'5']),\n",
       " (8, [u'15', u'30', u'45', u'60', u'20', u'35', u'50', u'65']),\n",
       " (8, [u'350', u'550', u'750', u'1000', u'400', u'600', u'800', u'1000']),\n",
       " (8, [u'19', u'16', u'13', u'10', u'26', u'20', u'14', u'8']),\n",
       " (2, [u'0.4', u'0.3']),\n",
       " (1, [u'4']),\n",
       " (2, [u'18', u'15']),\n",
       " (2, [u'0.3', u'0.2']),\n",
       " (0, []),\n",
       " (1, [u'4']),\n",
       " (2, [u'650', u'475']),\n",
       " (8, [u'80', u'140', u'200', u'260', u'50', u'100', u'150', u'200']),\n",
       " (0, []),\n",
       " (2, [u'750', u'850']),\n",
       " (2, [u'20', u'30']),\n",
       " (2, [u'19', u'16']),\n",
       " (0, []),\n",
       " (8, [u'120', u'160', u'200', u'240', u'80', u'120', u'160', u'200']),\n",
       " (6, [u'450', u'675', u'950', u'450', u'650', u'850']),\n",
       " (2, [u'200', u'300']),\n",
       " (5, [u'180', u'160', u'140', u'120', u'120']),\n",
       " (6, [u'60', u'90', u'120', u'90', u'120', u'150']),\n",
       " (6, [u'6', u'12', u'18', u'10', u'15', u'20']),\n",
       " (2, [u'1.9', u'2.2']),\n",
       " (4, [u'160', u'150', u'140', u'140']),\n",
       " (6, [u'6', u'10', u'14', u'6', u'12', u'18']),\n",
       " (2, [u'2.75', u'3.0']),\n",
       " (4, [u'30', u'30', u'35', u'40']),\n",
       " (2, [u'12', u'8']),\n",
       " (2, [u'25', u'35']),\n",
       " (2, [u'2.75', u'3.3']),\n",
       " (2, [u'325', u'425']),\n",
       " (2, [u'3', u'3.4']),\n",
       " (8, [u'20', u'40', u'60', u'80', u'50', u'60', u'70', u'80']),\n",
       " (0, []),\n",
       " (0, []),\n",
       " (8, [u'130', u'160', u'190', u'220', u'100', u'140', u'180', u'220']),\n",
       " (2, [u'6', u'8']),\n",
       " (2, [u'0.5', u'0.35']),\n",
       " (8, [u'100', u'120', u'140', u'160', u'70', u'90', u'110', u'130']),\n",
       " (2, [u'300', u'325']),\n",
       " (2, [u'1200', u'1000']),\n",
       " (2, [u'1.75', u'1.0']),\n",
       " (1, [u'4']),\n",
       " (8, [u'75', u'125', u'200', u'275', u'125', u'175', u'225', u'275']),\n",
       " (0, []),\n",
       " (8, [u'1', u'2', u'3', u'4', u'1', u'2', u'3', u'6']),\n",
       " (8, [u'2', u'4', u'6', u'10', u'2', u'4', u'6', u'12']),\n",
       " (2, [u'0.25', u'2']),\n",
       " (2, [u'9', u'7']),\n",
       " (2, [u'50', u'75']),\n",
       " (6, [u'25', u'35', u'50', u'40', u'50', u'60']),\n",
       " (1, [u'1']),\n",
       " (8, [u'20', u'30', u'40', u'50', u'30', u'40', u'50', u'60']),\n",
       " (0, []),\n",
       " (0, []),\n",
       " (2, [u'0.4', u'0.25']),\n",
       " (2, [u'2', u'1']),\n",
       " (2, [u'0.3', u'0']),\n",
       " (2, [u'650', u'850']),\n",
       " (2, [u'215', u'300']),\n",
       " (8, [u'75', u'150', u'225', u'300', u'90', u'120', u'150', u'180']),\n",
       " (5, [u'12', u'15', u'12', u'9', u'6']),\n",
       " (0, []),\n",
       " (0, []),\n",
       " (2, [u'2.5', u'2.25']),\n",
       " (2, [u'1.85', u'2.3']),\n",
       " (2, [u'40', u'75']),\n",
       " (0, []),\n",
       " (4, [u'600', u'650', u'700', u'700']),\n",
       " (0, []),\n",
       " (0, []),\n",
       " (1, [u'0.75']),\n",
       " (2, [u'3', u'2.6']),\n",
       " (2, [u'0', u'0.1']),\n",
       " (8, [u'1', u'2', u'3', u'4', u'1.25', u'2.5', u'3.75', u'5']),\n",
       " (4, [u'600', u'650', u'1800', u'1950']),\n",
       " (2, [u'12', u'11']),\n",
       " (2, [u'85', u'75']),\n",
       " (8, [u'35', u'60', u'85', u'110', u'30', u'60', u'90', u'120']),\n",
       " (5, [u'20', u'22', u'24', u'26', u'27']),\n",
       " (0, []),\n",
       " (2, [u'320', u'330']),\n",
       " (2, [u'150', u'150']),\n",
       " (6, [u'150', u'185', u'220', u'150', u'200', u'250']),\n",
       " (12,\n",
       "  [u'290',\n",
       "   u'390',\n",
       "   u'490',\n",
       "   u'290',\n",
       "   u'380',\n",
       "   u'470',\n",
       "   u'325',\n",
       "   u'450',\n",
       "   u'575',\n",
       "   u'325',\n",
       "   u'440',\n",
       "   u'555']),\n",
       " (0, []),\n",
       " (8, [u'4', u'5', u'6', u'7', u'6', u'8', u'10', u'12']),\n",
       " (2, [u'30', u'50']),\n",
       " (2, [u'20', u'25']),\n",
       " (2, [u'2.75', u'2.5']),\n",
       " (2, [u'16', u'10']),\n",
       " (8, [u'120', u'160', u'160', u'200', u'120', u'180', u'240', u'300']),\n",
       " (0, []),\n",
       " (0, []),\n",
       " (8, [u'20', u'18', u'16', u'14', u'18', u'16', u'14', u'12']),\n",
       " (0, []),\n",
       " (0, []),\n",
       " (2, [u'23', u'17']),\n",
       " (2, [u'16', u'12']),\n",
       " (2, [u'1.4', u'1.2']),\n",
       " (0, []),\n",
       " (0, []),\n",
       " (0, []),\n",
       " (5, [u'70', u'80', u'90', u'100', u'100']),\n",
       " (2, [u'800', u'600']),\n",
       " (4, [u'15', u'7', u'30', u'8']),\n",
       " (1, [u'2']),\n",
       " (8, [u'20', u'35', u'50', u'65', u'30', u'42', u'54', u'66']),\n",
       " (0, []),\n",
       " (1, [u'450']),\n",
       " (1, [u'10']),\n",
       " (1, [u'50']),\n",
       " (1, [u'50']),\n",
       " (0, []),\n",
       " (0, []),\n",
       " (0, []),\n",
       " (0, []),\n",
       " (1, [u'900']),\n",
       " (2, [u'60', u'25']),\n",
       " (8, [u'22', u'18', u'14', u'10', u'22', u'20', u'18', u'16']),\n",
       " (0, []),\n",
       " (2, [u'0.5', u'0.15']),\n",
       " (1, [u'900']),\n",
       " (2, [u'325', u'550']),\n",
       " (2, [u'20', u'25']),\n",
       " (8, [u'2', u'3', u'4', u'5', u'3', u'4', u'5', u'6']),\n",
       " (2, [u'8', u'6']),\n",
       " (6, [u'3', u'2', u'1', u'3', u'1.5', u'0.75']),\n",
       " (2, [u'24', u'26']),\n",
       " (2, [u'14', u'17']),\n",
       " (5, [u'140', u'100', u'110', u'120', u'130']),\n",
       " (8, [u'16', u'22', u'28', u'34', u'20', u'25', u'30', u'35']),\n",
       " (5, [u'90', u'100', u'105', u'110', u'115']),\n",
       " (2, [u'4', u'3']),\n",
       " (0, []),\n",
       " (1, [u'200']),\n",
       " (0, []),\n",
       " (2, [u'4', u'10']),\n",
       " (2, [u'41', u'35']),\n",
       " (8, [u'3', u'4', u'5', u'7', u'6', u'8', u'10', u'14']),\n",
       " (4, [u'1', u'2', u'3', u'4']),\n",
       " (2, [u'2.9', u'2.7']),\n",
       " (2, [u'6', u'5']),\n",
       " (6, [u'1.5', u'2', u'2.5', u'1.5', u'1.75', u'2']),\n",
       " (6, [u'50', u'45', u'40', u'50', u'40', u'30']),\n",
       " (2, [u'2.8', u'3.3']),\n",
       " (2, [u'295', u'300']),\n",
       " (8, [u'5', u'10', u'15', u'20', u'6', u'12', u'18', u'24']),\n",
       " (0, []),\n",
       " (12,\n",
       "  [u'36',\n",
       "   u'58',\n",
       "   u'81',\n",
       "   u'30',\n",
       "   u'55',\n",
       "   u'80',\n",
       "   u'58',\n",
       "   u'81',\n",
       "   u'108',\n",
       "   u'60',\n",
       "   u'85',\n",
       "   u'110']),\n",
       " (5, [u'12', u'14', u'15', u'16', u'16']),\n",
       " (2, [u'2.5', u'2.9']),\n",
       " (0, []),\n",
       " (2, [u'325', u'340']),\n",
       " (0, []),\n",
       " (5, [u'100', u'70', u'80', u'90', u'100']),\n",
       " (8, [u'36', u'33', u'30', u'27', u'35', u'30', u'25', u'20']),\n",
       " (0, []),\n",
       " (6, [u'60', u'90', u'120', u'60', u'105', u'150']),\n",
       " (2, [u'3', u'4']),\n",
       " (1, [u'7']),\n",
       " (0, []),\n",
       " (2, [u'5', u'7']),\n",
       " (0, [])]"
      ]
     },
     "execution_count": 113,
     "metadata": {},
     "output_type": "execute_result"
    }
   ],
   "source": [
    "## issue: how to tell between 'from a to w/x/y/z/' and 'from a/b/c/d to x' when there are 5 numbers\n",
    "zip([len(number_list) for number_list in numbers], numbers)"
   ]
  },
  {
   "cell_type": "code",
   "execution_count": 117,
   "metadata": {
    "collapsed": false
   },
   "outputs": [
    {
     "data": {
      "text/plain": [
       "u'Blink distance rescaled from 1000/1075/1150/1150 to 925/1000/1075/1150'"
      ]
     },
     "execution_count": 117,
     "metadata": {},
     "output_type": "execute_result"
    }
   ],
   "source": [
    "df.text[3][0]"
   ]
  },
  {
   "cell_type": "code",
   "execution_count": 124,
   "metadata": {
    "collapsed": false
   },
   "outputs": [
    {
     "data": {
      "text/plain": [
       "[u'1000/1075/1150/1150 to 925/1000/1075/1150']"
      ]
     },
     "execution_count": 124,
     "metadata": {},
     "output_type": "execute_result"
    }
   ],
   "source": [
    "re.findall(r'(\\d.+[\\d%])', df.text[3][0])"
   ]
  },
  {
   "cell_type": "code",
   "execution_count": 123,
   "metadata": {
    "collapsed": false
   },
   "outputs": [
    {
     "name": "stdout",
     "output_type": "stream",
     "text": [
      "Mist Coil cooldown reduced from 5 to 4.5\n",
      "Borrowed Time  Aghanim's Scepter damage redirection increased from 35% to 50%\n",
      "Acid Spray damage increased from 12/16/20/24 to 15/20/25/30\n",
      "Greevil's Greed Bounty Rune bonus increased from 4x to 5x\n",
      "Cold Feet cast range increased from 700 to 700/800/900/1000\n",
      "Blink distance rescaled from 1000/1075/1150/1150 to 925/1000/1075/1150\n",
      "Mana Void stun rescaled from 0.1/0.2/0.3 to 0.15\n",
      "Spark Wraith cooldown reduced from 7 to 4\n",
      "Enfeeble cooldown reduced from 10 to 8\n",
      "Brain Sap mana cost reduced from 100/125/150/175 to 70/100/130/160\n",
      "Fixed  Fiend's Grip sometimes not granting True Sight over the target properly\n",
      "Flamebreak damage over time reduced from 50 per second to 25/30/35/40\n",
      "Flamebreak damage duration increased from 1/2/3/4 to 3/4/5/6\n",
      "Added  Aghanim's Scepter upgrade:  Flaming Lasso grabs its target, as well as the target's nearest allied hero within 400 range. The secondary target is tethered to the first. Also causes Lasso to deal 100 damage per second.\n",
      "Thirst scaling changed from 100%->25% to 75%->25%\n",
      "Bloodrage heal reduced from 25% to 19/21/23/25%\n",
      "Track now provides vision only of the target rather than the area around it\n",
      "Track allied bonus gold reduced from 50/100/150 to 40/80/120\n",
      "Primal Split Storm's Dispel Magic area of effect increased from 200 to 600\n",
      "Primal Split Storm's Dispel Magic cooldown reduced from 8 to 6 seconds\n",
      "Primal Split Earth's Hurl Boulder cooldown reduced from 7 to 5 seconds\n",
      "Bristleback passive  Quill Spray damage threshold reduced from 250 to 230\n",
      "Return strength as bonus damage increased from 26/34/42/50% to 30/42/54/66%\n",
      "Chaos Strike now lowers the target's armor by 5 for 8 seconds whenever it crits \n",
      "\n",
      "Applies before the damage happens, like  Desolator. Can be applied by illusions, but multiple instances do not stack. Only triggers when critical strike\n",
      "Chaos Strike critical damage reduced from 150/200/250/300% to 125/175/225/275%\n",
      "Penitence slow/damage amplification increased from 14/18/22/26% to 15/20/25/30%\n",
      "Test of Faith (Damage) mana cost reduced from 175 to 90/100/110/120\n",
      "Test of Faith (Damage) cooldown reduced from 24 to 16\n",
      "Strafe cooldown reduced from 45/40/35/30 to 40/35/30/25\n",
      "Crystal Nova cooldown reduced from 15 to 13\n",
      "Base intelligence reduced by 2\n",
      "Poison Touch mana cost reduced from 100/115/130/145 to 100\n",
      "Exorcism spirits increased from 6/13/21 to 8/14/21\n",
      "Thunder Strike cooldown reduced from 16 to 12/11/10/9\n",
      "Thunder Strike now only provides vision over the target itself\n",
      "Scorched Earth damage/heal increased from 12/18/24/30 to 12/24/36/48\n",
      "LVL? Death cooldown reduced from 8 to 7\n",
      "Breathe Fire debuff duration increased from 8 to 11 seconds\n",
      "Precision Aura bonus damage increased from 18/24/30/36% to 20/26/32/38%\n",
      "Precision Aura cooldown reduced from 120 to 100\n",
      "Stone Remnant is now placed in front of you when double-clicking it\n",
      "Fissure damage reduced from 125/175/225/275 to 110/160/210/260\n",
      "Echo Stomp area of effect increased from 475 to 500\n",
      "Astral Spirit mana cost rescaled from 110 to 80/90/100/110\n",
      "Astral Spirit attack damage per creep increased from 3/6/9/12 to 6/9/12/15\n",
      "Natural Order aura sticky duration increased from 0.5 to 1.0\n",
      "Nature's Attendants wisp count increased from 3/5/7/9 to 4/6/8/10\n",
      "Impetus is no longer a Unique Attack Modifier\n",
      "Midnight Pulse cast time reduced from 0.2 to 0.1\n",
      "Midnight Pulse area of effect reduced from 600 to 550\n",
      "Black Hole radius increased from 400 to 420\n",
      "Rocket Barrage damage per rocket reduced from 8/13/18/23 to 7/12/17/22\n",
      "\n",
      "Total damage reduced from 240/390/540/690 to 210/360/510/660\n",
      "Call Down slow no longer pierces Spell Immunity\n",
      "Berserker's Blood Magic Resistance per stack reduced from 4/5/6/7 to 3/4/5/6\n",
      "Intelligence growth increased from 3.2 to 4.0\n",
      "Alacrity speed/damage bonus increased from 20->80 to 30->90\n",
      "Aghanim's Scepter now adds one level to the stats provided by  Quas,  Wex, and  Exort on all Invoked spells\n",
      "Max level  Deafening Blast now retains its normal location targeting UI \n",
      "\n",
      "Rather than it being changed to a no target cast at a certain level. This does not affect how the ability itself works.\n",
      "Dual Breath's fiery wave now moves at the same speed as its icy wave: 850 to 1050\n",
      "Dual Breath damage increased from 16/26/56/76 to 20/40/60/80\n",
      "Ice Path range increased from 1100 to 1200\n",
      "Blade Fury damage increased from 80/100/120/140 to 80/105/130/155\n",
      "Chakra Magic spell cooldown reduction increased from 1/2/3/4 to 2/3/4/5\n",
      "Tidebringer damage increased from 15/30/45/60 to 20/35/50/65\n",
      "X Marks the Spot cast range rescaled from 350/550/750/1000 to 400/600/800/1000\n",
      "X Marks the Spot cooldown rescaled from 19/16/13/10 to 26/20/14/8\n",
      "Ghostship cast point reduced from 0.4 to 0.3\n",
      "Base damage increased by 4\n",
      "Overwhelming Odds cooldown reduced from 18 to 15\n",
      "Press the Attack cast time reduced from 0.3 to 0.2\n",
      "Fixed Legion Commander sometimes auto-attacking nearby units after  Duel ends instead of continuing to attack the dueled target\n",
      "Base damage reduced by 4\n",
      "Lightning Storm jump distance reduced from 650 to 475\n",
      "Lightning Storm damage reduced from 80/140/200/260 to 50/100/150/200\n",
      "Sacrifice no longer splits XP with enemies\n",
      "Chain Frost projectile speed increased from 750 to 850\n",
      "Chain Frost attack speed slow increased from 20 to 30 \n",
      "\n",
      "Now matches move speed slow\n",
      "Rage cooldown reduced from 19 to 16\n",
      "Infest and  Control can now be used on Ancient Creeps\n",
      "Light Strike Array damage reduced from 120/160/200/240 to 80/120/160/200\n",
      "Laguna Blade damage reduced from 450/675/950 to 450/650/850\n",
      "Finger of Death  Aghanim's Scepter upgrade area of effect increased from 200 to 300\n",
      "Summon Spirit Bear cooldown reduced from 180/160/140/120 to 120\n",
      "Battle Cry bonus damage increased from 60/90/120 to 90/120/150\n",
      "Battle Cry bonus armor increased from 6/12/18 to 10/15/20\n",
      "Strength gain increased from 1.9 to 2.2\n",
      "Eclipse cooldown reduced from 160/150/140 to 140\n",
      "Eclipse  Aghanim's Scepter beam count increased from 6/10/14 to 6/12/18\n",
      "Strength gain increased from 2.75 to 3.0\n",
      "Shapeshift critical strike chance increased from 30% to 30/35/40%\n",
      "Empower cooldown reduced from 12 to 8\n",
      "Mystic Snake damage and mana steal boost per jump increased from 25% to 35%\n",
      "Agility growth increased from 2.75 to 3.3\n",
      "Starstorm secondary strike search radius increased from 325 to 425\n",
      "Agility growth increased from 3 to 3.4\n",
      "Adaptive Strike damage rescaled from 20/40/60/80 to 50/60/70/80\n",
      "Hybrid no longer hides Morphling or restricts its usage when a  Replicate is out\n",
      "Hybrids are visibly known to enemies\n",
      "\n",
      "Similar to  Dark Seer's  Wall of Replica illusions\n",
      "Rip Tide damage rescaled from 130/160/190/220 to 100/140/180/220\n",
      "Song of the Siren  Aghanim's Scepter heal increased from 6% to 8%\n",
      "Sprout cast time reduced from 0.5 to 0.35\n",
      "Sprout mana cost reduced from 100/120/140/160 to 70/90/110/130\n",
      "Nature's Call Treants movement speed increased from 300 to 325\n",
      "Nature's Call Treants vision reduced from 1200 to 1000\n",
      "Greater Treant Base Attack Time reduced from 1.75 to 1.0\n",
      "Wrath of Nature  Aghanim's Scepter now applies a 4 second buff on the units it hits, which will spawn the extra treant if the unit dies during that time\n",
      "Death Pulse damage increased from 75/125/200/275 to 125/175/225/275\n",
      "Heartstopper Aura no longer affects ancient creeps\n",
      "Sadist health regen increased from 1/2/3/4 to 1/2/3/6\n",
      "Sadist mana regen increased from 2/4/6/10 to 2/4/6/12\n",
      "Base health regen increased from 0.25 to 2\n",
      "Burrow  Impale cooldown reduced from 9 to 7\n",
      "Burrow  Impale and  Mana Burn bonus range increased from 50% to 75%\n",
      "Vendetta duration increased from 25/35/50 to 40/50/60\n",
      "Base armor increased by 1\n",
      "Bloodlust attack speed bonus increased from 20/30/40/50 to 30/40/50/60\n",
      "Bloodlust can now be cast on towers\n",
      "Fixed  Multicast  Bloodlust not affecting nearby Spell Immune allies \n",
      "\n",
      "Could already target them directly\n",
      "Purification cast point reduced from 0.4 to 0.25\n",
      "Degen Aura stickiness reduced from 2 to 1\n",
      "Fortune's End cast time reduced from 0.3 to 0\n",
      "Fortune's End cast range increased from 650 to 850\n",
      "Fortune's End radius increased from 215 to 300\n",
      "Fortune's End damage rescaled from 75/150/225/300 to 90/120/150/180\n",
      "Fortune's End cooldown rescaled from 12 to 15/12/9/6\n",
      "Fate's Edict no longer amplifies incoming non-magical damage\n",
      "Fate's Edict now has normal purgability rules\n",
      "Purifying Flames cooldown reduced from 2.5 to 2.25\n",
      "Strength gain increased from 1.85 to 2.3\n",
      "Sanity's Eclipse now always removes 40% of affected heroes' max mana\n",
      "\n",
      "Instead of 75% of current mana only when under the threshold\n",
      "Sanity's Eclipse mana loss no longer pierces Spell Immunity\n",
      "\n",
      "Matches its damage behavior\n",
      "Sanity's Eclipse cast range increased from 600/650/700 to 700\n",
      "Sanity's Eclipse cast range is no longer increased with  Aghanim's Scepter\n",
      "Stifling Dagger now applies your attack's on-hit effects\n",
      "\n",
      "Does not guarantee a proc if the effect is chance-based\n",
      "Blur no longer has a 0.75 second delay\n",
      "Agility growth reduced from 3 to 2.6\n",
      "Doppelganger cast time increased from 0 to 0.1\n",
      "Sun Ray max health damage per second increased from 1/2/3/4% to 1.25/2.5/3.75/5%\n",
      "\n",
      "Heal per second is half these values\n",
      "Illusory Orb speed increased from 600 to 650\n",
      "\n",
      "Travel distance increased from 1800 to 1950 to keep the total duration the orb is alive the same\n",
      "Illusory Orb cooldown reduced from 12 to 11 seconds\n",
      "Dream Coil cooldown reduced from 85 to 75\n",
      "Rot damage rescaled from 35/60/85/110 to 30/60/90/120\n",
      "Rot move slow increased from 20/22/24/26% to 27%\n",
      "Fixed  Dismember sometimes not granting True Sight over the target properly\n",
      "Base movement speed increased from 320 to 330\n",
      "Nether Ward is now placed at the target location using a 150 cast range ability\n",
      "\n",
      "Instead of placing 150 units in front of his facing direction. Using double click will immediately place it infront of you.\n",
      "Life Drain damage/steal per second increased from 150/185/220 to 150/200/250\n",
      "Sonic Wave damage reduced from 290/390/490 to 290/380/470 ( Aghanim's Scepter damage reduced from 325/450/575 to 325/440/555)\n",
      "Static Link now drains damage smoothly over its duration rather than every second\n",
      "Permanent Invisibility health regen increased from 4/5/6/7 to 6/8/10/12\n",
      "Caustic Finale debuff expire damage increased from 30% to 50%\n",
      "Caustic Finale debuff slow increased from 20% to 25%\n",
      "Shadow Poison cooldown reduced from 2.75 to 2.5\n",
      "Shackles cooldown reduced from 16 to 10\n",
      "Shackles total damage increased from 120/160/160/200 to 120/180/240/300\n",
      "Fixed  Shackles sometimes not granting True Sight over the target properly\n",
      "Fixed  Last Word countdown debuff not being purgeable\n",
      "Concussive Shot cooldown reduced from 20/18/16/14 to 18/16/14/12\n",
      "Mystic Flare no longer splits its damage over Spell Immune heroes\n",
      "Sprint now provides phased movement\n",
      "Sprint cooldown reduced from 23 to 17\n",
      "Sprint duration reduced from 16 to 12\n",
      "Shrapnel delay reduced from 1.4 to 1.2 seconds\n",
      "Desolate now works on non-hero units if they are alone\n",
      "Dispersion now reflects damage before reductions and returns it as the same damage type\n",
      "\n",
      "Rather than as Pure damage after reduction\n",
      "Greater Bash now uses pseudo random chance\n",
      "Static Remnant mana cost increased from 70/80/90/100 to 100\n",
      "Static Remnant unobstructed vision reduced from 800 to 600\n",
      "Ball Lightning base mana cost increased from 15 + 7% to 30 + 8%\n",
      "Base intelligence increased by 2\n",
      "Great Cleave damage increased from 20/35/50/65 to 30/42/54/66%\n",
      "Techies' mines are no longer triggered when destroyed\n",
      "Techies' mines can now be destroyed using  Quelling Blade/ Battle Fury\n",
      "\n",
      "Same range as wards: 450\n",
      "Techies' mines now provide 10 Gold for destroying them\n",
      "Land Mines cooldown and mana cost reduced by 50%\n",
      "Land Mines damage reduced by 50%\n",
      "Land Mines no longer have a max count\n",
      "Land Mines and  Stasis Traps no longer block neutral spawns\n",
      "Land Mines no longer stack exactly on top of each other\n",
      "\n",
      " They can still be very close though\n",
      "Temporarily removed from Captains Mode\n",
      "Reflection now affects all enemy heroes in a 900 area of effect\n",
      "\n",
      "Will not affect units that are in fog or who are invisible\n",
      "Reflection attack and move slow reduced from 60% to 25%\n",
      "Reflection cooldown rescaled from 22/18/14/10 to 22/20/18/16\n",
      "Conjure Image illusions are known as illusions to enemies\n",
      "\n",
      "Similar to  Dark Seer's  Wall of Replica illusions\n",
      "Conjure Image cast point reduced from 0.5 to 0.15\n",
      "Metamorphosis now emits a 900 range aura that affects his nearby illusions, causing them to match his current form\n",
      "Sunder cast range increased from 325 to 550\n",
      "Sunder minimum health increased from 20 to 25%\n",
      "Gush armor reduction increased from 2/3/4/5 to 3/4/5/6\n",
      "Whirling Death cooldown reduced from 8 to 6\n",
      "Rearm channel time reduced from 3/2/1 to 3/1.5/0.75\n",
      "Base strength increased from 24 to 26\n",
      "Base intelligence increased from 14 to 17\n",
      "Leech Seed mana cost reduced from 140 to 100/110/120/130\n",
      "Fervor attack speed per stack increased from 16/22/28/34 to 20/25/30/35\n",
      "Ice Shards mana cost increased from 90 to 100/105/110/115\n",
      "Snowball max launch time reduced from 4 to 3 seconds\n",
      "Frozen Sigil no longer goes through Spell Immunity\n",
      "Aghanim's Scepter  Walrus Kick now deals 200 damage\n",
      "Aghanim's Scepter no longer improves Flesh Golem\n",
      "\n",
      "Previously it increased damage amplification and heal\n",
      "Aghanim's Scepter now increases Decay's strength steal from 4 to 10\n",
      "Tombstone Zombies attack damage reduced from 41 to 35\n",
      "Tombstone now requires a constant number of attacks to be destroyed: 3/4/5/7 from heroes\n",
      "\n",
      "6/8/10/14 attacks from creeps\n",
      "Soul Rip can now restore 1/2/3/4 health to Tombstone\n",
      "Strength gain reduced from 2.9 to 2.7\n",
      "Earthshock cooldown reduced from 6 to 5\n",
      "Enrage  Fury Swipes multiplier reduced from 1.5/2/2.5 to 1.5/1.75/2\n",
      "Enrage cooldown reduced from 50/45/40 to 50/40/30\n",
      "Agility gain increased from 2.8 to 3.3\n",
      "Base movement speed increased from 295 to 300\n",
      "Poison Sting damage increased from 5/10/15/20 to 6/12/18/24\n",
      "Poison Sting now works normally on illusions\n",
      "Poison Nova damage per second reduced from 36/58/81 to 30/55/80 ( Aghanim's Scepter damage per second increased from 58/81/108 to 60/85/110)\n",
      "Poison Nova duration increased from 12/14/15/16 to 16\n",
      "\n",
      "Duration is no longer increased by  Aghanim's Scepter\n",
      "Agility growth increased from 2.5 to 2.9\n",
      "Corrosive Skin slow no longer pierces Spell Immunity\n",
      "Familiar's Stone Form area of effect increased from 325 to 340\n",
      "Golems can no longer be destroyed by Purge\n",
      "The Swarm mana cost rescaled from 100 to 70/80/90/100\n",
      "The Swarm cooldown reduced from 36/33/30/27 to 35/30/25/20\n",
      "Winter's Curse no longer affects Spell Immune enemies in the area, but it still affects the primary target\n",
      "Death Ward damage increased from 60/90/120 to 60/105/150\n",
      "\n",
      " Aghanim's Scepter now deals the same damage\n",
      "Death Ward no longer bounces once at level 3\n",
      "\n",
      "Still bounces 4 times with  Aghanim's Scepter\n",
      "Base damage increased by 7\n",
      "Vampiric Aura does not show the healing effect if Wraith King is in the fog of war or is invisible to the enemy\n",
      "Reincarnation  Aghanim's Scepter ally death delay increased from 5 to 7 seconds\n",
      "Reincarnation  Aghanim's Scepter ally wraith aura now remains active during Reincarnation\n"
     ]
    }
   ],
   "source": [
    "for lst in df.text:\n",
    "    for item in lst:\n",
    "        print item"
   ]
  },
  {
   "cell_type": "code",
   "execution_count": 78,
   "metadata": {
    "collapsed": false
   },
   "outputs": [],
   "source": [
    "def process_numbers(text):\n",
    "    numbers = re.findall(r'([\\d\\/\\.%\\->x]+\\s.{2,13}\\s[\\d\\/\\.%\\->x]+)', text)\n",
    "    if len(numbers) > 0:\n",
    "        output = numbers[0]\n",
    "        numbers = numbers[0].replace('%', '').replace('->', '/').replace('x', '').split()\n",
    "        start = np.array(numbers[0].split('/')).astype(float)\n",
    "        end = np.array(numbers[-1].split('/')).astype(float)\n",
    "        ratio = end.mean() / start.mean()\n",
    "        return round(ratio, 3)\n",
    "    else:\n",
    "        return None"
   ]
  },
  {
   "cell_type": "code",
   "execution_count": 36,
   "metadata": {
    "collapsed": false
   },
   "outputs": [
    {
     "data": {
      "text/plain": [
       "[]"
      ]
     },
     "execution_count": 36,
     "metadata": {},
     "output_type": "execute_result"
    }
   ],
   "source": [
    "df.text[110]"
   ]
  },
  {
   "cell_type": "code",
   "execution_count": 83,
   "metadata": {
    "collapsed": false
   },
   "outputs": [
    {
     "name": "stdout",
     "output_type": "stream",
     "text": [
      "10 None\n",
      "13 None\n",
      "16 None\n",
      "23 (u'5 for 8', 1.6)\n",
      "30 None\n",
      "34 None\n",
      "40 None\n",
      "47 None\n",
      "52 None\n",
      "56 None\n",
      "57 None\n",
      "58 (u'850 to 1050', 1.235)\n",
      "67 None\n",
      "70 None\n",
      "71 None\n",
      "74 None\n",
      "78 None\n",
      "96 None\n",
      "97 None\n",
      "105 None\n",
      "107 None\n",
      "114 None\n",
      "116 None\n",
      "117 None\n",
      "125 None\n",
      "126 None\n",
      "129 None\n",
      "130 None\n",
      "132 None\n",
      "133 None\n",
      "134 None\n",
      "143 None\n",
      "145 None\n",
      "148 None\n",
      "155 None\n",
      "156 None\n",
      "158 None\n",
      "159 None\n",
      "163 None\n",
      "164 None\n",
      "165 None\n",
      "169 None\n",
      "171 None\n",
      "172 None\n",
      "173 None\n",
      "174 None\n",
      "175 None\n",
      "176 None\n",
      "177 None\n",
      "178 None\n",
      "180 None\n",
      "183 None\n",
      "185 None\n",
      "197 None\n",
      "198 None\n",
      "199 None\n",
      "203 None\n",
      "211 None\n",
      "215 None\n",
      "217 None\n",
      "220 None\n",
      "222 None\n",
      "223 None\n",
      "224 None\n",
      "226 None\n"
     ]
    }
   ],
   "source": [
    "for i, text in enumerate(texts_basic):\n",
    "    if not 'from' in text:\n",
    "        print i, process_numbers(text)"
   ]
  },
  {
   "cell_type": "code",
   "execution_count": 82,
   "metadata": {
    "collapsed": false
   },
   "outputs": [
    {
     "name": "stdout",
     "output_type": "stream",
     "text": [
      "fixed  fiend's grip sometimes not granting true sight over the target properly\n",
      "added  aghanim's scepter upgrade:  flaming lasso grabs its target, as well as the target's nearest allied hero within 400 range. the secondary target is tethered to the first. also causes lasso to deal 100 damage per second.\n",
      "track now provides vision only of the target rather than the area around it\n",
      "chaos strike now lowers the target's armor by 5 for 8 seconds whenever it crits \n",
      "\n",
      "applies before the damage happens, like  desolator. can be applied by illusions, but multiple instances do not stack. only triggers when critical strike\n",
      "base intelligence reduced by 2\n",
      "thunder strike now only provides vision over the target itself\n",
      "stone remnant is now placed in front of you when double-clicking it\n",
      "impetus is no longer a unique attack modifier\n",
      "call down slow no longer pierces spell immunity\n",
      "aghanim's scepter now adds one level to the stats provided by  quas,  wex, and  exort on all invoked spells\n",
      "max level  deafening blast now retains its normal location targeting ui \n",
      "\n",
      "rather than it being changed to a no target cast at a certain level. this does not affect how the ability itself works.\n",
      "dual breath's fiery wave now moves at the same speed as its icy wave: 850 to 1050\n",
      "base damage increased by 4\n",
      "fixed legion commander sometimes auto-attacking nearby units after  duel ends instead of continuing to attack the dueled target\n",
      "base damage reduced by 4\n",
      "sacrifice no longer splits xp with enemies\n",
      "infest and  control can now be used on ancient creeps\n",
      "hybrid no longer hides morphling or restricts its usage when a  replicate is out\n",
      "hybrids are visibly known to enemies\n",
      "\n",
      "similar to  dark seer's  wall of replica illusions\n",
      "wrath of nature  aghanim's scepter now applies a 4 second buff on the units it hits, which will spawn the extra treant if the unit dies during that time\n",
      "heartstopper aura no longer affects ancient creeps\n",
      "base armor increased by 1\n",
      "bloodlust can now be cast on towers\n",
      "fixed  multicast  bloodlust not affecting nearby spell immune allies \n",
      "\n",
      "could already target them directly\n",
      "fate's edict no longer amplifies incoming non-magical damage\n",
      "fate's edict now has normal purgability rules\n",
      "sanity's eclipse now always removes 40% of affected heroes' max mana\n",
      "\n",
      "instead of 75% of current mana only when under the threshold\n",
      "sanity's eclipse mana loss no longer pierces spell immunity\n",
      "\n",
      "matches its damage behavior\n",
      "sanity's eclipse cast range is no longer increased with  aghanim's scepter\n",
      "stifling dagger now applies your attack's on-hit effects\n",
      "\n",
      "does not guarantee a proc if the effect is chance-based\n",
      "blur no longer has a 0.75 second delay\n",
      "fixed  dismember sometimes not granting true sight over the target properly\n",
      "nether ward is now placed at the target location using a 150 cast range ability\n",
      "\n",
      "instead of placing 150 units in front of his facing direction. using double click will immediately place it infront of you.\n",
      "static link now drains damage smoothly over its duration rather than every second\n",
      "fixed  shackles sometimes not granting true sight over the target properly\n",
      "fixed  last word countdown debuff not being purgeable\n",
      "mystic flare no longer splits its damage over spell immune heroes\n",
      "sprint now provides phased movement\n",
      "desolate now works on non-hero units if they are alone\n",
      "dispersion now reflects damage before reductions and returns it as the same damage type\n",
      "\n",
      "rather than as pure damage after reduction\n",
      "greater bash now uses pseudo random chance\n",
      "base intelligence increased by 2\n",
      "techies' mines are no longer triggered when destroyed\n",
      "techies' mines can now be destroyed using  quelling blade/ battle fury\n",
      "\n",
      "same range as wards: 450\n",
      "techies' mines now provide 10 gold for destroying them\n",
      "land mines cooldown and mana cost reduced by 50%\n",
      "land mines damage reduced by 50%\n",
      "land mines no longer have a max count\n",
      "land mines and  stasis traps no longer block neutral spawns\n",
      "land mines no longer stack exactly on top of each other\n",
      "\n",
      " they can still be very close though\n",
      "reflection now affects all enemy heroes in a 900 area of effect\n",
      "\n",
      "will not affect units that are in fog or who are invisible\n",
      "conjure image illusions are known as illusions to enemies\n",
      "\n",
      "similar to  dark seer's  wall of replica illusions\n",
      "metamorphosis now emits a 900 range aura that affects his nearby illusions, causing them to match his current form\n",
      "frozen sigil no longer goes through spell immunity\n",
      "aghanim's scepter  walrus kick now deals 200 damage\n",
      "aghanim's scepter no longer improves flesh golem\n",
      "\n",
      "previously it increased damage amplification and heal\n",
      "soul rip can now restore 1/2/3/4 health to tombstone\n",
      "poison sting now works normally on illusions\n",
      "corrosive skin slow no longer pierces spell immunity\n",
      "golems can no longer be destroyed by purge\n",
      "winter's curse no longer affects spell immune enemies in the area, but it still affects the primary target\n",
      "death ward no longer bounces once at level 3\n",
      "\n",
      "still bounces 4 times with  aghanim's scepter\n",
      "base damage increased by 7\n",
      "vampiric aura does not show the healing effect if wraith king is in the fog of war or is invisible to the enemy\n",
      "reincarnation  aghanim's scepter ally wraith aura now remains active during reincarnation\n"
     ]
    }
   ],
   "source": [
    "for text in texts_basic:\n",
    "    if not 'from' in text:\n",
    "        print text"
   ]
  },
  {
   "cell_type": "code",
   "execution_count": null,
   "metadata": {
    "collapsed": true
   },
   "outputs": [],
   "source": []
  }
 ],
 "metadata": {
  "kernelspec": {
   "display_name": "Python 2",
   "language": "python",
   "name": "python2"
  },
  "language_info": {
   "codemirror_mode": {
    "name": "ipython",
    "version": 2
   },
   "file_extension": ".py",
   "mimetype": "text/x-python",
   "name": "python",
   "nbconvert_exporter": "python",
   "pygments_lexer": "ipython2",
   "version": "2.7.10"
  }
 },
 "nbformat": 4,
 "nbformat_minor": 0
}
