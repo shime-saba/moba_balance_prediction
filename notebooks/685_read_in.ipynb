{
 "cells": [
  {
   "cell_type": "code",
   "execution_count": 1,
   "metadata": {
    "collapsed": true
   },
   "outputs": [],
   "source": [
    "import sys\n",
    "sys.path.append('../code')"
   ]
  },
  {
   "cell_type": "code",
   "execution_count": 2,
   "metadata": {
    "collapsed": true
   },
   "outputs": [],
   "source": [
    "import pandas as pd\n",
    "import requests\n",
    "from bs4 import BeautifulSoup\n",
    "from collections import defaultdict\n",
    "import cPickle as pickle\n",
    "import json"
   ]
  },
  {
   "cell_type": "code",
   "execution_count": null,
   "metadata": {
    "collapsed": true
   },
   "outputs": [],
   "source": [
    "from make_patch_df import "
   ]
  },
  {
   "cell_type": "code",
   "execution_count": 26,
   "metadata": {
    "collapsed": false
   },
   "outputs": [
    {
     "data": {
      "text/html": [
       "<div>\n",
       "<table border=\"1\" class=\"dataframe\">\n",
       "  <thead>\n",
       "    <tr style=\"text-align: right;\">\n",
       "      <th></th>\n",
       "      <th>hero_name</th>\n",
       "      <th>num_buffs</th>\n",
       "      <th>num_nerfs</th>\n",
       "      <th>patch_text</th>\n",
       "    </tr>\n",
       "  </thead>\n",
       "  <tbody>\n",
       "    <tr>\n",
       "      <th>0</th>\n",
       "      <td>Abaddon</td>\n",
       "      <td>2</td>\n",
       "      <td>0</td>\n",
       "      <td>[Mist Coil cooldown reduced from 5 to 4.5, Bor...</td>\n",
       "    </tr>\n",
       "    <tr>\n",
       "      <th>1</th>\n",
       "      <td>Alchemist</td>\n",
       "      <td>2</td>\n",
       "      <td>0</td>\n",
       "      <td>[Acid Spray damage increased from 12/16/20/24 ...</td>\n",
       "    </tr>\n",
       "  </tbody>\n",
       "</table>\n",
       "</div>"
      ],
      "text/plain": [
       "   hero_name  num_buffs  num_nerfs  \\\n",
       "0    Abaddon          2          0   \n",
       "1  Alchemist          2          0   \n",
       "\n",
       "                                          patch_text  \n",
       "0  [Mist Coil cooldown reduced from 5 to 4.5, Bor...  \n",
       "1  [Acid Spray damage increased from 12/16/20/24 ...  "
      ]
     },
     "execution_count": 26,
     "metadata": {},
     "output_type": "execute_result"
    }
   ],
   "source": [
    "# example of intended df style\n",
    "changes = pd.DataFrame(columns=('Hero', 'Text', 'num_buffs', 'num_nerfs'))\n",
    "rows_list = []\n",
    "rows_list.append({'hero_name': 'Abaddon', 'patch_text': [\"Mist Coil cooldown reduced from 5 to 4.5\", \"Borrowed Time Aghanim's Scepter damage redirection increased from 35% to 50%\"], 'num_buffs': 2, 'num_nerfs': 0})\n",
    "rows_list.append({'hero_name': 'Alchemist', 'patch_text': [\"Acid Spray damage increased from 12/16/20/24 to 15/20/25/30\", \"Acid Spray damage increased from 12/16/20/24 to 15/20/25/30\"], 'num_buffs': 2, 'num_nerfs': 0})\n",
    "pd.DataFrame(rows_list)"
   ]
  },
  {
   "cell_type": "code",
   "execution_count": 3,
   "metadata": {
    "collapsed": false
   },
   "outputs": [],
   "source": [
    "# SCRAPE FOR HERO NAME SET\n",
    "\n",
    "r_heroes = requests.get('http://www.dota2.com/heroes/')\n",
    "soup_heroes = BeautifulSoup(r_heroes.content, 'html.parser')\n",
    "hero_name_set = set()\n",
    "for column in soup_heroes.findAll('div', {'class': 'heroIcons'}):\n",
    "    for a_tag in column.findAll('a'):\n",
    "        hero_name_set.add(a_tag['href'].split('/')[-2].replace('_', ' '))\n",
    "\n",
    "hero_name_set.remove('Natures Prophet')\n",
    "hero_name_set.add(\"Nature's Prophet\") # dota2.com doesn't include apostrophe"
   ]
  },
  {
   "cell_type": "code",
   "execution_count": 4,
   "metadata": {
    "collapsed": true
   },
   "outputs": [],
   "source": [
    "def build_df(hero_change_dict, hero_name_set, patch_name):\n",
    "    '''\n",
    "    helper function to assemble dictionary for df_from_patch_query\n",
    "    '''\n",
    "    heroes = []\n",
    "    change_text = []\n",
    "    for hero, text_list in hero_change_dict.iteritems():\n",
    "        heroes.append(hero)\n",
    "        change_text.append(text_list)\n",
    "        \n",
    "    df = pd.DataFrame({'hero': heroes, 'text': change_text, 'patch': [patch_name]*len(heroes)})\n",
    "    changed_heroes_685 = set(df.hero.values)\n",
    "    untouched_heroes = []\n",
    "    for hero in hero_name_set:\n",
    "        if not hero in changed_heroes_685:\n",
    "            untouched_heroes.append(hero)\n",
    "    \n",
    "    df_all_heroes = pd.concat([df, pd.DataFrame({'hero': untouched_heroes,\n",
    "                                                 'text': [[]]*len(untouched_heroes),\n",
    "                                                 'patch': [patch_name]*len(untouched_heroes)})])    \n",
    "    df_all_heroes.sort('hero', inplace=True)\n",
    "    df_all_heroes.reset_index(inplace=True)\n",
    "    df_all_heroes.drop('index', axis=1, inplace=True)\n",
    "\n",
    "    return df_all_heroes"
   ]
  },
  {
   "cell_type": "code",
   "execution_count": 5,
   "metadata": {
    "collapsed": false
   },
   "outputs": [],
   "source": [
    "def df_from_patch_query(page, hero_name_set, patch_name):\n",
    "    '''\n",
    "    INPUT: patch page url as string, set of acceptable hero names, patch label as string\n",
    "    OUTPUT: dataframe of hero : text of changes : patch label\n",
    "    '''\n",
    "    r = requests.get('https://dota2.gamepedia.com/{0}'.format(page))\n",
    "    soup = BeautifulSoup(r.content, 'html.parser')\n",
    "\n",
    "    hero_change_dict = defaultdict(list)\n",
    "    for ul in soup.find('div', {'id': 'mw-content-text'}).find('div', recursive=False).findAll('ul', recursive=False):\n",
    "        try:\n",
    "            li = ul.find('li')\n",
    "            if li.find('a')['title'] in hero_name_set:\n",
    "                for sub_ul in li.findAll('ul', recursive=False):\n",
    "                    for sub_li in sub_ul.findAll('li', recursive=False):\n",
    "                        hero_change_dict[li.find('a')['title']].append(sub_li.text.strip())\n",
    "        except:\n",
    "            continue\n",
    "    \n",
    "    df = build_df(hero_change_dict, hero_name_set, patch_name)\n",
    "    \n",
    "    return df"
   ]
  },
  {
   "cell_type": "code",
   "execution_count": 6,
   "metadata": {
    "collapsed": false
   },
   "outputs": [],
   "source": [
    "df = df_from_patch_query('September_24,_2015_Patch', hero_name_set, '6.85')"
   ]
  },
  {
   "cell_type": "code",
   "execution_count": 7,
   "metadata": {
    "collapsed": false
   },
   "outputs": [
    {
     "data": {
      "text/plain": [
       "hero                                             Anti-Mage\n",
       "patch                                                 6.85\n",
       "text     [Blink distance rescaled from 1000/1075/1150/1...\n",
       "Name: 3, dtype: object"
      ]
     },
     "execution_count": 7,
     "metadata": {},
     "output_type": "execute_result"
    }
   ],
   "source": [
    "df.loc[3]"
   ]
  },
  {
   "cell_type": "code",
   "execution_count": 8,
   "metadata": {
    "collapsed": true
   },
   "outputs": [],
   "source": [
    "# USED FOR MANUAL DATA ENTRY\n",
    "# df_all.to_csv('../data/hero_table_685.csv')\n",
    "df_xl = pd.read_csv('../data/hero_table_685_xl.csv')"
   ]
  },
  {
   "cell_type": "code",
   "execution_count": 9,
   "metadata": {
    "collapsed": false
   },
   "outputs": [],
   "source": [
    "df_changes = pd.concat([df, df_xl[['num_buffs', 'num_nerfs', 'change_type']]], axis=1)"
   ]
  },
  {
   "cell_type": "code",
   "execution_count": 10,
   "metadata": {
    "collapsed": false
   },
   "outputs": [],
   "source": [
    "df_changes['change_type'] = df_changes['change_type'].apply(lambda x: x.replace('[', '').replace(']', '').split(','))\n",
    "df_changes['change_type'] = df_changes['change_type'].apply(lambda x: [int(num.strip()) for num in x] if len(x[0]) > 0 else [])"
   ]
  },
  {
   "cell_type": "code",
   "execution_count": 11,
   "metadata": {
    "collapsed": false,
    "scrolled": true
   },
   "outputs": [
    {
     "data": {
      "text/html": [
       "<div>\n",
       "<table border=\"1\" class=\"dataframe\">\n",
       "  <thead>\n",
       "    <tr style=\"text-align: right;\">\n",
       "      <th></th>\n",
       "      <th>hero</th>\n",
       "      <th>patch</th>\n",
       "      <th>text</th>\n",
       "      <th>num_buffs</th>\n",
       "      <th>num_nerfs</th>\n",
       "      <th>change_type</th>\n",
       "    </tr>\n",
       "  </thead>\n",
       "  <tbody>\n",
       "    <tr>\n",
       "      <th>0</th>\n",
       "      <td>Abaddon</td>\n",
       "      <td>6.85</td>\n",
       "      <td>[Mist Coil cooldown reduced from 5 to 4.5, Bor...</td>\n",
       "      <td>2</td>\n",
       "      <td>0</td>\n",
       "      <td>[1, 1]</td>\n",
       "    </tr>\n",
       "    <tr>\n",
       "      <th>1</th>\n",
       "      <td>Alchemist</td>\n",
       "      <td>6.85</td>\n",
       "      <td>[Acid Spray damage increased from 12/16/20/24 ...</td>\n",
       "      <td>2</td>\n",
       "      <td>0</td>\n",
       "      <td>[1, 1]</td>\n",
       "    </tr>\n",
       "    <tr>\n",
       "      <th>2</th>\n",
       "      <td>Ancient Apparition</td>\n",
       "      <td>6.85</td>\n",
       "      <td>[Cold Feet cast range increased from 700 to 70...</td>\n",
       "      <td>1</td>\n",
       "      <td>0</td>\n",
       "      <td>[1]</td>\n",
       "    </tr>\n",
       "    <tr>\n",
       "      <th>3</th>\n",
       "      <td>Anti-Mage</td>\n",
       "      <td>6.85</td>\n",
       "      <td>[Blink distance rescaled from 1000/1075/1150/1...</td>\n",
       "      <td>0</td>\n",
       "      <td>2</td>\n",
       "      <td>[-1, -1]</td>\n",
       "    </tr>\n",
       "    <tr>\n",
       "      <th>4</th>\n",
       "      <td>Arc Warden</td>\n",
       "      <td>6.85</td>\n",
       "      <td>[Spark Wraith cooldown reduced from 7 to 4]</td>\n",
       "      <td>1</td>\n",
       "      <td>0</td>\n",
       "      <td>[1]</td>\n",
       "    </tr>\n",
       "    <tr>\n",
       "      <th>5</th>\n",
       "      <td>Axe</td>\n",
       "      <td>6.85</td>\n",
       "      <td>[]</td>\n",
       "      <td>0</td>\n",
       "      <td>0</td>\n",
       "      <td>[]</td>\n",
       "    </tr>\n",
       "  </tbody>\n",
       "</table>\n",
       "</div>"
      ],
      "text/plain": [
       "                 hero patch  \\\n",
       "0             Abaddon  6.85   \n",
       "1           Alchemist  6.85   \n",
       "2  Ancient Apparition  6.85   \n",
       "3           Anti-Mage  6.85   \n",
       "4          Arc Warden  6.85   \n",
       "5                 Axe  6.85   \n",
       "\n",
       "                                                text  num_buffs  num_nerfs  \\\n",
       "0  [Mist Coil cooldown reduced from 5 to 4.5, Bor...          2          0   \n",
       "1  [Acid Spray damage increased from 12/16/20/24 ...          2          0   \n",
       "2  [Cold Feet cast range increased from 700 to 70...          1          0   \n",
       "3  [Blink distance rescaled from 1000/1075/1150/1...          0          2   \n",
       "4        [Spark Wraith cooldown reduced from 7 to 4]          1          0   \n",
       "5                                                 []          0          0   \n",
       "\n",
       "  change_type  \n",
       "0      [1, 1]  \n",
       "1      [1, 1]  \n",
       "2         [1]  \n",
       "3    [-1, -1]  \n",
       "4         [1]  \n",
       "5          []  "
      ]
     },
     "execution_count": 11,
     "metadata": {},
     "output_type": "execute_result"
    }
   ],
   "source": [
    "df_changes.head(6)"
   ]
  },
  {
   "cell_type": "code",
   "execution_count": 12,
   "metadata": {
    "collapsed": true
   },
   "outputs": [
    {
     "name": "stderr",
     "output_type": "stream",
     "text": [
      "/anaconda/lib/python2.7/site-packages/IPython/kernel/__main__.py:2: SettingWithCopyWarning: \n",
      "A value is trying to be set on a copy of a slice from a DataFrame\n",
      "\n",
      "See the the caveats in the documentation: http://pandas.pydata.org/pandas-docs/stable/indexing.html#indexing-view-versus-copy\n",
      "  from IPython.kernel.zmq import kernelapp as app\n",
      "/anaconda/lib/python2.7/site-packages/IPython/kernel/__main__.py:3: SettingWithCopyWarning: \n",
      "A value is trying to be set on a copy of a slice from a DataFrame\n",
      "\n",
      "See the the caveats in the documentation: http://pandas.pydata.org/pandas-docs/stable/indexing.html#indexing-view-versus-copy\n",
      "  app.launch_new_instance()\n"
     ]
    }
   ],
   "source": [
    "# Oops! Pudge and Shadow Shaman have an additional fix listed on wiki.\n",
    "df_changes['change_type'][69] = [1,1,1]\n",
    "df_changes['change_type'][78] = [1,1,1]"
   ]
  },
  {
   "cell_type": "code",
   "execution_count": null,
   "metadata": {
    "collapsed": true
   },
   "outputs": [],
   "source": []
  },
  {
   "cell_type": "code",
   "execution_count": 13,
   "metadata": {
    "collapsed": false
   },
   "outputs": [],
   "source": [
    "with open('../../dota2-database/json/abilities.json') as f:\n",
    "    abi_json = json.load(f)\n",
    "ability_set = set(ability['localizedName'] for ability in abi_json)\n",
    "ability_set.remove('')"
   ]
  },
  {
   "cell_type": "code",
   "execution_count": 17,
   "metadata": {
    "collapsed": true
   },
   "outputs": [],
   "source": [
    "def remove_abi_names(changelist, abi_set=None):\n",
    "    changes_trimmed = []\n",
    "    for i, item in enumerate(changelist):\n",
    "        changes_trimmed.append(item)\n",
    "        for abi in abi_set:\n",
    "            item = item.replace(abi, '').strip()\n",
    "            changes_trimmed[i] = item\n",
    "    return changes_trimmed"
   ]
  },
  {
   "cell_type": "code",
   "execution_count": 19,
   "metadata": {
    "collapsed": false
   },
   "outputs": [],
   "source": [
    "df_changes['text_no_abi'] = df_changes['text'].apply(remove_abi_names, abi_set=ability_set)"
   ]
  },
  {
   "cell_type": "code",
   "execution_count": 20,
   "metadata": {
    "collapsed": false
   },
   "outputs": [
    {
     "data": {
      "text/html": [
       "<div>\n",
       "<table border=\"1\" class=\"dataframe\">\n",
       "  <thead>\n",
       "    <tr style=\"text-align: right;\">\n",
       "      <th></th>\n",
       "      <th>hero</th>\n",
       "      <th>patch</th>\n",
       "      <th>text</th>\n",
       "      <th>num_buffs</th>\n",
       "      <th>num_nerfs</th>\n",
       "      <th>change_type</th>\n",
       "      <th>text_no_abi</th>\n",
       "    </tr>\n",
       "  </thead>\n",
       "  <tbody>\n",
       "    <tr>\n",
       "      <th>0</th>\n",
       "      <td>Abaddon</td>\n",
       "      <td>6.85</td>\n",
       "      <td>[Mist Coil cooldown reduced from 5 to 4.5, Bor...</td>\n",
       "      <td>2</td>\n",
       "      <td>0</td>\n",
       "      <td>[1, 1]</td>\n",
       "      <td>[cooldown reduced from 5 to 4.5, Aghanim's Sce...</td>\n",
       "    </tr>\n",
       "    <tr>\n",
       "      <th>1</th>\n",
       "      <td>Alchemist</td>\n",
       "      <td>6.85</td>\n",
       "      <td>[Acid Spray damage increased from 12/16/20/24 ...</td>\n",
       "      <td>2</td>\n",
       "      <td>0</td>\n",
       "      <td>[1, 1]</td>\n",
       "      <td>[damage increased from 12/16/20/24 to 15/20/25...</td>\n",
       "    </tr>\n",
       "    <tr>\n",
       "      <th>2</th>\n",
       "      <td>Ancient Apparition</td>\n",
       "      <td>6.85</td>\n",
       "      <td>[Cold Feet cast range increased from 700 to 70...</td>\n",
       "      <td>1</td>\n",
       "      <td>0</td>\n",
       "      <td>[1]</td>\n",
       "      <td>[cast range increased from 700 to 700/800/900/...</td>\n",
       "    </tr>\n",
       "  </tbody>\n",
       "</table>\n",
       "</div>"
      ],
      "text/plain": [
       "                 hero patch  \\\n",
       "0             Abaddon  6.85   \n",
       "1           Alchemist  6.85   \n",
       "2  Ancient Apparition  6.85   \n",
       "\n",
       "                                                text  num_buffs  num_nerfs  \\\n",
       "0  [Mist Coil cooldown reduced from 5 to 4.5, Bor...          2          0   \n",
       "1  [Acid Spray damage increased from 12/16/20/24 ...          2          0   \n",
       "2  [Cold Feet cast range increased from 700 to 70...          1          0   \n",
       "\n",
       "  change_type                                        text_no_abi  \n",
       "0      [1, 1]  [cooldown reduced from 5 to 4.5, Aghanim's Sce...  \n",
       "1      [1, 1]  [damage increased from 12/16/20/24 to 15/20/25...  \n",
       "2         [1]  [cast range increased from 700 to 700/800/900/...  "
      ]
     },
     "execution_count": 20,
     "metadata": {},
     "output_type": "execute_result"
    }
   ],
   "source": [
    "df_changes.head(3)"
   ]
  },
  {
   "cell_type": "code",
   "execution_count": 123,
   "metadata": {
    "collapsed": false
   },
   "outputs": [],
   "source": [
    "with open('../data/patch_685_df.pkl', 'w') as f:\n",
    "    pickle.dump(df_changes, f)"
   ]
  },
  {
   "cell_type": "code",
   "execution_count": null,
   "metadata": {
    "collapsed": true
   },
   "outputs": [],
   "source": []
  }
 ],
 "metadata": {
  "kernelspec": {
   "display_name": "Python 2",
   "language": "python",
   "name": "python2"
  },
  "language_info": {
   "codemirror_mode": {
    "name": "ipython",
    "version": 2
   },
   "file_extension": ".py",
   "mimetype": "text/x-python",
   "name": "python",
   "nbconvert_exporter": "python",
   "pygments_lexer": "ipython2",
   "version": "2.7.11"
  }
 },
 "nbformat": 4,
 "nbformat_minor": 0
}
