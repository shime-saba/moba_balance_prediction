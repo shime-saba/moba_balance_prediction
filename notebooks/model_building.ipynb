{
 "cells": [
  {
   "cell_type": "code",
   "execution_count": 2,
   "metadata": {
    "collapsed": true
   },
   "outputs": [],
   "source": [
    "import sys\n",
    "sys.path.append('../code')"
   ]
  },
  {
   "cell_type": "code",
   "execution_count": 3,
   "metadata": {
    "collapsed": true
   },
   "outputs": [],
   "source": [
    "import cPickle as pickle\n",
    "import pandas as pd\n",
    "import numpy as np\n",
    "import matplotlib.pyplot as plt\n",
    "plt.style.use('ggplot')\n",
    "%matplotlib inline"
   ]
  },
  {
   "cell_type": "code",
   "execution_count": 4,
   "metadata": {
    "collapsed": true
   },
   "outputs": [],
   "source": [
    "with open('../data/all_patch_draft_dfs.pkl') as f:\n",
    "    patch_draft_dfs = pickle.load(f)"
   ]
  },
  {
   "cell_type": "code",
   "execution_count": 5,
   "metadata": {
    "collapsed": true
   },
   "outputs": [],
   "source": [
    "df_684 = patch_draft_dfs['6.84']"
   ]
  },
  {
   "cell_type": "code",
   "execution_count": 6,
   "metadata": {
    "collapsed": false
   },
   "outputs": [
    {
     "name": "stderr",
     "output_type": "stream",
     "text": [
      "//anaconda/lib/python2.7/site-packages/numpy/core/_methods.py:59: RuntimeWarning: Mean of empty slice.\n",
      "  warnings.warn(\"Mean of empty slice.\", RuntimeWarning)\n"
     ]
    }
   ],
   "source": [
    "df_684['avg_pred'] = df_684['predictions'].apply(np.mean)"
   ]
  },
  {
   "cell_type": "code",
   "execution_count": 8,
   "metadata": {
    "collapsed": false
   },
   "outputs": [],
   "source": [
    "df_684['num_changes'] = df_684['predictions'].apply(np.size)"
   ]
  },
  {
   "cell_type": "code",
   "execution_count": 9,
   "metadata": {
    "collapsed": false
   },
   "outputs": [
    {
     "data": {
      "text/plain": [
       "array([ 0.8069,  0.7242,  0.9359])"
      ]
     },
     "execution_count": 9,
     "metadata": {},
     "output_type": "execute_result"
    }
   ],
   "source": [
    "df_684['predictions'][1]"
   ]
  },
  {
   "cell_type": "code",
   "execution_count": 10,
   "metadata": {
    "collapsed": false
   },
   "outputs": [
    {
     "data": {
      "text/html": [
       "<div>\n",
       "<table border=\"1\" class=\"dataframe\">\n",
       "  <thead>\n",
       "    <tr style=\"text-align: right;\">\n",
       "      <th></th>\n",
       "      <th>hero</th>\n",
       "      <th>patch</th>\n",
       "      <th>text</th>\n",
       "      <th>text_no_abi</th>\n",
       "      <th>predictions</th>\n",
       "      <th>ratios</th>\n",
       "      <th>pick%</th>\n",
       "      <th>ban%</th>\n",
       "      <th>pb%</th>\n",
       "      <th>times_pb</th>\n",
       "      <th>prev_patch_pb%</th>\n",
       "      <th>prev_patch_winrate</th>\n",
       "      <th>prev_patch_allies</th>\n",
       "      <th>prev_patch_counters</th>\n",
       "      <th>avg_pred</th>\n",
       "      <th>num_changes</th>\n",
       "    </tr>\n",
       "  </thead>\n",
       "  <tbody>\n",
       "    <tr>\n",
       "      <th>0</th>\n",
       "      <td>Abaddon</td>\n",
       "      <td>6.84</td>\n",
       "      <td>[Borrowed Time can now be cast while disabled ...</td>\n",
       "      <td>[can now be cast while disabled (same rules as...</td>\n",
       "      <td>[0.921]</td>\n",
       "      <td>[None]</td>\n",
       "      <td>1.6</td>\n",
       "      <td>0.6</td>\n",
       "      <td>2.2</td>\n",
       "      <td>34</td>\n",
       "      <td>4.9</td>\n",
       "      <td>0.543</td>\n",
       "      <td>[]</td>\n",
       "      <td>[]</td>\n",
       "      <td>0.921000</td>\n",
       "      <td>1</td>\n",
       "    </tr>\n",
       "    <tr>\n",
       "      <th>1</th>\n",
       "      <td>Alchemist</td>\n",
       "      <td>6.84</td>\n",
       "      <td>[Unstable Concoction:\\n\\n Countdown can now be...</td>\n",
       "      <td>[:\\n\\n Countdown can now be seen by enemies\\n\\...</td>\n",
       "      <td>[0.8069, 0.7242, 0.9359]</td>\n",
       "      <td>[None, None, None]</td>\n",
       "      <td>1.2</td>\n",
       "      <td>0.3</td>\n",
       "      <td>1.4</td>\n",
       "      <td>22</td>\n",
       "      <td>1.1</td>\n",
       "      <td>0.600</td>\n",
       "      <td>[]</td>\n",
       "      <td>[]</td>\n",
       "      <td>0.822333</td>\n",
       "      <td>3</td>\n",
       "    </tr>\n",
       "    <tr>\n",
       "      <th>2</th>\n",
       "      <td>Ancient Apparition</td>\n",
       "      <td>6.84</td>\n",
       "      <td>[Chilling Touch buff can now be removed by cli...</td>\n",
       "      <td>[buff can now be removed by clicking on the bu...</td>\n",
       "      <td>[0.6837]</td>\n",
       "      <td>[None]</td>\n",
       "      <td>9.9</td>\n",
       "      <td>15.1</td>\n",
       "      <td>25.0</td>\n",
       "      <td>391</td>\n",
       "      <td>44.3</td>\n",
       "      <td>0.524</td>\n",
       "      <td>[(Vengeful Spirit, -0.028, False), (Lion, 0.05...</td>\n",
       "      <td>[(Dazzle, 0.124, True), (Shadow Fiend, 0.107, ...</td>\n",
       "      <td>0.683700</td>\n",
       "      <td>1</td>\n",
       "    </tr>\n",
       "  </tbody>\n",
       "</table>\n",
       "</div>"
      ],
      "text/plain": [
       "                 hero patch  \\\n",
       "0             Abaddon  6.84   \n",
       "1           Alchemist  6.84   \n",
       "2  Ancient Apparition  6.84   \n",
       "\n",
       "                                                text  \\\n",
       "0  [Borrowed Time can now be cast while disabled ...   \n",
       "1  [Unstable Concoction:\\n\\n Countdown can now be...   \n",
       "2  [Chilling Touch buff can now be removed by cli...   \n",
       "\n",
       "                                         text_no_abi  \\\n",
       "0  [can now be cast while disabled (same rules as...   \n",
       "1  [:\\n\\n Countdown can now be seen by enemies\\n\\...   \n",
       "2  [buff can now be removed by clicking on the bu...   \n",
       "\n",
       "                predictions              ratios  pick%  ban%   pb%  times_pb  \\\n",
       "0                   [0.921]              [None]    1.6   0.6   2.2        34   \n",
       "1  [0.8069, 0.7242, 0.9359]  [None, None, None]    1.2   0.3   1.4        22   \n",
       "2                  [0.6837]              [None]    9.9  15.1  25.0       391   \n",
       "\n",
       "   prev_patch_pb%  prev_patch_winrate  \\\n",
       "0             4.9               0.543   \n",
       "1             1.1               0.600   \n",
       "2            44.3               0.524   \n",
       "\n",
       "                                   prev_patch_allies  \\\n",
       "0                                                 []   \n",
       "1                                                 []   \n",
       "2  [(Vengeful Spirit, -0.028, False), (Lion, 0.05...   \n",
       "\n",
       "                                 prev_patch_counters  avg_pred  num_changes  \n",
       "0                                                 []  0.921000            1  \n",
       "1                                                 []  0.822333            3  \n",
       "2  [(Dazzle, 0.124, True), (Shadow Fiend, 0.107, ...  0.683700            1  "
      ]
     },
     "execution_count": 10,
     "metadata": {},
     "output_type": "execute_result"
    }
   ],
   "source": [
    "df_684.head(3)"
   ]
  },
  {
   "cell_type": "code",
   "execution_count": 11,
   "metadata": {
    "collapsed": false
   },
   "outputs": [],
   "source": [
    "num_numeric_changes = []\n",
    "for i, row in df_684.iterrows():\n",
    "    num_numeric_changes.append(np.sum(np.array(row['ratios']) >= 0))\n",
    "df_684['num_numeric_changes'] = num_numeric_changes"
   ]
  },
  {
   "cell_type": "code",
   "execution_count": 33,
   "metadata": {
    "collapsed": false
   },
   "outputs": [],
   "source": [
    "avg_ratio = []\n",
    "for ratio_list in df_684['ratios']:\n",
    "    ratios = np.array(ratio_list)\n",
    "    mean_ratio = np.mean(ratios[ratios >= 0])\n",
    "    if type(mean_ratio) in [float, np.float64] and not np.isnan(mean_ratio):\n",
    "        avg_ratio.append(np.mean(ratios[ratios >= 0]))\n",
    "    else:\n",
    "        avg_ratio.append(1)\n",
    "df_684['avg_ratio'] = avg_ratio"
   ]
  },
  {
   "cell_type": "code",
   "execution_count": 22,
   "metadata": {
    "collapsed": false
   },
   "outputs": [
    {
     "data": {
      "image/png": "[encoded data removed]",
      "text/plain": [
       "<matplotlib.figure.Figure at 0x10981a950>"
      ]
     },
     "metadata": {},
     "output_type": "display_data"
    }
   ],
   "source": [
    "all_preds = []\n",
    "for item in df_684['predictions']:\n",
    "    for sub_item in item:\n",
    "        all_preds.append(sub_item)\n",
    "_ = plt.hist(all_preds)"
   ]
  },
  {
   "cell_type": "code",
   "execution_count": 25,
   "metadata": {
    "collapsed": false
   },
   "outputs": [],
   "source": [
    "num_changes_0_4 = np.zeros(len(df_684))\n",
    "num_changes_4_6 = np.zeros(len(df_684))\n",
    "num_changes_6_7 = np.zeros(len(df_684))\n",
    "num_changes_7_8 = np.zeros(len(df_684))\n",
    "num_changes_8_9 = np.zeros(len(df_684))\n",
    "num_changes_9_10 = np.zeros(len(df_684))\n",
    "for i, pred_list in enumerate(df_684['predictions']):\n",
    "    for item in pred_list:\n",
    "        if 0 <= item < 0.4:\n",
    "            num_changes_0_4[i] += 1\n",
    "        elif 0.4 <= item < 0.6:\n",
    "            num_changes_4_6[i] += 1\n",
    "        elif 0.6 <= item < 0.7:\n",
    "            num_changes_6_7[i] += 1\n",
    "        elif 0.7 <= item < 0.8:\n",
    "            num_changes_7_8[i] += 1\n",
    "        elif 0.8 <= item < 0.9:\n",
    "            num_changes_8_9[i] += 1\n",
    "        elif item >= 0.9:\n",
    "            num_changes_9_10[i] += 1\n",
    "        else:\n",
    "            print 'some item got missed'\n",
    "df_684['num_changes_0_4'] = num_changes_0_4\n",
    "df_684['num_changes_4_6'] = num_changes_4_6\n",
    "df_684['num_changes_6_7'] = num_changes_6_7\n",
    "df_684['num_changes_7_8'] = num_changes_7_8\n",
    "df_684['num_changes_8_9'] = num_changes_8_9\n",
    "df_684['num_changes_9_10'] = num_changes_9_10"
   ]
  },
  {
   "cell_type": "code",
   "execution_count": 26,
   "metadata": {
    "collapsed": false
   },
   "outputs": [],
   "source": [
    "pred_dummies = pd.get_dummies(pd.cut(df_684['avg_pred'], [0, 0.4, 0.6, 0.7, 0.8, 0.9, 1.01]), prefix='avg_pred', dummy_na=True)\n",
    "df_684 = pd.concat([df_684, pred_dummies], axis=1)"
   ]
  },
  {
   "cell_type": "code",
   "execution_count": 27,
   "metadata": {
    "collapsed": false
   },
   "outputs": [],
   "source": [
    "composite_ally_change = np.zeros(len(df_684))\n",
    "composite_counter_change = np.zeros(len(df_684))\n",
    "for i, row in df_684.iterrows():\n",
    "    allies = row['prev_patch_allies']\n",
    "    counters = row['prev_patch_counters']\n",
    "    for ally in allies:\n",
    "        ally_pred = df_684[df_684['hero']==ally[0]]['avg_pred'].values[0]\n",
    "        if ally[1] > 0 and not np.isnan(ally_pred):\n",
    "            composite_ally_change[i] += ally[1] * ally_pred\n",
    "    for counter in counters:\n",
    "        counter_pred = df_684[df_684['hero']==counter[0]]['avg_pred'].values[0]\n",
    "        if not np.isnan(counter_pred):\n",
    "            composite_counter_change[i] += counter[1] * counter_pred\n",
    "\n",
    "df_684['composite_ally_change'] = composite_ally_change\n",
    "df_684['composite_counter_change'] = composite_counter_change"
   ]
  },
  {
   "cell_type": "code",
   "execution_count": 34,
   "metadata": {
    "collapsed": false
   },
   "outputs": [
    {
     "data": {
      "text/html": [
       "<div>\n",
       "<table border=\"1\" class=\"dataframe\">\n",
       "  <thead>\n",
       "    <tr style=\"text-align: right;\">\n",
       "      <th></th>\n",
       "      <th>0</th>\n",
       "      <th>1</th>\n",
       "      <th>2</th>\n",
       "      <th>3</th>\n",
       "    </tr>\n",
       "  </thead>\n",
       "  <tbody>\n",
       "    <tr>\n",
       "      <th>hero</th>\n",
       "      <td>Abaddon</td>\n",
       "      <td>Alchemist</td>\n",
       "      <td>Ancient Apparition</td>\n",
       "      <td>Anti-Mage</td>\n",
       "    </tr>\n",
       "    <tr>\n",
       "      <th>patch</th>\n",
       "      <td>6.84</td>\n",
       "      <td>6.84</td>\n",
       "      <td>6.84</td>\n",
       "      <td>6.84</td>\n",
       "    </tr>\n",
       "    <tr>\n",
       "      <th>text</th>\n",
       "      <td>[Borrowed Time can now be cast while disabled ...</td>\n",
       "      <td>[Unstable Concoction:\\n\\n Countdown can now be...</td>\n",
       "      <td>[Chilling Touch buff can now be removed by cli...</td>\n",
       "      <td>[]</td>\n",
       "    </tr>\n",
       "    <tr>\n",
       "      <th>text_no_abi</th>\n",
       "      <td>[can now be cast while disabled (same rules as...</td>\n",
       "      <td>[:\\n\\n Countdown can now be seen by enemies\\n\\...</td>\n",
       "      <td>[buff can now be removed by clicking on the bu...</td>\n",
       "      <td>[]</td>\n",
       "    </tr>\n",
       "    <tr>\n",
       "      <th>predictions</th>\n",
       "      <td>[0.921]</td>\n",
       "      <td>[0.8069, 0.7242, 0.9359]</td>\n",
       "      <td>[0.6837]</td>\n",
       "      <td>[]</td>\n",
       "    </tr>\n",
       "    <tr>\n",
       "      <th>ratios</th>\n",
       "      <td>[None]</td>\n",
       "      <td>[None, None, None]</td>\n",
       "      <td>[None]</td>\n",
       "      <td>[]</td>\n",
       "    </tr>\n",
       "    <tr>\n",
       "      <th>pick%</th>\n",
       "      <td>1.6</td>\n",
       "      <td>1.2</td>\n",
       "      <td>9.9</td>\n",
       "      <td>9.5</td>\n",
       "    </tr>\n",
       "    <tr>\n",
       "      <th>ban%</th>\n",
       "      <td>0.6</td>\n",
       "      <td>0.3</td>\n",
       "      <td>15.1</td>\n",
       "      <td>14.7</td>\n",
       "    </tr>\n",
       "    <tr>\n",
       "      <th>pb%</th>\n",
       "      <td>2.2</td>\n",
       "      <td>1.4</td>\n",
       "      <td>25</td>\n",
       "      <td>24.2</td>\n",
       "    </tr>\n",
       "    <tr>\n",
       "      <th>times_pb</th>\n",
       "      <td>34</td>\n",
       "      <td>22</td>\n",
       "      <td>391</td>\n",
       "      <td>378</td>\n",
       "    </tr>\n",
       "    <tr>\n",
       "      <th>prev_patch_pb%</th>\n",
       "      <td>4.9</td>\n",
       "      <td>1.1</td>\n",
       "      <td>44.3</td>\n",
       "      <td>17</td>\n",
       "    </tr>\n",
       "    <tr>\n",
       "      <th>prev_patch_winrate</th>\n",
       "      <td>0.543</td>\n",
       "      <td>0.6</td>\n",
       "      <td>0.524</td>\n",
       "      <td>0.447</td>\n",
       "    </tr>\n",
       "    <tr>\n",
       "      <th>prev_patch_allies</th>\n",
       "      <td>[]</td>\n",
       "      <td>[]</td>\n",
       "      <td>[(Vengeful Spirit, -0.028, False), (Lion, 0.05...</td>\n",
       "      <td>[]</td>\n",
       "    </tr>\n",
       "    <tr>\n",
       "      <th>prev_patch_counters</th>\n",
       "      <td>[]</td>\n",
       "      <td>[]</td>\n",
       "      <td>[(Dazzle, 0.124, True), (Shadow Fiend, 0.107, ...</td>\n",
       "      <td>[]</td>\n",
       "    </tr>\n",
       "    <tr>\n",
       "      <th>avg_pred</th>\n",
       "      <td>0.921</td>\n",
       "      <td>0.8223333</td>\n",
       "      <td>0.6837</td>\n",
       "      <td>NaN</td>\n",
       "    </tr>\n",
       "    <tr>\n",
       "      <th>num_changes</th>\n",
       "      <td>1</td>\n",
       "      <td>3</td>\n",
       "      <td>1</td>\n",
       "      <td>0</td>\n",
       "    </tr>\n",
       "    <tr>\n",
       "      <th>num_numeric_changes</th>\n",
       "      <td>0</td>\n",
       "      <td>0</td>\n",
       "      <td>0</td>\n",
       "      <td>0</td>\n",
       "    </tr>\n",
       "    <tr>\n",
       "      <th>avg_ratio</th>\n",
       "      <td>1</td>\n",
       "      <td>1</td>\n",
       "      <td>1</td>\n",
       "      <td>1</td>\n",
       "    </tr>\n",
       "    <tr>\n",
       "      <th>num_changes_0_4</th>\n",
       "      <td>0</td>\n",
       "      <td>0</td>\n",
       "      <td>0</td>\n",
       "      <td>0</td>\n",
       "    </tr>\n",
       "    <tr>\n",
       "      <th>num_changes_4_6</th>\n",
       "      <td>0</td>\n",
       "      <td>0</td>\n",
       "      <td>0</td>\n",
       "      <td>0</td>\n",
       "    </tr>\n",
       "    <tr>\n",
       "      <th>num_changes_6_7</th>\n",
       "      <td>0</td>\n",
       "      <td>0</td>\n",
       "      <td>1</td>\n",
       "      <td>0</td>\n",
       "    </tr>\n",
       "    <tr>\n",
       "      <th>num_changes_7_8</th>\n",
       "      <td>0</td>\n",
       "      <td>1</td>\n",
       "      <td>0</td>\n",
       "      <td>0</td>\n",
       "    </tr>\n",
       "    <tr>\n",
       "      <th>num_changes_8_9</th>\n",
       "      <td>0</td>\n",
       "      <td>1</td>\n",
       "      <td>0</td>\n",
       "      <td>0</td>\n",
       "    </tr>\n",
       "    <tr>\n",
       "      <th>num_changes_9_10</th>\n",
       "      <td>1</td>\n",
       "      <td>1</td>\n",
       "      <td>0</td>\n",
       "      <td>0</td>\n",
       "    </tr>\n",
       "    <tr>\n",
       "      <th>avg_pred_(0, 0.4]</th>\n",
       "      <td>0</td>\n",
       "      <td>0</td>\n",
       "      <td>0</td>\n",
       "      <td>0</td>\n",
       "    </tr>\n",
       "    <tr>\n",
       "      <th>avg_pred_(0.4, 0.6]</th>\n",
       "      <td>0</td>\n",
       "      <td>0</td>\n",
       "      <td>0</td>\n",
       "      <td>0</td>\n",
       "    </tr>\n",
       "    <tr>\n",
       "      <th>avg_pred_(0.6, 0.7]</th>\n",
       "      <td>0</td>\n",
       "      <td>0</td>\n",
       "      <td>1</td>\n",
       "      <td>0</td>\n",
       "    </tr>\n",
       "    <tr>\n",
       "      <th>avg_pred_(0.7, 0.8]</th>\n",
       "      <td>0</td>\n",
       "      <td>0</td>\n",
       "      <td>0</td>\n",
       "      <td>0</td>\n",
       "    </tr>\n",
       "    <tr>\n",
       "      <th>avg_pred_(0.8, 0.9]</th>\n",
       "      <td>0</td>\n",
       "      <td>1</td>\n",
       "      <td>0</td>\n",
       "      <td>0</td>\n",
       "    </tr>\n",
       "    <tr>\n",
       "      <th>avg_pred_(0.9, 1.01]</th>\n",
       "      <td>1</td>\n",
       "      <td>0</td>\n",
       "      <td>0</td>\n",
       "      <td>0</td>\n",
       "    </tr>\n",
       "    <tr>\n",
       "      <th>avg_pred_nan</th>\n",
       "      <td>0</td>\n",
       "      <td>0</td>\n",
       "      <td>0</td>\n",
       "      <td>1</td>\n",
       "    </tr>\n",
       "    <tr>\n",
       "      <th>composite_ally_change</th>\n",
       "      <td>0</td>\n",
       "      <td>0</td>\n",
       "      <td>0.3510297</td>\n",
       "      <td>0</td>\n",
       "    </tr>\n",
       "    <tr>\n",
       "      <th>composite_counter_change</th>\n",
       "      <td>0</td>\n",
       "      <td>0</td>\n",
       "      <td>0.04679873</td>\n",
       "      <td>0</td>\n",
       "    </tr>\n",
       "  </tbody>\n",
       "</table>\n",
       "</div>"
      ],
      "text/plain": [
       "                                                                          0  \\\n",
       "hero                                                                Abaddon   \n",
       "patch                                                                  6.84   \n",
       "text                      [Borrowed Time can now be cast while disabled ...   \n",
       "text_no_abi               [can now be cast while disabled (same rules as...   \n",
       "predictions                                                         [0.921]   \n",
       "ratios                                                               [None]   \n",
       "pick%                                                                   1.6   \n",
       "ban%                                                                    0.6   \n",
       "pb%                                                                     2.2   \n",
       "times_pb                                                                 34   \n",
       "prev_patch_pb%                                                          4.9   \n",
       "prev_patch_winrate                                                    0.543   \n",
       "prev_patch_allies                                                        []   \n",
       "prev_patch_counters                                                      []   \n",
       "avg_pred                                                              0.921   \n",
       "num_changes                                                               1   \n",
       "num_numeric_changes                                                       0   \n",
       "avg_ratio                                                                 1   \n",
       "num_changes_0_4                                                           0   \n",
       "num_changes_4_6                                                           0   \n",
       "num_changes_6_7                                                           0   \n",
       "num_changes_7_8                                                           0   \n",
       "num_changes_8_9                                                           0   \n",
       "num_changes_9_10                                                          1   \n",
       "avg_pred_(0, 0.4]                                                         0   \n",
       "avg_pred_(0.4, 0.6]                                                       0   \n",
       "avg_pred_(0.6, 0.7]                                                       0   \n",
       "avg_pred_(0.7, 0.8]                                                       0   \n",
       "avg_pred_(0.8, 0.9]                                                       0   \n",
       "avg_pred_(0.9, 1.01]                                                      1   \n",
       "avg_pred_nan                                                              0   \n",
       "composite_ally_change                                                     0   \n",
       "composite_counter_change                                                  0   \n",
       "\n",
       "                                                                          1  \\\n",
       "hero                                                              Alchemist   \n",
       "patch                                                                  6.84   \n",
       "text                      [Unstable Concoction:\\n\\n Countdown can now be...   \n",
       "text_no_abi               [:\\n\\n Countdown can now be seen by enemies\\n\\...   \n",
       "predictions                                        [0.8069, 0.7242, 0.9359]   \n",
       "ratios                                                   [None, None, None]   \n",
       "pick%                                                                   1.2   \n",
       "ban%                                                                    0.3   \n",
       "pb%                                                                     1.4   \n",
       "times_pb                                                                 22   \n",
       "prev_patch_pb%                                                          1.1   \n",
       "prev_patch_winrate                                                      0.6   \n",
       "prev_patch_allies                                                        []   \n",
       "prev_patch_counters                                                      []   \n",
       "avg_pred                                                          0.8223333   \n",
       "num_changes                                                               3   \n",
       "num_numeric_changes                                                       0   \n",
       "avg_ratio                                                                 1   \n",
       "num_changes_0_4                                                           0   \n",
       "num_changes_4_6                                                           0   \n",
       "num_changes_6_7                                                           0   \n",
       "num_changes_7_8                                                           1   \n",
       "num_changes_8_9                                                           1   \n",
       "num_changes_9_10                                                          1   \n",
       "avg_pred_(0, 0.4]                                                         0   \n",
       "avg_pred_(0.4, 0.6]                                                       0   \n",
       "avg_pred_(0.6, 0.7]                                                       0   \n",
       "avg_pred_(0.7, 0.8]                                                       0   \n",
       "avg_pred_(0.8, 0.9]                                                       1   \n",
       "avg_pred_(0.9, 1.01]                                                      0   \n",
       "avg_pred_nan                                                              0   \n",
       "composite_ally_change                                                     0   \n",
       "composite_counter_change                                                  0   \n",
       "\n",
       "                                                                          2  \\\n",
       "hero                                                     Ancient Apparition   \n",
       "patch                                                                  6.84   \n",
       "text                      [Chilling Touch buff can now be removed by cli...   \n",
       "text_no_abi               [buff can now be removed by clicking on the bu...   \n",
       "predictions                                                        [0.6837]   \n",
       "ratios                                                               [None]   \n",
       "pick%                                                                   9.9   \n",
       "ban%                                                                   15.1   \n",
       "pb%                                                                      25   \n",
       "times_pb                                                                391   \n",
       "prev_patch_pb%                                                         44.3   \n",
       "prev_patch_winrate                                                    0.524   \n",
       "prev_patch_allies         [(Vengeful Spirit, -0.028, False), (Lion, 0.05...   \n",
       "prev_patch_counters       [(Dazzle, 0.124, True), (Shadow Fiend, 0.107, ...   \n",
       "avg_pred                                                             0.6837   \n",
       "num_changes                                                               1   \n",
       "num_numeric_changes                                                       0   \n",
       "avg_ratio                                                                 1   \n",
       "num_changes_0_4                                                           0   \n",
       "num_changes_4_6                                                           0   \n",
       "num_changes_6_7                                                           1   \n",
       "num_changes_7_8                                                           0   \n",
       "num_changes_8_9                                                           0   \n",
       "num_changes_9_10                                                          0   \n",
       "avg_pred_(0, 0.4]                                                         0   \n",
       "avg_pred_(0.4, 0.6]                                                       0   \n",
       "avg_pred_(0.6, 0.7]                                                       1   \n",
       "avg_pred_(0.7, 0.8]                                                       0   \n",
       "avg_pred_(0.8, 0.9]                                                       0   \n",
       "avg_pred_(0.9, 1.01]                                                      0   \n",
       "avg_pred_nan                                                              0   \n",
       "composite_ally_change                                             0.3510297   \n",
       "composite_counter_change                                         0.04679873   \n",
       "\n",
       "                                  3  \n",
       "hero                      Anti-Mage  \n",
       "patch                          6.84  \n",
       "text                             []  \n",
       "text_no_abi                      []  \n",
       "predictions                      []  \n",
       "ratios                           []  \n",
       "pick%                           9.5  \n",
       "ban%                           14.7  \n",
       "pb%                            24.2  \n",
       "times_pb                        378  \n",
       "prev_patch_pb%                   17  \n",
       "prev_patch_winrate            0.447  \n",
       "prev_patch_allies                []  \n",
       "prev_patch_counters              []  \n",
       "avg_pred                        NaN  \n",
       "num_changes                       0  \n",
       "num_numeric_changes               0  \n",
       "avg_ratio                         1  \n",
       "num_changes_0_4                   0  \n",
       "num_changes_4_6                   0  \n",
       "num_changes_6_7                   0  \n",
       "num_changes_7_8                   0  \n",
       "num_changes_8_9                   0  \n",
       "num_changes_9_10                  0  \n",
       "avg_pred_(0, 0.4]                 0  \n",
       "avg_pred_(0.4, 0.6]               0  \n",
       "avg_pred_(0.6, 0.7]               0  \n",
       "avg_pred_(0.7, 0.8]               0  \n",
       "avg_pred_(0.8, 0.9]               0  \n",
       "avg_pred_(0.9, 1.01]              0  \n",
       "avg_pred_nan                      1  \n",
       "composite_ally_change             0  \n",
       "composite_counter_change          0  "
      ]
     },
     "execution_count": 34,
     "metadata": {},
     "output_type": "execute_result"
    }
   ],
   "source": [
    "df_684.head(4).T"
   ]
  },
  {
   "cell_type": "code",
   "execution_count": 39,
   "metadata": {
    "collapsed": true
   },
   "outputs": [],
   "source": [
    "df_test = df_684.copy()\n",
    "df_test.drop(['hero', 'patch', 'text', 'text_no_abi', 'predictions', 'ratios', 'pick%',\n",
    "              'ban%', 'times_pb', 'prev_patch_allies', 'prev_patch_counters', 'avg_pred'], axis=1, inplace=True)"
   ]
  },
  {
   "cell_type": "code",
   "execution_count": 40,
   "metadata": {
    "collapsed": false
   },
   "outputs": [],
   "source": [
    "target = df_test.pop('pb%').values"
   ]
  },
  {
   "cell_type": "code",
   "execution_count": 48,
   "metadata": {
    "collapsed": true
   },
   "outputs": [],
   "source": [
    "X = df_test.values"
   ]
  },
  {
   "cell_type": "code",
   "execution_count": 49,
   "metadata": {
    "collapsed": false
   },
   "outputs": [
    {
     "data": {
      "text/html": [
       "<div>\n",
       "<table border=\"1\" class=\"dataframe\">\n",
       "  <thead>\n",
       "    <tr style=\"text-align: right;\">\n",
       "      <th></th>\n",
       "      <th>prev_patch_pb%</th>\n",
       "      <th>prev_patch_winrate</th>\n",
       "      <th>num_changes</th>\n",
       "      <th>num_numeric_changes</th>\n",
       "      <th>avg_ratio</th>\n",
       "      <th>num_changes_0_4</th>\n",
       "      <th>num_changes_4_6</th>\n",
       "      <th>num_changes_6_7</th>\n",
       "      <th>num_changes_7_8</th>\n",
       "      <th>num_changes_8_9</th>\n",
       "      <th>num_changes_9_10</th>\n",
       "      <th>avg_pred_(0, 0.4]</th>\n",
       "      <th>avg_pred_(0.4, 0.6]</th>\n",
       "      <th>avg_pred_(0.6, 0.7]</th>\n",
       "      <th>avg_pred_(0.7, 0.8]</th>\n",
       "      <th>avg_pred_(0.8, 0.9]</th>\n",
       "      <th>avg_pred_(0.9, 1.01]</th>\n",
       "      <th>avg_pred_nan</th>\n",
       "      <th>composite_ally_change</th>\n",
       "      <th>composite_counter_change</th>\n",
       "    </tr>\n",
       "  </thead>\n",
       "  <tbody>\n",
       "    <tr>\n",
       "      <th>0</th>\n",
       "      <td>4.9</td>\n",
       "      <td>0.543</td>\n",
       "      <td>1</td>\n",
       "      <td>0</td>\n",
       "      <td>1.0000</td>\n",
       "      <td>0</td>\n",
       "      <td>0</td>\n",
       "      <td>0</td>\n",
       "      <td>0</td>\n",
       "      <td>0</td>\n",
       "      <td>1</td>\n",
       "      <td>0</td>\n",
       "      <td>0</td>\n",
       "      <td>0</td>\n",
       "      <td>0</td>\n",
       "      <td>0</td>\n",
       "      <td>1</td>\n",
       "      <td>0</td>\n",
       "      <td>0.000000</td>\n",
       "      <td>0.000000</td>\n",
       "    </tr>\n",
       "    <tr>\n",
       "      <th>1</th>\n",
       "      <td>1.1</td>\n",
       "      <td>0.600</td>\n",
       "      <td>3</td>\n",
       "      <td>0</td>\n",
       "      <td>1.0000</td>\n",
       "      <td>0</td>\n",
       "      <td>0</td>\n",
       "      <td>0</td>\n",
       "      <td>1</td>\n",
       "      <td>1</td>\n",
       "      <td>1</td>\n",
       "      <td>0</td>\n",
       "      <td>0</td>\n",
       "      <td>0</td>\n",
       "      <td>0</td>\n",
       "      <td>1</td>\n",
       "      <td>0</td>\n",
       "      <td>0</td>\n",
       "      <td>0.000000</td>\n",
       "      <td>0.000000</td>\n",
       "    </tr>\n",
       "    <tr>\n",
       "      <th>2</th>\n",
       "      <td>44.3</td>\n",
       "      <td>0.524</td>\n",
       "      <td>1</td>\n",
       "      <td>0</td>\n",
       "      <td>1.0000</td>\n",
       "      <td>0</td>\n",
       "      <td>0</td>\n",
       "      <td>1</td>\n",
       "      <td>0</td>\n",
       "      <td>0</td>\n",
       "      <td>0</td>\n",
       "      <td>0</td>\n",
       "      <td>0</td>\n",
       "      <td>1</td>\n",
       "      <td>0</td>\n",
       "      <td>0</td>\n",
       "      <td>0</td>\n",
       "      <td>0</td>\n",
       "      <td>0.351030</td>\n",
       "      <td>0.046799</td>\n",
       "    </tr>\n",
       "    <tr>\n",
       "      <th>3</th>\n",
       "      <td>17.0</td>\n",
       "      <td>0.447</td>\n",
       "      <td>0</td>\n",
       "      <td>0</td>\n",
       "      <td>1.0000</td>\n",
       "      <td>0</td>\n",
       "      <td>0</td>\n",
       "      <td>0</td>\n",
       "      <td>0</td>\n",
       "      <td>0</td>\n",
       "      <td>0</td>\n",
       "      <td>0</td>\n",
       "      <td>0</td>\n",
       "      <td>0</td>\n",
       "      <td>0</td>\n",
       "      <td>0</td>\n",
       "      <td>0</td>\n",
       "      <td>1</td>\n",
       "      <td>0.000000</td>\n",
       "      <td>0.000000</td>\n",
       "    </tr>\n",
       "    <tr>\n",
       "      <th>4</th>\n",
       "      <td>72.6</td>\n",
       "      <td>0.474</td>\n",
       "      <td>3</td>\n",
       "      <td>2</td>\n",
       "      <td>1.0415</td>\n",
       "      <td>0</td>\n",
       "      <td>0</td>\n",
       "      <td>0</td>\n",
       "      <td>1</td>\n",
       "      <td>1</td>\n",
       "      <td>1</td>\n",
       "      <td>0</td>\n",
       "      <td>0</td>\n",
       "      <td>0</td>\n",
       "      <td>0</td>\n",
       "      <td>1</td>\n",
       "      <td>0</td>\n",
       "      <td>0</td>\n",
       "      <td>0.144784</td>\n",
       "      <td>-0.070436</td>\n",
       "    </tr>\n",
       "  </tbody>\n",
       "</table>\n",
       "</div>"
      ],
      "text/plain": [
       "   prev_patch_pb%  prev_patch_winrate  num_changes  num_numeric_changes  \\\n",
       "0             4.9               0.543            1                    0   \n",
       "1             1.1               0.600            3                    0   \n",
       "2            44.3               0.524            1                    0   \n",
       "3            17.0               0.447            0                    0   \n",
       "4            72.6               0.474            3                    2   \n",
       "\n",
       "   avg_ratio  num_changes_0_4  num_changes_4_6  num_changes_6_7  \\\n",
       "0     1.0000                0                0                0   \n",
       "1     1.0000                0                0                0   \n",
       "2     1.0000                0                0                1   \n",
       "3     1.0000                0                0                0   \n",
       "4     1.0415                0                0                0   \n",
       "\n",
       "   num_changes_7_8  num_changes_8_9  num_changes_9_10  avg_pred_(0, 0.4]  \\\n",
       "0                0                0                 1                  0   \n",
       "1                1                1                 1                  0   \n",
       "2                0                0                 0                  0   \n",
       "3                0                0                 0                  0   \n",
       "4                1                1                 1                  0   \n",
       "\n",
       "   avg_pred_(0.4, 0.6]  avg_pred_(0.6, 0.7]  avg_pred_(0.7, 0.8]  \\\n",
       "0                    0                    0                    0   \n",
       "1                    0                    0                    0   \n",
       "2                    0                    1                    0   \n",
       "3                    0                    0                    0   \n",
       "4                    0                    0                    0   \n",
       "\n",
       "   avg_pred_(0.8, 0.9]  avg_pred_(0.9, 1.01]  avg_pred_nan  \\\n",
       "0                    0                     1             0   \n",
       "1                    1                     0             0   \n",
       "2                    0                     0             0   \n",
       "3                    0                     0             1   \n",
       "4                    1                     0             0   \n",
       "\n",
       "   composite_ally_change  composite_counter_change  \n",
       "0               0.000000                  0.000000  \n",
       "1               0.000000                  0.000000  \n",
       "2               0.351030                  0.046799  \n",
       "3               0.000000                  0.000000  \n",
       "4               0.144784                 -0.070436  "
      ]
     },
     "execution_count": 49,
     "metadata": {},
     "output_type": "execute_result"
    }
   ],
   "source": [
    "df_test.head()"
   ]
  },
  {
   "cell_type": "code",
   "execution_count": 50,
   "metadata": {
    "collapsed": false
   },
   "outputs": [
    {
     "data": {
      "text/plain": [
       "RandomForestRegressor(bootstrap=True, criterion='mse', max_depth=None,\n",
       "           max_features='auto', max_leaf_nodes=None, min_samples_leaf=1,\n",
       "           min_samples_split=2, min_weight_fraction_leaf=0.0,\n",
       "           n_estimators=100, n_jobs=-1, oob_score=True, random_state=None,\n",
       "           verbose=0, warm_start=False)"
      ]
     },
     "execution_count": 50,
     "metadata": {},
     "output_type": "execute_result"
    }
   ],
   "source": [
    "from sklearn.ensemble import RandomForestRegressor\n",
    "rf = RandomForestRegressor(n_estimators=100, n_jobs=-1)\n",
    "rf.fit(X, target)"
   ]
  },
  {
   "cell_type": "code",
   "execution_count": 47,
   "metadata": {
    "collapsed": false
   },
   "outputs": [
    {
     "data": {
      "text/plain": [
       "array([1, 1, 0, 0, 0, 0, 0, 0, 0, 0, 0, 0, 0, 0, 0, 0, 0, 0, 0, 0])"
      ]
     },
     "execution_count": 47,
     "metadata": {},
     "output_type": "execute_result"
    }
   ],
   "source": [
    "sum(np.isnan(X))"
   ]
  },
  {
   "cell_type": "code",
   "execution_count": 45,
   "metadata": {
    "collapsed": false
   },
   "outputs": [],
   "source": [
    "df_test['prev_patch_pb%'].fillna(0, inplace=True)\n",
    "df_test['prev_patch_winrate'].fillna(0, inplace=True)"
   ]
  },
  {
   "cell_type": "code",
   "execution_count": 51,
   "metadata": {
    "collapsed": false
   },
   "outputs": [
    {
     "data": {
      "text/plain": [
       "array([  3.85 ,   5.834,  31.546,  18.179,  16.461,  13.753,  13.632,\n",
       "        21.182,  23.787,  40.102,  15.75 ,  28.101,  37.037,  17.58 ,\n",
       "         2.349,  23.354,  11.846,  56.272,  12.357,  37.627])"
      ]
     },
     "execution_count": 51,
     "metadata": {},
     "output_type": "execute_result"
    }
   ],
   "source": [
    "rf.predict(X)[:20]"
   ]
  },
  {
   "cell_type": "code",
   "execution_count": 52,
   "metadata": {
    "collapsed": false
   },
   "outputs": [
    {
     "data": {
      "text/plain": [
       "array([  2.2,   1.4,  25. ,  24.2,  10.8,  11.7,   5.6,  25.6,  23.1,\n",
       "        51.3,   7.9,  28.3,  45.5,   9.2,   1.2,  21.9,   9.2,  61.8,\n",
       "         9.1,  46.7])"
      ]
     },
     "execution_count": 52,
     "metadata": {},
     "output_type": "execute_result"
    }
   ],
   "source": [
    "target[:20]"
   ]
  },
  {
   "cell_type": "code",
   "execution_count": 53,
   "metadata": {
    "collapsed": false
   },
   "outputs": [
    {
     "data": {
      "text/plain": [
       "array([  4.9,   1.1,  44.3,  17. ,  72.6,   4. ,  77.1,  15.9,   3.1,\n",
       "         1. ,  40.4,  39. ,  31.8,  12.4,   2.3,  38.8,   1.8,  41.6,\n",
       "         2.1,   4.2])"
      ]
     },
     "execution_count": 53,
     "metadata": {},
     "output_type": "execute_result"
    }
   ],
   "source": [
    "df_test['prev_patch_pb%'].values[:20]"
   ]
  },
  {
   "cell_type": "code",
   "execution_count": 54,
   "metadata": {
    "collapsed": false
   },
   "outputs": [
    {
     "data": {
      "text/plain": [
       "61.418261018518464"
      ]
     },
     "execution_count": 54,
     "metadata": {},
     "output_type": "execute_result"
    }
   ],
   "source": [
    "from sklearn.metrics import mean_squared_error\n",
    "mean_squared_error(target, rf.predict(X))"
   ]
  },
  {
   "cell_type": "code",
   "execution_count": 55,
   "metadata": {
    "collapsed": false
   },
   "outputs": [
    {
     "data": {
      "text/plain": [
       "636.64851851851859"
      ]
     },
     "execution_count": 55,
     "metadata": {},
     "output_type": "execute_result"
    }
   ],
   "source": [
    "mean_squared_error(target, df_test['prev_patch_pb%'])"
   ]
  },
  {
   "cell_type": "code",
   "execution_count": 56,
   "metadata": {
    "collapsed": true
   },
   "outputs": [],
   "source": [
    "from sklearn.cross_validation import train_test_split"
   ]
  },
  {
   "cell_type": "code",
   "execution_count": 57,
   "metadata": {
    "collapsed": true
   },
   "outputs": [],
   "source": [
    "X_train, X_test, y_train, y_test, prev_train, prev_test = train_test_split(X, target, df_test['prev_patch_pb%'].values)"
   ]
  },
  {
   "cell_type": "code",
   "execution_count": 58,
   "metadata": {
    "collapsed": false
   },
   "outputs": [
    {
     "data": {
      "text/plain": [
       "RandomForestRegressor(bootstrap=True, criterion='mse', max_depth=None,\n",
       "           max_features='auto', max_leaf_nodes=None, min_samples_leaf=1,\n",
       "           min_samples_split=2, min_weight_fraction_leaf=0.0,\n",
       "           n_estimators=100, n_jobs=-1, oob_score=True, random_state=None,\n",
       "           verbose=0, warm_start=False)"
      ]
     },
     "execution_count": 58,
     "metadata": {},
     "output_type": "execute_result"
    }
   ],
   "source": [
    "from sklearn.ensemble import RandomForestRegressor\n",
    "rf = RandomForestRegressor(n_estimators=100, n_jobs=-1)\n",
    "rf.fit(X_train, y_train)"
   ]
  },
  {
   "cell_type": "code",
   "execution_count": 59,
   "metadata": {
    "collapsed": false
   },
   "outputs": [
    {
     "data": {
      "text/plain": [
       "461.49202740740742"
      ]
     },
     "execution_count": 59,
     "metadata": {},
     "output_type": "execute_result"
    }
   ],
   "source": [
    "mean_squared_error(y_test, rf.predict(X_test))"
   ]
  },
  {
   "cell_type": "code",
   "execution_count": 60,
   "metadata": {
    "collapsed": false
   },
   "outputs": [
    {
     "data": {
      "text/plain": [
       "940.96481481481476"
      ]
     },
     "execution_count": 60,
     "metadata": {},
     "output_type": "execute_result"
    }
   ],
   "source": [
    "mean_squared_error(y_test, prev_test)"
   ]
  },
  {
   "cell_type": "code",
   "execution_count": null,
   "metadata": {
    "collapsed": true
   },
   "outputs": [],
   "source": []
  },
  {
   "cell_type": "code",
   "execution_count": 62,
   "metadata": {
    "collapsed": false
   },
   "outputs": [
    {
     "data": {
      "text/plain": [
       "GradientBoostingRegressor(alpha=0.9, init=None, learning_rate=0.1, loss='ls',\n",
       "             max_depth=3, max_features=None, max_leaf_nodes=None,\n",
       "             min_samples_leaf=1, min_samples_split=2,\n",
       "             min_weight_fraction_leaf=0.0, n_estimators=100,\n",
       "             random_state=None, subsample=1.0, verbose=0, warm_start=False)"
      ]
     },
     "execution_count": 62,
     "metadata": {},
     "output_type": "execute_result"
    }
   ],
   "source": [
    "from sklearn.ensemble import GradientBoostingRegressor\n",
    "gbr = GradientBoostingRegressor()\n",
    "gbr.fit(X_train, y_train)"
   ]
  },
  {
   "cell_type": "code",
   "execution_count": 65,
   "metadata": {
    "collapsed": false
   },
   "outputs": [
    {
     "data": {
      "text/plain": [
       "27"
      ]
     },
     "execution_count": 65,
     "metadata": {},
     "output_type": "execute_result"
    }
   ],
   "source": [
    "len(y_test)"
   ]
  },
  {
   "cell_type": "code",
   "execution_count": 73,
   "metadata": {
    "collapsed": false
   },
   "outputs": [],
   "source": [
    "min_val = 0\n",
    "min_mse = float('inf')\n",
    "for const in np.linspace(0, 100, num=1000):\n",
    "    if mean_squared_error(y_test, [const]*len(y_test)) < min_mse:\n",
    "        min_val = const\n",
    "        min_mse = mean_squared_error(y_test, [const]*len(y_test))"
   ]
  },
  {
   "cell_type": "code",
   "execution_count": 75,
   "metadata": {
    "collapsed": false
   },
   "outputs": [
    {
     "data": {
      "text/plain": [
       "446.18561459357255"
      ]
     },
     "execution_count": 75,
     "metadata": {},
     "output_type": "execute_result"
    }
   ],
   "source": [
    "min_mse"
   ]
  },
  {
   "cell_type": "code",
   "execution_count": 76,
   "metadata": {
    "collapsed": false
   },
   "outputs": [
    {
     "data": {
      "text/plain": [
       "array([ 21.9,   9.2,  54.4,   2.8,   1.4,   1.2,  28.7,   2.2,   3.7,\n",
       "         1.8,   3.3,  10.6,  54.1,  45.5,   2. ,   3.3,   0.3,  46. ,\n",
       "        25.6,  76.3,  10.8,  14.9,  15.5,   3.1,   3.1,  48.2,   2.8])"
      ]
     },
     "execution_count": 76,
     "metadata": {},
     "output_type": "execute_result"
    }
   ],
   "source": [
    "y_test"
   ]
  },
  {
   "cell_type": "code",
   "execution_count": 77,
   "metadata": {
    "collapsed": false
   },
   "outputs": [
    {
     "data": {
      "text/plain": [
       "array([ 28.212,   6.608,  58.401,   4.486,  18.812,  39.234,  18.14 ,\n",
       "         8.332,  25.258,  35.471,  13.664,  16.822,  30.699,  15.787,\n",
       "        14.895,  19.422,   3.903,  29.785,  23.349,  15.045,  30.241,\n",
       "        38.238,  31.229,  15.977,  24.324,  16.11 ,   9.546])"
      ]
     },
     "execution_count": 77,
     "metadata": {},
     "output_type": "execute_result"
    }
   ],
   "source": [
    "rf.predict(X_test)"
   ]
  },
  {
   "cell_type": "code",
   "execution_count": null,
   "metadata": {
    "collapsed": true
   },
   "outputs": [],
   "source": []
  }
 ],
 "metadata": {
  "kernelspec": {
   "display_name": "Python 2",
   "language": "python",
   "name": "python2"
  },
  "language_info": {
   "codemirror_mode": {
    "name": "ipython",
    "version": 2
   },
   "file_extension": ".py",
   "mimetype": "text/x-python",
   "name": "python",
   "nbconvert_exporter": "python",
   "pygments_lexer": "ipython2",
   "version": "2.7.10"
  }
 },
 "nbformat": 4,
 "nbformat_minor": 0
}
