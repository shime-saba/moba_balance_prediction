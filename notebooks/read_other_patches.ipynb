{
 "cells": [
  {
   "cell_type": "code",
   "execution_count": 3,
   "metadata": {
    "collapsed": true
   },
   "outputs": [],
   "source": [
    "import sys\n",
    "sys.path.append('../code')"
   ]
  },
  {
   "cell_type": "code",
   "execution_count": 4,
   "metadata": {
    "collapsed": true
   },
   "outputs": [],
   "source": [
    "import json\n",
    "from sklearn.metrics import roc_auc_score\n",
    "from sklearn.metrics import roc_curve\n",
    "from sklearn.cross_validation import train_test_split\n",
    "from sklearn.feature_extraction.text import CountVectorizer, TfidfVectorizer\n",
    "from sklearn.naive_bayes import MultinomialNB\n",
    "from sklearn.ensemble import RandomForestClassifier\n",
    "from sklearn.ensemble import GradientBoostingClassifier"
   ]
  },
  {
   "cell_type": "code",
   "execution_count": 5,
   "metadata": {
    "collapsed": false
   },
   "outputs": [],
   "source": [
    "from make_patch_df import *\n",
    "from patch_nlp import get_texts_and_labels"
   ]
  },
  {
   "cell_type": "code",
   "execution_count": 3,
   "metadata": {
    "collapsed": false
   },
   "outputs": [],
   "source": [
    "hero_name_set = get_hero_names()\n",
    "ability_set = get_abi_names('../../dota2-database/json/abilities.json')"
   ]
  },
  {
   "cell_type": "code",
   "execution_count": null,
   "metadata": {
    "collapsed": false
   },
   "outputs": [],
   "source": [
    "patch_url_dict = {}\n",
    "patch_url_dict['6.86'] = 'December_16,_2015_Patch'\n",
    "patch_url_dict['6.85'] = 'September_24,_2015_Patch'\n",
    "patch_url_dict['6.84'] = 'April_30,_2015_Patch'\n",
    "patch_url_dict['6.83'] = 'December_17,_2014_Patch'\n",
    "patch_url_dict['6.82'] = 'September_25,_2014_Patch'\n",
    "patch_url_dict['6.81'] = 'April_29,_2014_Patch'\n",
    "patch_url_dict['6.80'] = 'January_29,_2014_Patch'\n",
    "patch_url_dict['6.79'] = 'October_21,_2013_Patch'\n",
    "patch_url_dict['6.78'] = 'June_04,_2013_Patch'\n",
    "patch_url_dict['6.77'] = 'December_19,_2012_Patch'"
   ]
  },
  {
   "cell_type": "code",
   "execution_count": 17,
   "metadata": {
    "collapsed": true
   },
   "outputs": [],
   "source": [
    "with open('../data/patch_685_df.pkl') as f:\n",
    "    df_685_full = pickle.load(f)\n",
    "    \n",
    "# df_685 = df_from_patch_query('September_24,_2015_Patch', hero_name_set, '6.85')"
   ]
  },
  {
   "cell_type": "code",
   "execution_count": 19,
   "metadata": {
    "collapsed": false
   },
   "outputs": [
    {
     "data": {
      "text/html": [
       "<div>\n",
       "<table border=\"1\" class=\"dataframe\">\n",
       "  <thead>\n",
       "    <tr style=\"text-align: right;\">\n",
       "      <th></th>\n",
       "      <th>hero</th>\n",
       "      <th>patch</th>\n",
       "      <th>text</th>\n",
       "      <th>num_buffs</th>\n",
       "      <th>num_nerfs</th>\n",
       "      <th>change_type</th>\n",
       "      <th>text_no_abi</th>\n",
       "    </tr>\n",
       "  </thead>\n",
       "  <tbody>\n",
       "    <tr>\n",
       "      <th>0</th>\n",
       "      <td>Abaddon</td>\n",
       "      <td>6.85</td>\n",
       "      <td>[Mist Coil cooldown reduced from 5 to 4.5, Bor...</td>\n",
       "      <td>2</td>\n",
       "      <td>0</td>\n",
       "      <td>[1, 1]</td>\n",
       "      <td>[cooldown reduced from 5 to 4.5, Aghanim's Sce...</td>\n",
       "    </tr>\n",
       "    <tr>\n",
       "      <th>1</th>\n",
       "      <td>Alchemist</td>\n",
       "      <td>6.85</td>\n",
       "      <td>[Acid Spray damage increased from 12/16/20/24 ...</td>\n",
       "      <td>2</td>\n",
       "      <td>0</td>\n",
       "      <td>[1, 1]</td>\n",
       "      <td>[damage increased from 12/16/20/24 to 15/20/25...</td>\n",
       "    </tr>\n",
       "    <tr>\n",
       "      <th>2</th>\n",
       "      <td>Ancient Apparition</td>\n",
       "      <td>6.85</td>\n",
       "      <td>[Cold Feet cast range increased from 700 to 70...</td>\n",
       "      <td>1</td>\n",
       "      <td>0</td>\n",
       "      <td>[1]</td>\n",
       "      <td>[cast range increased from 700 to 700/800/900/...</td>\n",
       "    </tr>\n",
       "    <tr>\n",
       "      <th>3</th>\n",
       "      <td>Anti-Mage</td>\n",
       "      <td>6.85</td>\n",
       "      <td>[Blink distance rescaled from 1000/1075/1150/1...</td>\n",
       "      <td>0</td>\n",
       "      <td>2</td>\n",
       "      <td>[-1, -1]</td>\n",
       "      <td>[distance rescaled from 1000/1075/1150/1150 to...</td>\n",
       "    </tr>\n",
       "    <tr>\n",
       "      <th>4</th>\n",
       "      <td>Arc Warden</td>\n",
       "      <td>6.85</td>\n",
       "      <td>[Spark Wraith cooldown reduced from 7 to 4]</td>\n",
       "      <td>1</td>\n",
       "      <td>0</td>\n",
       "      <td>[1]</td>\n",
       "      <td>[Spark Wraith cooldown reduced from 7 to 4]</td>\n",
       "    </tr>\n",
       "    <tr>\n",
       "      <th>5</th>\n",
       "      <td>Axe</td>\n",
       "      <td>6.85</td>\n",
       "      <td>[]</td>\n",
       "      <td>0</td>\n",
       "      <td>0</td>\n",
       "      <td>[]</td>\n",
       "      <td>[]</td>\n",
       "    </tr>\n",
       "  </tbody>\n",
       "</table>\n",
       "</div>"
      ],
      "text/plain": [
       "                 hero patch  \\\n",
       "0             Abaddon  6.85   \n",
       "1           Alchemist  6.85   \n",
       "2  Ancient Apparition  6.85   \n",
       "3           Anti-Mage  6.85   \n",
       "4          Arc Warden  6.85   \n",
       "5                 Axe  6.85   \n",
       "\n",
       "                                                text  num_buffs  num_nerfs  \\\n",
       "0  [Mist Coil cooldown reduced from 5 to 4.5, Bor...          2          0   \n",
       "1  [Acid Spray damage increased from 12/16/20/24 ...          2          0   \n",
       "2  [Cold Feet cast range increased from 700 to 70...          1          0   \n",
       "3  [Blink distance rescaled from 1000/1075/1150/1...          0          2   \n",
       "4        [Spark Wraith cooldown reduced from 7 to 4]          1          0   \n",
       "5                                                 []          0          0   \n",
       "\n",
       "  change_type                                        text_no_abi  \n",
       "0      [1, 1]  [cooldown reduced from 5 to 4.5, Aghanim's Sce...  \n",
       "1      [1, 1]  [damage increased from 12/16/20/24 to 15/20/25...  \n",
       "2         [1]  [cast range increased from 700 to 700/800/900/...  \n",
       "3    [-1, -1]  [distance rescaled from 1000/1075/1150/1150 to...  \n",
       "4         [1]        [Spark Wraith cooldown reduced from 7 to 4]  \n",
       "5          []                                                 []  "
      ]
     },
     "execution_count": 19,
     "metadata": {},
     "output_type": "execute_result"
    }
   ],
   "source": [
    "df_685_full.head(6)"
   ]
  },
  {
   "cell_type": "code",
   "execution_count": null,
   "metadata": {
    "collapsed": true
   },
   "outputs": [],
   "source": [
    "texts_685, labels_685 = get_texts_and_labels(df_685_full, labeled=True)"
   ]
  },
  {
   "cell_type": "code",
   "execution_count": null,
   "metadata": {
    "collapsed": true
   },
   "outputs": [],
   "source": []
  },
  {
   "cell_type": "code",
   "execution_count": 7,
   "metadata": {
    "collapsed": true
   },
   "outputs": [],
   "source": [
    "df_684 = df_from_patch_query('April_30,_2015_Patch', hero_name_set, '6.84')\n",
    "df_684.head(4)\n",
    "df_684['text_no_abi'] = df_684['text'].apply(remove_abi_names, abi_set=ability_set)\n",
    "texts_684, labels_684 = get_texts_and_labels(df_684, labeled=False)"
   ]
  },
  {
   "cell_type": "code",
   "execution_count": 20,
   "metadata": {
    "collapsed": true
   },
   "outputs": [],
   "source": []
  },
  {
   "cell_type": "code",
   "execution_count": 53,
   "metadata": {
    "collapsed": false
   },
   "outputs": [
    {
     "data": {
      "text/plain": [
       "array([ 0.89363513,  0.819224  ,  0.51470196,  0.93845754,  0.63061521,\n",
       "        0.89363513,  0.77128835,  0.77128835,  0.85539399,  0.26799292])"
      ]
     },
     "execution_count": 53,
     "metadata": {},
     "output_type": "execute_result"
    }
   ],
   "source": [
    "tfidf_train = TfidfVectorizer(use_idf=False)\n",
    "tfmat_train_685 = tfidf_train.fit_transform(texts_685)\n",
    "tfmat_test_684 = tfidf_train.transform(texts_684)\n",
    "\n",
    "gdb_685 = GradientBoostingClassifier(random_state=0)\n",
    "gdb_685.fit(tfmat_train_685.toarray(), labels_685)\n",
    "gdb_685.predict_proba(tfmat_test_684.toarray())[:,1][:10]"
   ]
  },
  {
   "cell_type": "code",
   "execution_count": 50,
   "metadata": {
    "collapsed": true
   },
   "outputs": [],
   "source": [
    "model_output = np.round(gdb_685.predict_proba(tfmat_test_684.toarray())[:,1], 4)\n",
    "counter = 0\n",
    "predictions = []\n",
    "for item in df_684['text']:\n",
    "    predictions.append(model_output[counter:counter+len(item)])\n",
    "    counter += len(item)\n",
    "df_684['predictions'] = predictions"
   ]
  },
  {
   "cell_type": "code",
   "execution_count": 58,
   "metadata": {
    "collapsed": false
   },
   "outputs": [
    {
     "data": {
      "text/plain": [
       "[u'Brain Sap mana cost from 125/150/175/200 to 100/125/150/175',\n",
       " u'Units affected by  Nightmare no longer provide vision',\n",
       " u'Nightmare End can now be used by Bane to end all other existing Nightmares']"
      ]
     },
     "execution_count": 58,
     "metadata": {},
     "output_type": "execute_result"
    }
   ],
   "source": [
    "df_684.text[6]"
   ]
  },
  {
   "cell_type": "code",
   "execution_count": 59,
   "metadata": {
    "collapsed": false
   },
   "outputs": [
    {
     "data": {
      "text/plain": [
       "[u'Unstable Concoction:\\n\\n Countdown can now be seen by enemies\\n\\n Now has an area targeting cursor',\n",
       " u\"Greevil's Greed now grants 4x gold bounty from Runes\",\n",
       " u\"Alchemist can now cast  Aghanim's Scepter to directly grant any allied hero all Aghanim's Scepter bonuses as a buff (the hero upgrade and the stat upgrade). The scepter is consumed in the process. Multiple instances of this buff do not stack. Alchemist can target himself as well\"]"
      ]
     },
     "execution_count": 59,
     "metadata": {},
     "output_type": "execute_result"
    }
   ],
   "source": [
    "df_684.text[1]"
   ]
  },
  {
   "cell_type": "code",
   "execution_count": null,
   "metadata": {
    "collapsed": true
   },
   "outputs": [],
   "source": []
  }
 ],
 "metadata": {
  "kernelspec": {
   "display_name": "Python 2",
   "language": "python",
   "name": "python2"
  },
  "language_info": {
   "codemirror_mode": {
    "name": "ipython",
    "version": 2
   },
   "file_extension": ".py",
   "mimetype": "text/x-python",
   "name": "python",
   "nbconvert_exporter": "python",
   "pygments_lexer": "ipython2",
   "version": "2.7.10"
  }
 },
 "nbformat": 4,
 "nbformat_minor": 0
}
