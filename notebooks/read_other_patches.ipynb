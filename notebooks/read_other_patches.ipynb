{
 "cells": [
  {
   "cell_type": "code",
   "execution_count": 99,
   "metadata": {
    "collapsed": true
   },
   "outputs": [],
   "source": [
    "import sys\n",
    "sys.path.append('../code')"
   ]
  },
  {
   "cell_type": "code",
   "execution_count": 100,
   "metadata": {
    "collapsed": true
   },
   "outputs": [],
   "source": [
    "import json\n",
    "import cPickle as pickle\n",
    "from sklearn.metrics import roc_auc_score\n",
    "from sklearn.metrics import roc_curve\n",
    "from sklearn.cross_validation import train_test_split\n",
    "from sklearn.feature_extraction.text import CountVectorizer, TfidfVectorizer\n",
    "from sklearn.naive_bayes import MultinomialNB\n",
    "from sklearn.ensemble import RandomForestClassifier\n",
    "from sklearn.ensemble import GradientBoostingClassifier"
   ]
  },
  {
   "cell_type": "code",
   "execution_count": 110,
   "metadata": {
    "collapsed": false
   },
   "outputs": [],
   "source": [
    "from make_patch_df import *\n",
    "from patch_nlp import get_info_from_df\n",
    "from add_draft_info import *"
   ]
  },
  {
   "cell_type": "code",
   "execution_count": 102,
   "metadata": {
    "collapsed": false
   },
   "outputs": [],
   "source": [
    "hero_name_set = get_hero_names()\n",
    "ability_set = get_abi_names('../../dota2-database/json/abilities.json')"
   ]
  },
  {
   "cell_type": "code",
   "execution_count": 103,
   "metadata": {
    "collapsed": false
   },
   "outputs": [],
   "source": [
    "patch_url_dict = {}\n",
    "patch_url_dict['6.86'] = 'December_16,_2015_Patch'\n",
    "patch_url_dict['6.85'] = 'September_24,_2015_Patch'\n",
    "patch_url_dict['6.84'] = 'April_30,_2015_Patch'\n",
    "patch_url_dict['6.83'] = 'December_17,_2014_Patch'\n",
    "patch_url_dict['6.82'] = 'September_25,_2014_Patch'\n",
    "patch_url_dict['6.81'] = 'April_29,_2014_Patch'\n",
    "patch_url_dict['6.80'] = 'January_29,_2014_Patch'\n",
    "patch_url_dict['6.79'] = 'October_21,_2013_Patch'\n",
    "patch_url_dict['6.78'] = 'June_04,_2013_Patch'\n",
    "patch_url_dict['6.77'] = 'December_19,_2012_Patch'"
   ]
  },
  {
   "cell_type": "code",
   "execution_count": 104,
   "metadata": {
    "collapsed": true
   },
   "outputs": [],
   "source": [
    "with open('../data/patch_685_df.pkl') as f:\n",
    "    df_685_full = pickle.load(f)\n",
    "    \n",
    "# df_685 = df_from_patch_query('September_24,_2015_Patch', hero_name_set, '6.85')"
   ]
  },
  {
   "cell_type": "code",
   "execution_count": 105,
   "metadata": {
    "collapsed": false
   },
   "outputs": [
    {
     "data": {
      "text/html": [
       "<div>\n",
       "<table border=\"1\" class=\"dataframe\">\n",
       "  <thead>\n",
       "    <tr style=\"text-align: right;\">\n",
       "      <th></th>\n",
       "      <th>hero</th>\n",
       "      <th>patch</th>\n",
       "      <th>text</th>\n",
       "      <th>num_buffs</th>\n",
       "      <th>num_nerfs</th>\n",
       "      <th>change_type</th>\n",
       "      <th>text_no_abi</th>\n",
       "    </tr>\n",
       "  </thead>\n",
       "  <tbody>\n",
       "    <tr>\n",
       "      <th>0</th>\n",
       "      <td>Abaddon</td>\n",
       "      <td>6.85</td>\n",
       "      <td>[Mist Coil cooldown reduced from 5 to 4.5, Bor...</td>\n",
       "      <td>2</td>\n",
       "      <td>0</td>\n",
       "      <td>[1, 1]</td>\n",
       "      <td>[cooldown reduced from 5 to 4.5, Aghanim's Sce...</td>\n",
       "    </tr>\n",
       "    <tr>\n",
       "      <th>1</th>\n",
       "      <td>Alchemist</td>\n",
       "      <td>6.85</td>\n",
       "      <td>[Acid Spray damage increased from 12/16/20/24 ...</td>\n",
       "      <td>2</td>\n",
       "      <td>0</td>\n",
       "      <td>[1, 1]</td>\n",
       "      <td>[damage increased from 12/16/20/24 to 15/20/25...</td>\n",
       "    </tr>\n",
       "    <tr>\n",
       "      <th>2</th>\n",
       "      <td>Ancient Apparition</td>\n",
       "      <td>6.85</td>\n",
       "      <td>[Cold Feet cast range increased from 700 to 70...</td>\n",
       "      <td>1</td>\n",
       "      <td>0</td>\n",
       "      <td>[1]</td>\n",
       "      <td>[cast range increased from 700 to 700/800/900/...</td>\n",
       "    </tr>\n",
       "  </tbody>\n",
       "</table>\n",
       "</div>"
      ],
      "text/plain": [
       "                 hero patch  \\\n",
       "0             Abaddon  6.85   \n",
       "1           Alchemist  6.85   \n",
       "2  Ancient Apparition  6.85   \n",
       "\n",
       "                                                text  num_buffs  num_nerfs  \\\n",
       "0  [Mist Coil cooldown reduced from 5 to 4.5, Bor...          2          0   \n",
       "1  [Acid Spray damage increased from 12/16/20/24 ...          2          0   \n",
       "2  [Cold Feet cast range increased from 700 to 70...          1          0   \n",
       "\n",
       "  change_type                                        text_no_abi  \n",
       "0      [1, 1]  [cooldown reduced from 5 to 4.5, Aghanim's Sce...  \n",
       "1      [1, 1]  [damage increased from 12/16/20/24 to 15/20/25...  \n",
       "2         [1]  [cast range increased from 700 to 700/800/900/...  "
      ]
     },
     "execution_count": 105,
     "metadata": {},
     "output_type": "execute_result"
    }
   ],
   "source": [
    "df_685_full.head(3)"
   ]
  },
  {
   "cell_type": "code",
   "execution_count": 106,
   "metadata": {
    "collapsed": false
   },
   "outputs": [
    {
     "data": {
      "text/plain": [
       "GradientBoostingClassifier(init=None, learning_rate=0.1, loss='deviance',\n",
       "              max_depth=3, max_features=None, max_leaf_nodes=None,\n",
       "              min_samples_leaf=1, min_samples_split=2,\n",
       "              min_weight_fraction_leaf=0.0, n_estimators=100,\n",
       "              random_state=0, subsample=1.0, verbose=0, warm_start=False)"
      ]
     },
     "execution_count": 106,
     "metadata": {},
     "output_type": "execute_result"
    }
   ],
   "source": [
    "texts_685, ratios_685, labels_685 = get_info_from_df(df_685_full, labeled=True)\n",
    "tfidf_train = TfidfVectorizer(use_idf=False)\n",
    "tfmat_train_685 = tfidf_train.fit_transform(texts_685)\n",
    "gdb_685 = GradientBoostingClassifier(random_state=0)\n",
    "gdb_685.fit(tfmat_train_685.toarray(), labels_685)"
   ]
  },
  {
   "cell_type": "code",
   "execution_count": null,
   "metadata": {
    "collapsed": true
   },
   "outputs": [],
   "source": [
    "all_patches = get_patch_dfs(patch_url_dict, hero_name_set, ability_set, tfidf_train, gdb_685)\n",
    "all_patches['6.77'].head(3)"
   ]
  },
  {
   "cell_type": "code",
   "execution_count": 81,
   "metadata": {
    "collapsed": true
   },
   "outputs": [],
   "source": [
    "df_685 = df_685_full.copy()"
   ]
  },
  {
   "cell_type": "code",
   "execution_count": 82,
   "metadata": {
    "collapsed": false
   },
   "outputs": [],
   "source": [
    "df_685.drop(['num_buffs', 'num_nerfs'], axis=1, inplace=True)"
   ]
  },
  {
   "cell_type": "code",
   "execution_count": 83,
   "metadata": {
    "collapsed": true
   },
   "outputs": [],
   "source": [
    "counter = 0\n",
    "ratios_by_hero = []\n",
    "for item in df_685['text']:\n",
    "    ratios_by_hero.append(ratios_685[counter:counter+len(item)])\n",
    "    counter += len(item)\n",
    "df_685['ratios'] = ratios_by_hero"
   ]
  },
  {
   "cell_type": "code",
   "execution_count": 84,
   "metadata": {
    "collapsed": false
   },
   "outputs": [
    {
     "data": {
      "text/plain": [
       "inf"
      ]
     },
     "execution_count": 84,
     "metadata": {},
     "output_type": "execute_result"
    }
   ],
   "source": [
    "ratios_685[136]"
   ]
  },
  {
   "cell_type": "code",
   "execution_count": 85,
   "metadata": {
    "collapsed": false
   },
   "outputs": [
    {
     "name": "stdout",
     "output_type": "stream",
     "text": [
      "[u'Agility growth reduced from 3 to 2.6', u'Doppelganger cast time increased from 0 to 0.1']\n"
     ]
    }
   ],
   "source": [
    "counter = 0\n",
    "for item in df_685['text']:   \n",
    "    counter += len(item)\n",
    "    if counter > 136:\n",
    "        print item\n",
    "        break"
   ]
  },
  {
   "cell_type": "code",
   "execution_count": 86,
   "metadata": {
    "collapsed": true
   },
   "outputs": [],
   "source": [
    "# Working as intended, with inf resulting from 0.1 / 0 division. Still need to address."
   ]
  },
  {
   "cell_type": "code",
   "execution_count": 87,
   "metadata": {
    "collapsed": false
   },
   "outputs": [
    {
     "data": {
      "text/html": [
       "<div>\n",
       "<table border=\"1\" class=\"dataframe\">\n",
       "  <thead>\n",
       "    <tr style=\"text-align: right;\">\n",
       "      <th></th>\n",
       "      <th>hero</th>\n",
       "      <th>patch</th>\n",
       "      <th>text</th>\n",
       "      <th>text_no_abi</th>\n",
       "      <th>predictions</th>\n",
       "      <th>ratios</th>\n",
       "    </tr>\n",
       "  </thead>\n",
       "  <tbody>\n",
       "    <tr>\n",
       "      <th>0</th>\n",
       "      <td>Abaddon</td>\n",
       "      <td>6.85</td>\n",
       "      <td>[Mist Coil cooldown reduced from 5 to 4.5, Bor...</td>\n",
       "      <td>[cooldown reduced from 5 to 4.5, Aghanim's Sce...</td>\n",
       "      <td>[1, 1]</td>\n",
       "      <td>[0.9, 1.429]</td>\n",
       "    </tr>\n",
       "    <tr>\n",
       "      <th>1</th>\n",
       "      <td>Alchemist</td>\n",
       "      <td>6.85</td>\n",
       "      <td>[Acid Spray damage increased from 12/16/20/24 ...</td>\n",
       "      <td>[damage increased from 12/16/20/24 to 15/20/25...</td>\n",
       "      <td>[1, 1]</td>\n",
       "      <td>[1.25, 1.25]</td>\n",
       "    </tr>\n",
       "    <tr>\n",
       "      <th>2</th>\n",
       "      <td>Ancient Apparition</td>\n",
       "      <td>6.85</td>\n",
       "      <td>[Cold Feet cast range increased from 700 to 70...</td>\n",
       "      <td>[cast range increased from 700 to 700/800/900/...</td>\n",
       "      <td>[1]</td>\n",
       "      <td>[1.214]</td>\n",
       "    </tr>\n",
       "    <tr>\n",
       "      <th>3</th>\n",
       "      <td>Anti-Mage</td>\n",
       "      <td>6.85</td>\n",
       "      <td>[Blink distance rescaled from 1000/1075/1150/1...</td>\n",
       "      <td>[distance rescaled from 1000/1075/1150/1150 to...</td>\n",
       "      <td>[-1, -1]</td>\n",
       "      <td>[0.949, 0.75]</td>\n",
       "    </tr>\n",
       "    <tr>\n",
       "      <th>4</th>\n",
       "      <td>Arc Warden</td>\n",
       "      <td>6.85</td>\n",
       "      <td>[Spark Wraith cooldown reduced from 7 to 4]</td>\n",
       "      <td>[Spark Wraith cooldown reduced from 7 to 4]</td>\n",
       "      <td>[1]</td>\n",
       "      <td>[0.571]</td>\n",
       "    </tr>\n",
       "  </tbody>\n",
       "</table>\n",
       "</div>"
      ],
      "text/plain": [
       "                 hero patch  \\\n",
       "0             Abaddon  6.85   \n",
       "1           Alchemist  6.85   \n",
       "2  Ancient Apparition  6.85   \n",
       "3           Anti-Mage  6.85   \n",
       "4          Arc Warden  6.85   \n",
       "\n",
       "                                                text  \\\n",
       "0  [Mist Coil cooldown reduced from 5 to 4.5, Bor...   \n",
       "1  [Acid Spray damage increased from 12/16/20/24 ...   \n",
       "2  [Cold Feet cast range increased from 700 to 70...   \n",
       "3  [Blink distance rescaled from 1000/1075/1150/1...   \n",
       "4        [Spark Wraith cooldown reduced from 7 to 4]   \n",
       "\n",
       "                                         text_no_abi predictions  \\\n",
       "0  [cooldown reduced from 5 to 4.5, Aghanim's Sce...      [1, 1]   \n",
       "1  [damage increased from 12/16/20/24 to 15/20/25...      [1, 1]   \n",
       "2  [cast range increased from 700 to 700/800/900/...         [1]   \n",
       "3  [distance rescaled from 1000/1075/1150/1150 to...    [-1, -1]   \n",
       "4        [Spark Wraith cooldown reduced from 7 to 4]         [1]   \n",
       "\n",
       "          ratios  \n",
       "0   [0.9, 1.429]  \n",
       "1   [1.25, 1.25]  \n",
       "2        [1.214]  \n",
       "3  [0.949, 0.75]  \n",
       "4        [0.571]  "
      ]
     },
     "execution_count": 87,
     "metadata": {},
     "output_type": "execute_result"
    }
   ],
   "source": [
    "df_685.rename(columns={'change_type':'predictions'}, inplace=True)\n",
    "df_685 = df_685[list(df_685.columns[:3]) + ['text_no_abi', 'predictions', 'ratios']]\n",
    "df_685.head()"
   ]
  },
  {
   "cell_type": "code",
   "execution_count": 88,
   "metadata": {
    "collapsed": true
   },
   "outputs": [],
   "source": [
    "all_patches['6.85'] = df_685"
   ]
  },
  {
   "cell_type": "code",
   "execution_count": 89,
   "metadata": {
    "collapsed": true
   },
   "outputs": [],
   "source": [
    "with open('../data/all_patch_dfs.pkl', 'w') as f:\n",
    "    pickle.dump(all_patches, f)"
   ]
  },
  {
   "cell_type": "code",
   "execution_count": null,
   "metadata": {
    "collapsed": false
   },
   "outputs": [],
   "source": []
  },
  {
   "cell_type": "code",
   "execution_count": 111,
   "metadata": {
    "collapsed": false
   },
   "outputs": [
    {
     "data": {
      "text/html": [
       "<div>\n",
       "<table border=\"1\" class=\"dataframe\">\n",
       "  <thead>\n",
       "    <tr style=\"text-align: right;\">\n",
       "      <th></th>\n",
       "      <th>hero</th>\n",
       "      <th>pick%</th>\n",
       "      <th>ban%</th>\n",
       "      <th>pb%</th>\n",
       "      <th>times_pb</th>\n",
       "      <th>prev_patch_pb%</th>\n",
       "      <th>prev_patch_winrate</th>\n",
       "      <th>prev_patch_allies</th>\n",
       "      <th>prev_patch_counters</th>\n",
       "    </tr>\n",
       "  </thead>\n",
       "  <tbody>\n",
       "    <tr>\n",
       "      <th>105</th>\n",
       "      <td>Riki</td>\n",
       "      <td>0.3</td>\n",
       "      <td>0.1</td>\n",
       "      <td>0.3</td>\n",
       "      <td>5</td>\n",
       "      <td>0.3</td>\n",
       "      <td>0.571</td>\n",
       "      <td>[]</td>\n",
       "      <td>[]</td>\n",
       "    </tr>\n",
       "    <tr>\n",
       "      <th>106</th>\n",
       "      <td>Terrorblade</td>\n",
       "      <td>0.1</td>\n",
       "      <td>0.1</td>\n",
       "      <td>0.2</td>\n",
       "      <td>3</td>\n",
       "      <td>3.6</td>\n",
       "      <td>0.500</td>\n",
       "      <td>[]</td>\n",
       "      <td>[]</td>\n",
       "    </tr>\n",
       "    <tr>\n",
       "      <th>107</th>\n",
       "      <td>Death Prophet</td>\n",
       "      <td>0.1</td>\n",
       "      <td>0.0</td>\n",
       "      <td>0.1</td>\n",
       "      <td>2</td>\n",
       "      <td>7.3</td>\n",
       "      <td>0.362</td>\n",
       "      <td>[]</td>\n",
       "      <td>[]</td>\n",
       "    </tr>\n",
       "  </tbody>\n",
       "</table>\n",
       "</div>"
      ],
      "text/plain": [
       "              hero  pick%  ban%  pb%  times_pb  prev_patch_pb%  \\\n",
       "105           Riki    0.3   0.1  0.3         5             0.3   \n",
       "106    Terrorblade    0.1   0.1  0.2         3             3.6   \n",
       "107  Death Prophet    0.1   0.0  0.1         2             7.3   \n",
       "\n",
       "     prev_patch_winrate prev_patch_allies prev_patch_counters  \n",
       "105               0.571                []                  []  \n",
       "106               0.500                []                  []  \n",
       "107               0.362                []                  []  "
      ]
     },
     "execution_count": 111,
     "metadata": {},
     "output_type": "execute_result"
    }
   ],
   "source": [
    "all_drafts = get_draft_dfs('../data/draft_stats/')\n",
    "all_drafts = add_prev_pbs(all_drafts)\n",
    "all_drafts = add_prev_wrs(all_drafts, '../data')\n",
    "all_drafts = add_prev_hero_pairs(all_drafts, '../data')\n",
    "all_drafts[684].tail(3)"
   ]
  },
  {
   "cell_type": "code",
   "execution_count": 91,
   "metadata": {
    "collapsed": false
   },
   "outputs": [
    {
     "data": {
      "text/plain": [
       "[680, 681, 682, 683, 684, 678, 686, 677, 679, 685]"
      ]
     },
     "execution_count": 91,
     "metadata": {},
     "output_type": "execute_result"
    }
   ],
   "source": [
    "[int(float(key)*100) for key in all_patches.iterkeys()]"
   ]
  },
  {
   "cell_type": "code",
   "execution_count": 94,
   "metadata": {
    "collapsed": false
   },
   "outputs": [
    {
     "data": {
      "text/html": [
       "<div>\n",
       "<table border=\"1\" class=\"dataframe\">\n",
       "  <thead>\n",
       "    <tr style=\"text-align: right;\">\n",
       "      <th></th>\n",
       "      <th>hero</th>\n",
       "      <th>patch</th>\n",
       "      <th>text</th>\n",
       "      <th>text_no_abi</th>\n",
       "      <th>predictions</th>\n",
       "      <th>ratios</th>\n",
       "      <th>pick%</th>\n",
       "      <th>ban%</th>\n",
       "      <th>pb%</th>\n",
       "      <th>times_pb</th>\n",
       "      <th>prev_patch_pb%</th>\n",
       "      <th>prev_patch_winrate</th>\n",
       "      <th>prev_patch_allies</th>\n",
       "      <th>prev_patch_counters</th>\n",
       "    </tr>\n",
       "  </thead>\n",
       "  <tbody>\n",
       "    <tr>\n",
       "      <th>0</th>\n",
       "      <td>Abaddon</td>\n",
       "      <td>6.78</td>\n",
       "      <td>[]</td>\n",
       "      <td>[]</td>\n",
       "      <td>[]</td>\n",
       "      <td>[]</td>\n",
       "      <td>7.5</td>\n",
       "      <td>10.3</td>\n",
       "      <td>17.8</td>\n",
       "      <td>399</td>\n",
       "      <td>NaN</td>\n",
       "      <td>NaN</td>\n",
       "      <td>[]</td>\n",
       "      <td>[]</td>\n",
       "    </tr>\n",
       "    <tr>\n",
       "      <th>1</th>\n",
       "      <td>Alchemist</td>\n",
       "      <td>6.78</td>\n",
       "      <td>[]</td>\n",
       "      <td>[]</td>\n",
       "      <td>[]</td>\n",
       "      <td>[]</td>\n",
       "      <td>26.9</td>\n",
       "      <td>30.2</td>\n",
       "      <td>57.1</td>\n",
       "      <td>1280</td>\n",
       "      <td>19.5</td>\n",
       "      <td>0.517</td>\n",
       "      <td>[(Shadow Demon, -0.025, False), (Magnus, -0.12...</td>\n",
       "      <td>[(Rubick, -0.008, False), (Gyrocopter, -0.071,...</td>\n",
       "    </tr>\n",
       "    <tr>\n",
       "      <th>2</th>\n",
       "      <td>Ancient Apparition</td>\n",
       "      <td>6.78</td>\n",
       "      <td>[Ice Vortex cooldown decreased from 6 to 5., I...</td>\n",
       "      <td>[cooldown decreased from 6 to 5., :\\n\\n Base A...</td>\n",
       "      <td>[0.9358, 0.9507]</td>\n",
       "      <td>[0.833, 1.222]</td>\n",
       "      <td>2.0</td>\n",
       "      <td>0.7</td>\n",
       "      <td>2.7</td>\n",
       "      <td>60</td>\n",
       "      <td>4.0</td>\n",
       "      <td>0.388</td>\n",
       "      <td>[]</td>\n",
       "      <td>[]</td>\n",
       "    </tr>\n",
       "  </tbody>\n",
       "</table>\n",
       "</div>"
      ],
      "text/plain": [
       "                 hero patch  \\\n",
       "0             Abaddon  6.78   \n",
       "1           Alchemist  6.78   \n",
       "2  Ancient Apparition  6.78   \n",
       "\n",
       "                                                text  \\\n",
       "0                                                 []   \n",
       "1                                                 []   \n",
       "2  [Ice Vortex cooldown decreased from 6 to 5., I...   \n",
       "\n",
       "                                         text_no_abi       predictions  \\\n",
       "0                                                 []                []   \n",
       "1                                                 []                []   \n",
       "2  [cooldown decreased from 6 to 5., :\\n\\n Base A...  [0.9358, 0.9507]   \n",
       "\n",
       "           ratios  pick%  ban%   pb%  times_pb  prev_patch_pb%  \\\n",
       "0              []    7.5  10.3  17.8       399             NaN   \n",
       "1              []   26.9  30.2  57.1      1280            19.5   \n",
       "2  [0.833, 1.222]    2.0   0.7   2.7        60             4.0   \n",
       "\n",
       "   prev_patch_winrate                                  prev_patch_allies  \\\n",
       "0                 NaN                                                 []   \n",
       "1               0.517  [(Shadow Demon, -0.025, False), (Magnus, -0.12...   \n",
       "2               0.388                                                 []   \n",
       "\n",
       "                                 prev_patch_counters  \n",
       "0                                                 []  \n",
       "1  [(Rubick, -0.008, False), (Gyrocopter, -0.071,...  \n",
       "2                                                 []  "
      ]
     },
     "execution_count": 94,
     "metadata": {},
     "output_type": "execute_result"
    }
   ],
   "source": [
    "all_patches['6.78'].merge(all_drafts[678], how='right', on='hero').head(3)"
   ]
  },
  {
   "cell_type": "code",
   "execution_count": 112,
   "metadata": {
    "collapsed": true
   },
   "outputs": [],
   "source": [
    "patch_draft_dfs = {}\n",
    "for key, patch_df in all_patches.iteritems():\n",
    "    key_as_int = int(float(key)*100)\n",
    "    merged_df = patch_df.merge(all_drafts[key_as_int], how='right', on='hero')\n",
    "    patch_draft_dfs[key] = merged_df"
   ]
  },
  {
   "cell_type": "code",
   "execution_count": 113,
   "metadata": {
    "collapsed": false
   },
   "outputs": [
    {
     "data": {
      "text/html": [
       "<div>\n",
       "<table border=\"1\" class=\"dataframe\">\n",
       "  <thead>\n",
       "    <tr style=\"text-align: right;\">\n",
       "      <th></th>\n",
       "      <th>hero</th>\n",
       "      <th>patch</th>\n",
       "      <th>text</th>\n",
       "      <th>text_no_abi</th>\n",
       "      <th>predictions</th>\n",
       "      <th>ratios</th>\n",
       "      <th>pick%</th>\n",
       "      <th>ban%</th>\n",
       "      <th>pb%</th>\n",
       "      <th>times_pb</th>\n",
       "      <th>prev_patch_pb%</th>\n",
       "      <th>prev_patch_winrate</th>\n",
       "      <th>prev_patch_allies</th>\n",
       "      <th>prev_patch_counters</th>\n",
       "    </tr>\n",
       "  </thead>\n",
       "  <tbody>\n",
       "    <tr>\n",
       "      <th>0</th>\n",
       "      <td>Abaddon</td>\n",
       "      <td>6.85</td>\n",
       "      <td>[Mist Coil cooldown reduced from 5 to 4.5, Bor...</td>\n",
       "      <td>[cooldown reduced from 5 to 4.5, Aghanim's Sce...</td>\n",
       "      <td>[1, 1]</td>\n",
       "      <td>[0.9, 1.429]</td>\n",
       "      <td>4.0</td>\n",
       "      <td>1.3</td>\n",
       "      <td>5.3</td>\n",
       "      <td>87</td>\n",
       "      <td>2.2</td>\n",
       "      <td>0.560</td>\n",
       "      <td>[]</td>\n",
       "      <td>[]</td>\n",
       "    </tr>\n",
       "    <tr>\n",
       "      <th>1</th>\n",
       "      <td>Alchemist</td>\n",
       "      <td>6.85</td>\n",
       "      <td>[Acid Spray damage increased from 12/16/20/24 ...</td>\n",
       "      <td>[damage increased from 12/16/20/24 to 15/20/25...</td>\n",
       "      <td>[1, 1]</td>\n",
       "      <td>[1.25, 1.25]</td>\n",
       "      <td>15.8</td>\n",
       "      <td>23.2</td>\n",
       "      <td>39.0</td>\n",
       "      <td>640</td>\n",
       "      <td>1.4</td>\n",
       "      <td>0.500</td>\n",
       "      <td>[]</td>\n",
       "      <td>[]</td>\n",
       "    </tr>\n",
       "    <tr>\n",
       "      <th>2</th>\n",
       "      <td>Ancient Apparition</td>\n",
       "      <td>6.85</td>\n",
       "      <td>[Cold Feet cast range increased from 700 to 70...</td>\n",
       "      <td>[cast range increased from 700 to 700/800/900/...</td>\n",
       "      <td>[1]</td>\n",
       "      <td>[1.214]</td>\n",
       "      <td>19.8</td>\n",
       "      <td>26.7</td>\n",
       "      <td>46.4</td>\n",
       "      <td>761</td>\n",
       "      <td>25.0</td>\n",
       "      <td>0.469</td>\n",
       "      <td>[(Clockwerk, 0.02, False), (Rubick, -0.069, Fa...</td>\n",
       "      <td>[(Earthshaker, 0.017, False), (Gyrocopter, 0.1...</td>\n",
       "    </tr>\n",
       "    <tr>\n",
       "      <th>3</th>\n",
       "      <td>Anti-Mage</td>\n",
       "      <td>6.85</td>\n",
       "      <td>[Blink distance rescaled from 1000/1075/1150/1...</td>\n",
       "      <td>[distance rescaled from 1000/1075/1150/1150 to...</td>\n",
       "      <td>[-1, -1]</td>\n",
       "      <td>[0.949, 0.75]</td>\n",
       "      <td>7.7</td>\n",
       "      <td>12.3</td>\n",
       "      <td>20.1</td>\n",
       "      <td>329</td>\n",
       "      <td>24.2</td>\n",
       "      <td>0.526</td>\n",
       "      <td>[(Lina, -0.061, False), (Earthshaker, 0.0, Fal...</td>\n",
       "      <td>[(Earthshaker, -0.038, False), (Dark Seer, -0....</td>\n",
       "    </tr>\n",
       "    <tr>\n",
       "      <th>4</th>\n",
       "      <td>Axe</td>\n",
       "      <td>6.85</td>\n",
       "      <td>[]</td>\n",
       "      <td>[]</td>\n",
       "      <td>[]</td>\n",
       "      <td>[]</td>\n",
       "      <td>2.9</td>\n",
       "      <td>2.7</td>\n",
       "      <td>5.6</td>\n",
       "      <td>91</td>\n",
       "      <td>10.8</td>\n",
       "      <td>0.478</td>\n",
       "      <td>[]</td>\n",
       "      <td>[]</td>\n",
       "    </tr>\n",
       "  </tbody>\n",
       "</table>\n",
       "</div>"
      ],
      "text/plain": [
       "                 hero patch  \\\n",
       "0             Abaddon  6.85   \n",
       "1           Alchemist  6.85   \n",
       "2  Ancient Apparition  6.85   \n",
       "3           Anti-Mage  6.85   \n",
       "4                 Axe  6.85   \n",
       "\n",
       "                                                text  \\\n",
       "0  [Mist Coil cooldown reduced from 5 to 4.5, Bor...   \n",
       "1  [Acid Spray damage increased from 12/16/20/24 ...   \n",
       "2  [Cold Feet cast range increased from 700 to 70...   \n",
       "3  [Blink distance rescaled from 1000/1075/1150/1...   \n",
       "4                                                 []   \n",
       "\n",
       "                                         text_no_abi predictions  \\\n",
       "0  [cooldown reduced from 5 to 4.5, Aghanim's Sce...      [1, 1]   \n",
       "1  [damage increased from 12/16/20/24 to 15/20/25...      [1, 1]   \n",
       "2  [cast range increased from 700 to 700/800/900/...         [1]   \n",
       "3  [distance rescaled from 1000/1075/1150/1150 to...    [-1, -1]   \n",
       "4                                                 []          []   \n",
       "\n",
       "          ratios  pick%  ban%   pb%  times_pb  prev_patch_pb%  \\\n",
       "0   [0.9, 1.429]    4.0   1.3   5.3        87             2.2   \n",
       "1   [1.25, 1.25]   15.8  23.2  39.0       640             1.4   \n",
       "2        [1.214]   19.8  26.7  46.4       761            25.0   \n",
       "3  [0.949, 0.75]    7.7  12.3  20.1       329            24.2   \n",
       "4             []    2.9   2.7   5.6        91            10.8   \n",
       "\n",
       "   prev_patch_winrate                                  prev_patch_allies  \\\n",
       "0               0.560                                                 []   \n",
       "1               0.500                                                 []   \n",
       "2               0.469  [(Clockwerk, 0.02, False), (Rubick, -0.069, Fa...   \n",
       "3               0.526  [(Lina, -0.061, False), (Earthshaker, 0.0, Fal...   \n",
       "4               0.478                                                 []   \n",
       "\n",
       "                                 prev_patch_counters  \n",
       "0                                                 []  \n",
       "1                                                 []  \n",
       "2  [(Earthshaker, 0.017, False), (Gyrocopter, 0.1...  \n",
       "3  [(Earthshaker, -0.038, False), (Dark Seer, -0....  \n",
       "4                                                 []  "
      ]
     },
     "execution_count": 113,
     "metadata": {},
     "output_type": "execute_result"
    }
   ],
   "source": [
    "patch_draft_dfs['6.85'].head()"
   ]
  },
  {
   "cell_type": "code",
   "execution_count": 114,
   "metadata": {
    "collapsed": true
   },
   "outputs": [],
   "source": [
    "with open('../data/all_patch_draft_dfs.pkl', 'w') as f:\n",
    "    pickle.dump(patch_draft_dfs, f)"
   ]
  },
  {
   "cell_type": "code",
   "execution_count": null,
   "metadata": {
    "collapsed": true
   },
   "outputs": [],
   "source": []
  }
 ],
 "metadata": {
  "kernelspec": {
   "display_name": "Python 2",
   "language": "python",
   "name": "python2"
  },
  "language_info": {
   "codemirror_mode": {
    "name": "ipython",
    "version": 2
   },
   "file_extension": ".py",
   "mimetype": "text/x-python",
   "name": "python",
   "nbconvert_exporter": "python",
   "pygments_lexer": "ipython2",
   "version": "2.7.10"
  }
 },
 "nbformat": 4,
 "nbformat_minor": 0
}
