{
 "cells": [
  {
   "cell_type": "code",
   "execution_count": 1,
   "metadata": {
    "collapsed": true
   },
   "outputs": [],
   "source": [
    "import sys\n",
    "sys.path.append('../code')"
   ]
  },
  {
   "cell_type": "code",
   "execution_count": 2,
   "metadata": {
    "collapsed": true
   },
   "outputs": [],
   "source": [
    "import json\n",
    "from sklearn.metrics import roc_auc_score\n",
    "from sklearn.metrics import roc_curve\n",
    "from sklearn.cross_validation import train_test_split\n",
    "from sklearn.feature_extraction.text import CountVectorizer, TfidfVectorizer\n",
    "from sklearn.naive_bayes import MultinomialNB\n",
    "from sklearn.ensemble import RandomForestClassifier\n",
    "from sklearn.ensemble import GradientBoostingClassifier"
   ]
  },
  {
   "cell_type": "code",
   "execution_count": 11,
   "metadata": {
    "collapsed": false
   },
   "outputs": [],
   "source": [
    "from make_patch_df import *\n",
    "from patch_nlp import get_info_from_df, process_numbers"
   ]
  },
  {
   "cell_type": "code",
   "execution_count": 4,
   "metadata": {
    "collapsed": false
   },
   "outputs": [],
   "source": [
    "hero_name_set = get_hero_names()\n",
    "ability_set = get_abi_names('../../dota2-database/json/abilities.json')"
   ]
  },
  {
   "cell_type": "code",
   "execution_count": 5,
   "metadata": {
    "collapsed": false
   },
   "outputs": [],
   "source": [
    "patch_url_dict = {}\n",
    "patch_url_dict['6.86'] = 'December_16,_2015_Patch'\n",
    "patch_url_dict['6.85'] = 'September_24,_2015_Patch'\n",
    "patch_url_dict['6.84'] = 'April_30,_2015_Patch'\n",
    "patch_url_dict['6.83'] = 'December_17,_2014_Patch'\n",
    "patch_url_dict['6.82'] = 'September_25,_2014_Patch'\n",
    "patch_url_dict['6.81'] = 'April_29,_2014_Patch'\n",
    "patch_url_dict['6.80'] = 'January_29,_2014_Patch'\n",
    "patch_url_dict['6.79'] = 'October_21,_2013_Patch'\n",
    "patch_url_dict['6.78'] = 'June_04,_2013_Patch'\n",
    "patch_url_dict['6.77'] = 'December_19,_2012_Patch'"
   ]
  },
  {
   "cell_type": "code",
   "execution_count": 6,
   "metadata": {
    "collapsed": true
   },
   "outputs": [],
   "source": [
    "with open('../data/patch_685_df.pkl') as f:\n",
    "    df_685_full = pickle.load(f)\n",
    "    \n",
    "# df_685 = df_from_patch_query('September_24,_2015_Patch', hero_name_set, '6.85')"
   ]
  },
  {
   "cell_type": "code",
   "execution_count": 7,
   "metadata": {
    "collapsed": false
   },
   "outputs": [
    {
     "data": {
      "text/html": [
       "<div>\n",
       "<table border=\"1\" class=\"dataframe\">\n",
       "  <thead>\n",
       "    <tr style=\"text-align: right;\">\n",
       "      <th></th>\n",
       "      <th>hero</th>\n",
       "      <th>patch</th>\n",
       "      <th>text</th>\n",
       "      <th>num_buffs</th>\n",
       "      <th>num_nerfs</th>\n",
       "      <th>change_type</th>\n",
       "      <th>text_no_abi</th>\n",
       "    </tr>\n",
       "  </thead>\n",
       "  <tbody>\n",
       "    <tr>\n",
       "      <th>0</th>\n",
       "      <td>Abaddon</td>\n",
       "      <td>6.85</td>\n",
       "      <td>[Mist Coil cooldown reduced from 5 to 4.5, Bor...</td>\n",
       "      <td>2</td>\n",
       "      <td>0</td>\n",
       "      <td>[1, 1]</td>\n",
       "      <td>[cooldown reduced from 5 to 4.5, Aghanim's Sce...</td>\n",
       "    </tr>\n",
       "    <tr>\n",
       "      <th>1</th>\n",
       "      <td>Alchemist</td>\n",
       "      <td>6.85</td>\n",
       "      <td>[Acid Spray damage increased from 12/16/20/24 ...</td>\n",
       "      <td>2</td>\n",
       "      <td>0</td>\n",
       "      <td>[1, 1]</td>\n",
       "      <td>[damage increased from 12/16/20/24 to 15/20/25...</td>\n",
       "    </tr>\n",
       "    <tr>\n",
       "      <th>2</th>\n",
       "      <td>Ancient Apparition</td>\n",
       "      <td>6.85</td>\n",
       "      <td>[Cold Feet cast range increased from 700 to 70...</td>\n",
       "      <td>1</td>\n",
       "      <td>0</td>\n",
       "      <td>[1]</td>\n",
       "      <td>[cast range increased from 700 to 700/800/900/...</td>\n",
       "    </tr>\n",
       "    <tr>\n",
       "      <th>3</th>\n",
       "      <td>Anti-Mage</td>\n",
       "      <td>6.85</td>\n",
       "      <td>[Blink distance rescaled from 1000/1075/1150/1...</td>\n",
       "      <td>0</td>\n",
       "      <td>2</td>\n",
       "      <td>[-1, -1]</td>\n",
       "      <td>[distance rescaled from 1000/1075/1150/1150 to...</td>\n",
       "    </tr>\n",
       "    <tr>\n",
       "      <th>4</th>\n",
       "      <td>Arc Warden</td>\n",
       "      <td>6.85</td>\n",
       "      <td>[Spark Wraith cooldown reduced from 7 to 4]</td>\n",
       "      <td>1</td>\n",
       "      <td>0</td>\n",
       "      <td>[1]</td>\n",
       "      <td>[Spark Wraith cooldown reduced from 7 to 4]</td>\n",
       "    </tr>\n",
       "    <tr>\n",
       "      <th>5</th>\n",
       "      <td>Axe</td>\n",
       "      <td>6.85</td>\n",
       "      <td>[]</td>\n",
       "      <td>0</td>\n",
       "      <td>0</td>\n",
       "      <td>[]</td>\n",
       "      <td>[]</td>\n",
       "    </tr>\n",
       "  </tbody>\n",
       "</table>\n",
       "</div>"
      ],
      "text/plain": [
       "                 hero patch  \\\n",
       "0             Abaddon  6.85   \n",
       "1           Alchemist  6.85   \n",
       "2  Ancient Apparition  6.85   \n",
       "3           Anti-Mage  6.85   \n",
       "4          Arc Warden  6.85   \n",
       "5                 Axe  6.85   \n",
       "\n",
       "                                                text  num_buffs  num_nerfs  \\\n",
       "0  [Mist Coil cooldown reduced from 5 to 4.5, Bor...          2          0   \n",
       "1  [Acid Spray damage increased from 12/16/20/24 ...          2          0   \n",
       "2  [Cold Feet cast range increased from 700 to 70...          1          0   \n",
       "3  [Blink distance rescaled from 1000/1075/1150/1...          0          2   \n",
       "4        [Spark Wraith cooldown reduced from 7 to 4]          1          0   \n",
       "5                                                 []          0          0   \n",
       "\n",
       "  change_type                                        text_no_abi  \n",
       "0      [1, 1]  [cooldown reduced from 5 to 4.5, Aghanim's Sce...  \n",
       "1      [1, 1]  [damage increased from 12/16/20/24 to 15/20/25...  \n",
       "2         [1]  [cast range increased from 700 to 700/800/900/...  \n",
       "3    [-1, -1]  [distance rescaled from 1000/1075/1150/1150 to...  \n",
       "4         [1]        [Spark Wraith cooldown reduced from 7 to 4]  \n",
       "5          []                                                 []  "
      ]
     },
     "execution_count": 7,
     "metadata": {},
     "output_type": "execute_result"
    }
   ],
   "source": [
    "df_685_full.head(6)"
   ]
  },
  {
   "cell_type": "code",
   "execution_count": 8,
   "metadata": {
    "collapsed": false
   },
   "outputs": [],
   "source": [
    "texts_685, labels_685, ratios_685 = get_info_from_df(df_685_full, labeled=True)"
   ]
  },
  {
   "cell_type": "code",
   "execution_count": 9,
   "metadata": {
    "collapsed": true
   },
   "outputs": [],
   "source": [
    "df_684 = df_from_patch_query('April_30,_2015_Patch', hero_name_set, '6.84')\n",
    "df_684.head(4)\n",
    "df_684['text_no_abi'] = df_684['text'].apply(remove_abi_names, abi_set=ability_set)"
   ]
  },
  {
   "cell_type": "code",
   "execution_count": 10,
   "metadata": {
    "collapsed": false
   },
   "outputs": [],
   "source": [
    "texts_684, labels_684, ratios_684 = get_info_from_df(df_684, labeled=False)"
   ]
  },
  {
   "cell_type": "code",
   "execution_count": 12,
   "metadata": {
    "collapsed": false
   },
   "outputs": [
    {
     "data": {
      "text/plain": [
       "[u':\\n\\n Movement and attack slow from -30 to -20/30/40/50\\n\\n Slow duration from 3.5/4/4.5/5 to 4.5',\n",
       " u'cooldown reduced from 10/9/8/7 to 9/8/7/6',\n",
       " u'cooldown from 150/120/90 to 90']"
      ]
     },
     "execution_count": 12,
     "metadata": {},
     "output_type": "execute_result"
    }
   ],
   "source": [
    "df_684['text_no_abi'][19]"
   ]
  },
  {
   "cell_type": "code",
   "execution_count": null,
   "metadata": {
    "collapsed": false
   },
   "outputs": [],
   "source": []
  },
  {
   "cell_type": "code",
   "execution_count": null,
   "metadata": {
    "collapsed": true
   },
   "outputs": [],
   "source": []
  },
  {
   "cell_type": "code",
   "execution_count": 16,
   "metadata": {
    "collapsed": false
   },
   "outputs": [
    {
     "data": {
      "text/plain": [
       "array([ 0.92983907,  0.84364172,  0.7527597 ,  0.94395809,  0.51693776,\n",
       "        0.95258947,  0.84770223,  0.66231943,  0.84966407,  0.23502058])"
      ]
     },
     "execution_count": 16,
     "metadata": {},
     "output_type": "execute_result"
    }
   ],
   "source": [
    "tfidf_train = TfidfVectorizer(use_idf=False)\n",
    "tfmat_train_685 = tfidf_train.fit_transform(texts_685)\n",
    "tfmat_test_684 = tfidf_train.transform(texts_684)\n",
    "\n",
    "gdb_685 = GradientBoostingClassifier(random_state=0)\n",
    "gdb_685.fit(tfmat_train_685.toarray(), labels_685)\n",
    "gdb_685.predict_proba(tfmat_test_684.toarray())[:,1][:10]"
   ]
  },
  {
   "cell_type": "code",
   "execution_count": 17,
   "metadata": {
    "collapsed": false
   },
   "outputs": [],
   "source": [
    "model_output = np.round(gdb_685.predict_proba(tfmat_test_684.toarray())[:,1], 4)\n",
    "counter = 0\n",
    "predictions = []\n",
    "ratios_by_hero = []\n",
    "for item in df_684['text']:\n",
    "    predictions.append(model_output[counter:counter+len(item)])\n",
    "    ratios_by_hero.append(ratios_684[counter:counter+len(item)])\n",
    "    counter += len(item)\n",
    "df_684['predictions'] = predictions\n",
    "df_684['ratios'] = ratios_by_hero"
   ]
  },
  {
   "cell_type": "code",
   "execution_count": 18,
   "metadata": {
    "collapsed": false
   },
   "outputs": [
    {
     "data": {
      "text/html": [
       "<div>\n",
       "<table border=\"1\" class=\"dataframe\">\n",
       "  <thead>\n",
       "    <tr style=\"text-align: right;\">\n",
       "      <th></th>\n",
       "      <th>hero</th>\n",
       "      <th>patch</th>\n",
       "      <th>text</th>\n",
       "      <th>text_no_abi</th>\n",
       "      <th>predictions</th>\n",
       "      <th>ratios</th>\n",
       "    </tr>\n",
       "  </thead>\n",
       "  <tbody>\n",
       "    <tr>\n",
       "      <th>0</th>\n",
       "      <td>Abaddon</td>\n",
       "      <td>6.84</td>\n",
       "      <td>[Borrowed Time can now be cast while disabled ...</td>\n",
       "      <td>[can now be cast while disabled (same rules as...</td>\n",
       "      <td>[0.9298]</td>\n",
       "      <td>[None]</td>\n",
       "    </tr>\n",
       "    <tr>\n",
       "      <th>1</th>\n",
       "      <td>Alchemist</td>\n",
       "      <td>6.84</td>\n",
       "      <td>[Unstable Concoction:\\n\\n Countdown can now be...</td>\n",
       "      <td>[:\\n\\n Countdown can now be seen by enemies\\n\\...</td>\n",
       "      <td>[0.8436, 0.7528, 0.944]</td>\n",
       "      <td>[None, None, None]</td>\n",
       "    </tr>\n",
       "    <tr>\n",
       "      <th>2</th>\n",
       "      <td>Ancient Apparition</td>\n",
       "      <td>6.84</td>\n",
       "      <td>[Chilling Touch buff can now be removed by cli...</td>\n",
       "      <td>[buff can now be removed by clicking on the bu...</td>\n",
       "      <td>[0.5169]</td>\n",
       "      <td>[None]</td>\n",
       "    </tr>\n",
       "    <tr>\n",
       "      <th>3</th>\n",
       "      <td>Anti-Mage</td>\n",
       "      <td>6.84</td>\n",
       "      <td>[]</td>\n",
       "      <td>[]</td>\n",
       "      <td>[]</td>\n",
       "      <td>[]</td>\n",
       "    </tr>\n",
       "    <tr>\n",
       "      <th>4</th>\n",
       "      <td>Arc Warden</td>\n",
       "      <td>6.84</td>\n",
       "      <td>[]</td>\n",
       "      <td>[]</td>\n",
       "      <td>[]</td>\n",
       "      <td>[]</td>\n",
       "    </tr>\n",
       "    <tr>\n",
       "      <th>5</th>\n",
       "      <td>Axe</td>\n",
       "      <td>6.84</td>\n",
       "      <td>[Berserker's Call cast point from 0.3 to 0.4, ...</td>\n",
       "      <td>[cast point from 0.3 to 0.4, now triggers when...</td>\n",
       "      <td>[0.9526, 0.8477, 0.6623]</td>\n",
       "      <td>[1.333, None, 0.75]</td>\n",
       "    </tr>\n",
       "    <tr>\n",
       "      <th>6</th>\n",
       "      <td>Bane</td>\n",
       "      <td>6.84</td>\n",
       "      <td>[Brain Sap mana cost from 125/150/175/200 to 1...</td>\n",
       "      <td>[mana cost from 125/150/175/200 to 100/125/150...</td>\n",
       "      <td>[0.8497, 0.235, 0.8477]</td>\n",
       "      <td>[0.846, None, None]</td>\n",
       "    </tr>\n",
       "  </tbody>\n",
       "</table>\n",
       "</div>"
      ],
      "text/plain": [
       "                 hero patch  \\\n",
       "0             Abaddon  6.84   \n",
       "1           Alchemist  6.84   \n",
       "2  Ancient Apparition  6.84   \n",
       "3           Anti-Mage  6.84   \n",
       "4          Arc Warden  6.84   \n",
       "5                 Axe  6.84   \n",
       "6                Bane  6.84   \n",
       "\n",
       "                                                text  \\\n",
       "0  [Borrowed Time can now be cast while disabled ...   \n",
       "1  [Unstable Concoction:\\n\\n Countdown can now be...   \n",
       "2  [Chilling Touch buff can now be removed by cli...   \n",
       "3                                                 []   \n",
       "4                                                 []   \n",
       "5  [Berserker's Call cast point from 0.3 to 0.4, ...   \n",
       "6  [Brain Sap mana cost from 125/150/175/200 to 1...   \n",
       "\n",
       "                                         text_no_abi  \\\n",
       "0  [can now be cast while disabled (same rules as...   \n",
       "1  [:\\n\\n Countdown can now be seen by enemies\\n\\...   \n",
       "2  [buff can now be removed by clicking on the bu...   \n",
       "3                                                 []   \n",
       "4                                                 []   \n",
       "5  [cast point from 0.3 to 0.4, now triggers when...   \n",
       "6  [mana cost from 125/150/175/200 to 100/125/150...   \n",
       "\n",
       "                predictions               ratios  \n",
       "0                  [0.9298]               [None]  \n",
       "1   [0.8436, 0.7528, 0.944]   [None, None, None]  \n",
       "2                  [0.5169]               [None]  \n",
       "3                        []                   []  \n",
       "4                        []                   []  \n",
       "5  [0.9526, 0.8477, 0.6623]  [1.333, None, 0.75]  \n",
       "6   [0.8497, 0.235, 0.8477]  [0.846, None, None]  "
      ]
     },
     "execution_count": 18,
     "metadata": {},
     "output_type": "execute_result"
    }
   ],
   "source": [
    "df_684.head(7)"
   ]
  },
  {
   "cell_type": "code",
   "execution_count": 46,
   "metadata": {
    "collapsed": false
   },
   "outputs": [
    {
     "data": {
      "text/plain": [
       "[(array([ 0.9248]),\n",
       "  [u\"Borrowed Time can now be cast while disabled (same rules as Morphling's Morph)\"]),\n",
       " (array([ 0.8011,  0.7333,  0.942 ]),\n",
       "  [u'Unstable Concoction:\\n\\n Countdown can now be seen by enemies\\n\\n Now has an area targeting cursor',\n",
       "   u\"Greevil's Greed now grants 4x gold bounty from Runes\",\n",
       "   u\"Alchemist can now cast  Aghanim's Scepter to directly grant any allied hero all Aghanim's Scepter bonuses as a buff (the hero upgrade and the stat upgrade). The scepter is consumed in the process. Multiple instances of this buff do not stack. Alchemist can target himself as well\"]),\n",
       " (array([ 0.6352]),\n",
       "  [u'Chilling Touch buff can now be removed by clicking on the buff icon above the health bar']),\n",
       " (array([], dtype=float64), []),\n",
       " (array([], dtype=float64), []),\n",
       " (array([ 0.9509,  0.8303,  0.6542]),\n",
       "  [u\"Berserker's Call cast point from 0.3 to 0.4\",\n",
       "   u\"Counter Helix now triggers when attacks land rather than when they start\\n\\n Affects  Centaur Warrunner's  Return and  Timbersaw's  Reactive Armor as well\",\n",
       "   u'Culling Blade movement and attack speed bonuses reduced from 40% to 30%']),\n",
       " (array([ 0.8633,  0.2249,  0.8303]),\n",
       "  [u'Brain Sap mana cost from 125/150/175/200 to 100/125/150/175',\n",
       "   u'Units affected by  Nightmare no longer provide vision',\n",
       "   u'Nightmare End can now be used by Bane to end all other existing Nightmares']),\n",
       " (array([ 0.6433,  0.1837]),\n",
       "  [u'Flamebreak damage changed from an instant 75/150/225/300 damage to 50 damage per second for 1/2/3/4 seconds',\n",
       "   u'Firefly damage reduced from 20/40/60/80 to 10/30/50/70']),\n",
       " (array([ 0.9565,  0.8261,  0.6542]),\n",
       "  [u'Base damage increased by 4',\n",
       "   u'Wild Axes cast point from 0.5 to 0.4',\n",
       "   u'Call of the Wild Boar attack point from 0.633 to 0.5']),\n",
       " (array([ 0.1144]),\n",
       "  [u'Thirst:\\n\\n Bonuses scale from 100 to 25% HP instead of 100 to 0%\\n\\n Vision threshold from 30% health to 25%']),\n",
       " (array([ 0.9509,  0.9093,  0.5173]),\n",
       "  [u'Intelligence growth increased from 1.4 to 2.0',\n",
       "   u\"Shuriken Toss:\\n\\n Damage from 100/200/250/325 to 150/225/300/375\\n\\n Cast range reduced from 650 to 400\\n\\n Mana cost from 90/115/135/155 to 120/130/140/150\\n\\n  Track's Shuriken Toss bounce range from 900 to 1200\",\n",
       "   u'Track now shows how much gold the enemy is carrying in the debuff tooltip']),\n",
       " (array([ 0.4215]),\n",
       "  [u'Primal Split units no longer provide a bounty when killed (was 11-35 depending on level)']),\n",
       " (array([ 0.6542,  0.8314]),\n",
       "  [u'Movement speed reduced from 295 to 290',\n",
       "   u'Viscous Nasal Goo armor reduction rescaled from 1/1/2/2 per stack to 1/1.4/1.8/2.2']),\n",
       " (array([ 0.7132,  0.9509]),\n",
       "  [u'Incapacitating Bite is no longer a Unique Attack Attack Modifier',\n",
       "   u'Insatiable Hunger attack damage from 60/80/100 to 60/90/120']),\n",
       " (array([ 0.8303,  0.6542]),\n",
       "  [u\"Return now triggers when attacks land rather than when they start\\n\\n Affects  Axe's  Counter Helix and  Timbersaw's  Reactive Armor as well\",\n",
       "   u\"Added  Aghanim's Scepter upgrade to Centaur:  Stampede reduces all incoming damage by 70% and allows allies to run through obstructions (trees, cliffs, etc). Destroys trees.\"]),\n",
       " (array([ 0.9509]),\n",
       "  [u'Chaos Bolt minimum damage from 1/50/75/100 to 75/100/125/150']),\n",
       " (array([], dtype=float64), []),\n",
       " (array([ 0.9356,  0.9356]),\n",
       "  [u'Skeleton Walk cooldown from 20 to 20/19/18/17',\n",
       "   u'Death Pact cooldown from 45/40/35 to 45/35/25']),\n",
       " (array([ 0.9509]), [u'Rocket Flare speed from 1500 to 1750']),\n",
       " (array([ 0.9509,  0.9356,  0.9356]),\n",
       "  [u'Crystal Nova:\\n\\n Movement and attack slow from -30 to -20/30/40/50\\n\\n Slow duration from 3.5/4/4.5/5 to 4.5',\n",
       "   u'Frostbite cooldown reduced from 10/9/8/7 to 9/8/7/6',\n",
       "   u'Freezing Field cooldown from 150/120/90 to 90']),\n",
       " (array([ 0.9509,  0.9214]),\n",
       "  [u'Ion Shell duration increased from 20 to 25 seconds',\n",
       "   u'Wall of Replica:\\n\\n Damage dealt by illusions from 70/80/90% to 60/75/90%\\n\\n Duration from 15/30/45 to 45\\n\\n Mana cost from 200/300/400 to 125/250/375']),\n",
       " (array([ 0.9371]), [u'Poison Touch level 4 damage from 32 to 36']),\n",
       " (array([ 0.9509]), [u'Exorcism spirit count from 4/12/21 to 6/13/21']),\n",
       " (array([ 0.9509]),\n",
       "  [u'Kinetic Field duration from 2.5/3/3.5/4 to 2.6/3.2/3.8/4.4']),\n",
       " (array([], dtype=float64), []),\n",
       " (array([ 0.6542,  0.8477,  0.6542]),\n",
       "  [u'Breathe Fire now also reduces base damage by 20/25/30/35% for 8 seconds',\n",
       "   u'Corrosive Breath damage is now lethal',\n",
       "   u\"Elder Dragon Form's Splash Attack damage percentage radius from 100/200/250 (for 100/75/50% damage) to 150/225/300\"]),\n",
       " (array([], dtype=float64), []),\n",
       " (array([ 0.8303,  0.9453,  0.8303,  0.8469]),\n",
       "  [u'Boulder Smash damage from 125 to 50/100/150/200',\n",
       "   u'Geomagnetic Grip:\\n\\n Manacost from 75 to 100\\n\\n Damage from 50/125/200/275 to 50/100/150/200',\n",
       "   u'Magnetize can now be dispelled',\n",
       "   u'Fixed Hex not interrupting  Rolling Boulder if cast during the initial 0.6 seconds']),\n",
       " (array([], dtype=float64), []),\n",
       " (array([ 0.9204]),\n",
       "  [u'Echo Stomp:\\n\\n Channel time from 1.8 to 1.6\\n\\n Cooldown from 15 to 14/13/12/11']),\n",
       " (array([], dtype=float64), []),\n",
       " (array([ 0.9509,  0.9248,  0.4159]),\n",
       "  [u'Untouchable attack slow from 30/60/90/120 to 40/70/100/130',\n",
       "   u'Enchant can now be cast on controlled units to refresh the Enchant duration',\n",
       "   u'Impetus now pierces Spell Immunity']),\n",
       " (array([ 0.7943,  0.7913]),\n",
       "  [u'Midnight Pulse cast point improved from 0.3 to 0.2',\n",
       "   u'Black Hole:\\n\\n Now does a constant 55/110/165 damage per second regardless of proximity to the center\\n\\n Mana cost from 275/350/425 to 275/325/375']),\n",
       " (array([], dtype=float64), []),\n",
       " (array([ 0.8472,  0.8303]),\n",
       "  [u'Rocket Barrage no longer has a cast point (Previously had 0.3)',\n",
       "   u'Call Down missile two slow duration from 3 to 4']),\n",
       " (array([ 0.9509]),\n",
       "  [u'Inner Vitality:\\n\\n Cast range increased from 550 to 800\\n\\n Cooldown from 25/22/19/16 to 22/18/14/10']),\n",
       " (array([ 0.9509,  0.9006,  0.9356,  0.8303]),\n",
       "  [u'Intelligence gain from 2.5 to 3.2',\n",
       "   u'Invoke no longer triggers cooldown if it only swaps the ability slots',\n",
       "   u'Sun Strike cooldown from 30 to 25',\n",
       "   u'Max level  Deafening Blast ( Quas,  Wex, and  Exort all at max level) is now a non-targetable circular wave released in every direction around Invoker']),\n",
       " (array([ 0.8303]), [u'Relocate double click now teleports to fountain']),\n",
       " (array([ 0.9509,  0.8926]),\n",
       "  [u'Base strength increased from 24 to 25',\n",
       "   u'Macropyre:\\n\\n Duration increased from 7 (14 Scepter) to 10 (20 Scepter) \\n\\n Area of effect increased from 225 to 240']),\n",
       " (array([ 0.9509,  0.6542,  0.862 ,  0.6577]),\n",
       "  [u'Blade Fury:\\n\\n Cooldown from 30/25/22/18 to 42/34/26/18\\n\\n Now has the same Spell Immunity on cast dispel behavior as other Spell Immunities\\n\\n Previously it also removed your positive buffs',\n",
       "   u'Healing Ward movement speed from 450 to 420',\n",
       "   u'Omnislash no longer ministuns on cast',\n",
       "   u'Using items/abilities in Omnislash no longer requires facing direction']),\n",
       " (array([ 0.9356,  0.9449,  0.9509]),\n",
       "  [u'Mana Leak cooldown from 16 to 16/14/12/10',\n",
       "   u'Chakra Magic now adds a buff that that reduces the cooldown of the next spell its target casts by 1/2/3/4 seconds. Buff lasts 12 seconds.',\n",
       "   u\"Aghanim's Scepter  Illuminate heal percentage from 75% to 100%\"]),\n",
       " (array([ 0.9239,  0.8633]),\n",
       "  [u'Torrent:\\n\\n Kunkka no longer turns to cast Torrent\\n\\n Cooldown reduced from 12 to 10 seconds',\n",
       "   u'X Marks the Spot mana cost from 80 to 50']),\n",
       " (array([ 0.9509,  0.8303]),\n",
       "  [u'Moment of Courage:\\n\\n Counterattack chance from 16/18/20/22 to 25%\\n\\n Lifesteal from 20/40/60/80% to 55/65/75/85%\\n\\n Cooldown from 0.9 to 2.7/2.1/1.5/0.9',\n",
       "   u\"Added  Aghanim's Scepter upgrade to Legion Commander:  Duel lasts until either Legion Commander or her target dies. Ends if duelists are ever more than 2,000 range apart.\"]),\n",
       " (array([ 0.9509,  0.8261]),\n",
       "  [u'Movement speed from 315 to 320',\n",
       "   u'Lightning Storm:\\n\\n Cast point from 0.7 to 0.6\\n\\n Slow duration from 0.75 to 0.7/0.8/0.9/1']),\n",
       " (array([ 0.9509,  0.9509]),\n",
       "  [u'Ice Armor cast range from 800 to 1000',\n",
       "   u'Chain Frost projectile speed from 675 to 750']),\n",
       " (array([ 0.8477,  0.9509,  0.8661]),\n",
       "  [u'Feast is now considered as normal bonus damage (can Crit and Cleave off it)',\n",
       "   u'Open Wounds lifesteal increased from 15/20/25/30% to 50%',\n",
       "   u\"Added  Aghanim's Scepter upgrade to Lifestealer:\\n\\n Grants a new skill,  Assimilate. Assimilate allows Lifestealer to target an allied hero and swallow them, allowing them to hide inside of Lifestealer. Any healing Lifestealer receives is shared with the assimilated hero. The assimilated hero can release itself at any time by clicking on the buff icon to erupt outward and deal 300 damage to enemies in a 700 area of effect. If Lifestealer dies or assimilates another hero, the currently assimilated hero will automatically exit. Issuing any order with your hero, a few seconds after being assimilated, will take you out.\"]),\n",
       " (array([ 0.3514]),\n",
       "  [u\"Aghanim's Scepter-upgraded  Laguna Blade no longer increases cast range\"]),\n",
       " (array([], dtype=float64), []),\n",
       " (array([ 0.4695,  0.9509,  0.8303]),\n",
       "  [u'True Form is no longer removed on death',\n",
       "   u'Battle Cry:\\n\\n Armor increased from 5/10/15 to 6/12/18\\n\\n Damage increased from 50/75/100 to 60/90/120',\n",
       "   u\"Added  Aghanim's Scepter upgrade to Lone Druid: Allows Spirit Bear to attack at any range from Lone Druid, and prevents Spirit Bear from dying if Lone Druid dies\"]),\n",
       " (array([ 0.9509,  0.9283]),\n",
       "  [u'Base armor increased by 1',\n",
       "   u\"Eclipse:\\n\\n Per unit cap increased from 4 to 5\\n\\n Improved  Aghanim's Scepter: Allows Eclipse to be cast on an area within 2,500 range. Grants obstructed vision of that area. Can also target any allied unit to center Eclipse on their location, even while moving (can double click or target Luna)\"]),\n",
       " (array([], dtype=float64), []),\n",
       " (array([], dtype=float64), []),\n",
       " (array([ 0.4695]),\n",
       "  [u'Split Shot and  Mana Shield are no longer removed on death']),\n",
       " (array([ 0.9509,  0.7132]),\n",
       "  [u'Geostrike damage from 7/14/21/28 to 8/16/24/32',\n",
       "   u'Divided We Stand no longer causes Meepo to respawn 20% faster']),\n",
       " (array([ 0.9509]),\n",
       "  [u\"Starstorm's second hit range from 175 to 325, and the second hit now strikes the unit closest to Mirana\"]),\n",
       " (array([ 0.8303,  0.9761]),\n",
       "  [u'Adaptive Strike now has a 1150 speed projectile',\n",
       "   u\"Added  Aghanim's Scepter upgrade to Morphling:\\n\\n Grants a new ability,  Hybrid. Allows morphling to target an ally, turning himself into a hybrid illusion, removing the Morphling himself. This hybrid illusion can cast non-ultimate abilities and has your original attributes. Lasts 20 seconds. When the duration ends or the hybrid dies, your hero emerges (cannot end prematurely). Cooldown: 140, Manacost: 200, 600 cast range. Note: Ability is not available while you have a Replicate living.\"]),\n",
       " (array([ 0.8102,  0.8303]),\n",
       "  [u'Ensnare:\\n\\n Cooldown from 14 to 12\\n\\n Is now dispellable\\n\\n Can still be cast on Spell Immune units\\n\\n\\n\\n Is no longer removed if the target becomes Ethereal',\n",
       "   u\"Added  Aghanim's Scepter upgrade:  Song of the Siren Scepter now regenerates you and nearby allies by 6% of maximum HP per second for up to 7 seconds.\"]),\n",
       " (array([ 0.9509,  0.9472,  0.8661]),\n",
       "  [u'Sprout:\\n\\n Cast range increased from 600 to 625/700/775/850\\n\\n Duration increased from 3/3.75/4.5/5.25 to 3/4/5/6',\n",
       "   u\"Nature's Call treant base damage from 22 to 28\",\n",
       "   u\"Aghanim's Scepter-upgraded  Wrath of Nature now spawns a Nature's Call treant whenever it kills a unit. Killing a hero will spawn a stronger treant (3x damage and health of a normal one)\"]),\n",
       " (array([], dtype=float64), []),\n",
       " (array([ 0.9509]),\n",
       "  [u'Void attack speed slow increased from -35 to -50 (now matches movement speed slow)']),\n",
       " (array([ 0.4695,  0.9373]),\n",
       "  [u'Using  Spiked Carapace no longer removes  Vendetta',\n",
       "   u\"Added  Aghanim's Scepter upgrade to Nyx: Adds a new ability,  Burrow, with a one second cast time. While Burrowed, Nyx Assassin is invisible and unable to move/attack, but has 40% damage resistance, and regenerates 1.5% of his health and mana per second. Nyx Assassin's abilities also have improved properties while burrowed:  Mana Burn and  Impale have 50% increased cast range,  Impale Cooldown is reduced from 13 to 9, and  Spiked Carapace instantly stuns any enemy units within a 300 area of effect without requiring them to hurt him first. Casting  Vendetta causes Burrow to end\"]),\n",
       " (array([], dtype=float64), []),\n",
       " (array([ 0.8261]), [u'Purification cast point from 0.5 to 0.4']),\n",
       " (array([ 0.97  ,  0.9239]),\n",
       "  [u'Purifying Flames:\\n\\n Mana cost reduced from 55/70/85/100 to 50/60/70/80\\n\\n Cooldown reduced from 3 to 2.5\\n\\n Can now target non-hero units',\n",
       "   u'False Promise:\\n\\n No longer makes the target invisible\\n\\n Now continuously removes debuffs and disables, instead of only when first cast\\n\\n Duration from 7/8/9 to 6/7/8\\n\\n Cooldown from 20 to 80/60/40']),\n",
       " (array([ 0.7263]),\n",
       "  [u\"Aghanim's Scepter  Sanity's Eclipse:\\n\\n Now affects everyone in the area of effect with  Astral Imprisonment after it deals its damage.\\n\\n No longer always triggers the mana drain and does not increase the damage multiplier by 1\"]),\n",
       " (array([], dtype=float64), []),\n",
       " (array([], dtype=float64), []),\n",
       " (array([ 0.8011]),\n",
       "  [u'Fire Spirits now does an obstructed reveal of the area it hits for 1 second']),\n",
       " (array([ 0.9509]),\n",
       "  [u'Waning Rift damage increased from 70/140/210/280 to 100/160/220/280']),\n",
       " (array([ 0.9509]), [u'Rot move slow from 20% to 20/22/24/26%']),\n",
       " (array([ 0.9469,  0.9509]),\n",
       "  [u'Decrepify:\\n\\n Enemy slow from 50% to 30/40/50/60%\\n\\n Enemy magic damage amplification from 50% to 30/40/50/60%\\n\\n Duration from 2/2.5/3/3.5 to 3.5\\n\\n Cooldown from 12/10/8/6 to 15/12/9/6',\n",
       "   u\"Life Drain:\\n\\n Damage and restore per second from 120/160/200 to 150/185/220\\n\\n Cast range from 1100 to 900/1050/1200\\n\\n  Aghanim's Scepter-upgraded Life Drain no longer increases cast range\"]),\n",
       " (array([], dtype=float64), []),\n",
       " (array([], dtype=float64), []),\n",
       " (array([ 0.5726]),\n",
       "  [u'Smoke Screen:\\n\\n No longer slows attack speed\\n\\n Now reduces turn rate by 30%']),\n",
       " (array([ 0.8303]), [u'Null Field now also affects creeps']),\n",
       " (array([ 0.8477]),\n",
       "  [u'Caustic Finale:\\n\\n Duration from 8 to 6\\n\\n Now always triggers (via unit death or when its duration expires). If triggered by timer expiration, it deals 30% of the damage\\n\\n No longer resets the duration on a unit that already has the debuff\\n\\n Now applies a 20% move slow when the damage triggers (via unit death or when timer expires). Slow lasts for 3 seconds']),\n",
       " (array([ 0.7672,  0.8303]),\n",
       "  [u'Shadow Poison mana cost from 50 to 40',\n",
       "   u\"Demonic Purge  Aghanim's Scepter upgrade now applies Break (disabling passive abilities)\"]),\n",
       " (array([], dtype=float64), []),\n",
       " (array([ 0.9509,  0.9509]),\n",
       "  [u'Base strength increased from 19 to 21',\n",
       "   u'Strength gain increased from 1.6 to 1.8']),\n",
       " (array([ 0.6542,  0.9248]),\n",
       "  [u'Base movement speed from 300 to 295',\n",
       "   u'Last Word:\\n\\n Initial enemy cast allowance window from 5 to 4 seconds\\n\\n No longer disarms\\n\\n Now applies a 14/16/18/20% movespeed slow whenever it triggers']),\n",
       " (array([], dtype=float64), []),\n",
       " (array([ 0.9509]),\n",
       "  [u'Slithereen Crush damage from 50/100/150/200 to 75/125/175/225']),\n",
       " (array([], dtype=float64), []),\n",
       " (array([ 0.2124,  0.2275,  0.8303,  0.1837]),\n",
       "  [u'Agility gain from 2.9 to 2.5',\n",
       "   u'Shrapnel:\\n\\n Recharge time increased from 40 to 55\\n\\n Delay increased from 0.8 to 1.4 seconds\\n\\n Now gives vision when the shrapnel lands rather than instantly',\n",
       "   u'Headshot can now miss',\n",
       "   u'Assassinate damage from 355/505/655 to 320/485/650']),\n",
       " (array([ 0.7132]),\n",
       "  [u'Reality no longer kills the target illusion, it now swaps positions']),\n",
       " (array([ 0.8605]), [u'Empowering Haste cooldown from 16 to 12']),\n",
       " (array([ 0.6542,  0.1275]),\n",
       "  [u'Movement speed reduced from 290 to 285',\n",
       "   u'Ball Lightning flying vision from 1000 to 400']),\n",
       " (array([ 0.9509]),\n",
       "  [u'Warcry armor bonus increased from 4/8/12/16 to 5/10/15/20']),\n",
       " (array([ 0.581 ,  0.8618,  0.9356,  0.6337]),\n",
       "  [u'Land Mines activation delay reduced from 1.75 to 0.5 seconds',\n",
       "   u'Stasis Trap:\\n\\n Activation delay from 2 to 1.5\\n\\n Detonation delay from 2 to 1.5',\n",
       "   u'Suicide Squad, Attack! cooldown reduced from 180/170/160/150 to 160/140/120/100',\n",
       "   u\"Minefield Sign:\\n\\n Cooldown from 120 to 360\\n\\n Now requires Techies to walk precisely to the targeted spot\\n\\n Now has an area of effect targeting cursor\\n\\n Now has a limited lifetime of 180 seconds\\n\\n  Aghanim's Scepter upgrade now causes the Minefield Sign to make all  Land Mines,  Stasis Traps and  Remote Mines within 125 area of effect immune to True Sight. Can only have one sign out at a time.\"]),\n",
       " (array([ 0.9469]), [u'Meld cooldown from 7 to 6']),\n",
       " (array([ 0.9509]),\n",
       "  [u'Reflection:\\n\\n Cast range from 275 to 325\\n\\n Illusion outgoing damage from 40/50/60/70% to 40/60/80/100%']),\n",
       " (array([ 0.9509]),\n",
       "  [u'Kraken Shell damage block increased from 10/20/30/40 to 12/24/36/48']),\n",
       " (array([ 0.9509]),\n",
       "  [u\"Reactive Armor:\\n\\n Now triggers when attacks land rather when attacks begin\\n\\n Affects  Axe's  Counter Helix and  Centaur Warrunner's  Return as well\\n\\n\\n\\n Max stacks increased from 4/8/12/16 to 5/10/15/20\"]),\n",
       " (array([ 0.9513,  0.8411]),\n",
       "  [u\"Laser:\\n\\n Hero blind duration increased from 3 to 3/3.5/4/4.5\\n\\n  Aghanim's Scepter no longer has additional cast range\\n\\n  Aghanim's Scepter now refracts to visible enemy heroes with a 550 bounce range\",\n",
       "   u'Rearm mana cost from 150/250/350 to 125/225/325']),\n",
       " (array([ 0.9304]),\n",
       "  [u'Toss:\\n\\n Grab radius increased from 250 to 275\\n\\n Now grabs the closest unit rather than a random unit']),\n",
       " (array([ 0.609]),\n",
       "  [u'Eyes in the Forest area of effect reduced from 800 to 700']),\n",
       " (array([ 0.7132,  0.2422,  0.2422,  0.5716]),\n",
       "  [u\"Berserker's Rage:\\n\\n No longer provides +15 damage\\n\\n Is no longer removed on death\",\n",
       "   u'Whirling Axes (Ranged) no longer provide 800 vision',\n",
       "   u'Whirling Axes (Melee) no longer provide 500 vision',\n",
       "   u'Battle Trance duration reduced from 7 to 5 seconds']),\n",
       " (array([ 0.9607,  0.3044,  0.9356]),\n",
       "  [u'Ice Shards:\\n\\n Mana cost reduced from 120 to 90\\n\\n Cooldown from 18/16/14/12 to 19/16/13/10\\n\\n Vision reveal from 0.5 seconds to 2 seconds',\n",
       "   u'Snowball:\\n\\n Speed is now a constant 675\\n\\n No longer auto-loads units in 100 range\\n\\n Tusk can now add allies to Snowball while it is moving',\n",
       "   u\"Added  Aghanim's Scepter to Tusk: Adds a new ability called  Walrus Kick. Kicks the target back 900 units. The kick slows by 40% for 4 seconds. 12 second cooldown\"]),\n",
       " (array([ 0.6645,  0.7909]),\n",
       "  [u'Soul Rip:\\n\\n Is now considered one damage instance on the enemy\\n\\n Removed Tombstone Zombie targeting from Soul Rip',\n",
       "   u'Tombstone Zombies now require 1 attack to kill rather than having 30 health (zombies require 2 hits from creeps)']),\n",
       " (array([ 0.8732]),\n",
       "  [u'Reworked  Enrage:\\n\\n Ursa goes into a frenzy, causing him to take 80% less damage from any source and for his attacks to deal 2/2.5/3 times the  Fury Swipes damage. Removes any existing debuffs upon cast.\\n\\n Fury Swipes Multiplier: 2/2.5/3\\n\\n Duration: 4\\n\\n Cooldown: 50/45/40']),\n",
       " (array([], dtype=float64), []),\n",
       " (array([ 0.9509]),\n",
       "  [u'Venomous Gale tick damage from 0/30/60/90 to 10/40/70/100']),\n",
       " (array([ 0.9356]),\n",
       "  [u'Viper Strike cooldown reduced from 80/50/30 to 70/50/30']),\n",
       " (array([ 0.7229,  0.8333]),\n",
       "  [u\"Gravekeeper's Cloak recharge time from 6 to 4\",\n",
       "   u'Summon Familiars:\\n\\n Familiars no longer have 300/450/600 health\\n\\n Familiars now require 4 hero attacks to be killed (creeps/illusions do 1/4 damage, towers do 1/2)']),\n",
       " (array([ 0.9117,  0.9509]),\n",
       "  [u'Fatal Bonds:\\n\\n Cast range increased from 900 to 1000\\n\\n Cast time from 0.5 to 0.2',\n",
       "   u\"Chaotic Offering Golem's health regeneration from 15/30/45 to 25/50/75\"]),\n",
       " (array([ 0.5307,  0.4215,  0.9449]),\n",
       "  [u'The Swarm:\\n\\n Duration rescaled from 14/16/18/20 to 16\\n\\n Damage from 15/20/25/30 to 20\\n\\n Attack rate from an attack every 1.35 seconds to 1.4/1.25/1.1/0.95',\n",
       "   u'Geminate Attack:\\n\\n Now launches the second projectile 0.25 seconds after the initial one fires instead of after impacting the target\\n\\n No longer has a range limit',\n",
       "   u\"Added  Aghanim's Scepter upgrade to Weaver: reduces the cooldown of  Time Lapse to 20 seconds and allows Timelapse to target allied heroes. 1000 cast range\"]),\n",
       " (array([ 0.8261]), [u'Shackleshot cast point from 0.3 to 0.15']),\n",
       " (array([ 0.7282,  0.9509,  0.6279,  0.8926,  0.8303]),\n",
       "  [u\"Enabled Winter Wyvern in Captain's Mode\",\n",
       "   u\"Reworked  Winter's Curse:\\n\\n Those cursed to attack their ally now take 70% less damage from all sources.\\n\\n Area of effect increased from 350 to 400\\n\\n Duration from 2.5/2.75/3 to 2.5/3/3.5\\n\\n Cooldown from 90/80/70 to 110/100/90\",\n",
       "   u'Arctic Burn:\\n\\n Is now dispellable\\n\\n Damage per second from 6% of health to 8%\\n\\n Damage type from Pure to Magic\\n\\n No longer pierces Spell Immunity',\n",
       "   u'Splinter Blast:\\n\\n Speed increased 500->650 (1.35 to 1.0 seconds max)\\n\\n Debuff is now dispellable',\n",
       "   u'Cold Embrace now behaves as normal regeneration instead of 0.1 interval heals']),\n",
       " (array([], dtype=float64), []),\n",
       " (array([ 0.8661]),\n",
       "  [u\"Added  Aghanim's Scepter upgrade to Wraith King: Allies who are near Wraith King (within 1200 aoe) when slain become Wraiths for 5 seconds, delaying their death. They can continue attacking, casting, etc. When the duration ends, the hero dies, and credit for the kill goes to whowever landed the original killing blow.\"]),\n",
       " (array([ 0.1074]),\n",
       "  [u\"Thundergod's Wrath:\\n\\n Area vision reduced from 1000 to 500\\n\\n Fixed Thundergod's Wrath sometimes hitting invisible units depending on the order of player slots.\"])]"
      ]
     },
     "execution_count": 46,
     "metadata": {},
     "output_type": "execute_result"
    }
   ],
   "source": [
    "zip(df_684.predictions, df_684.text)"
   ]
  },
  {
   "cell_type": "code",
   "execution_count": 59,
   "metadata": {
    "collapsed": false
   },
   "outputs": [
    {
     "data": {
      "text/plain": [
       "[u'Unstable Concoction:\\n\\n Countdown can now be seen by enemies\\n\\n Now has an area targeting cursor',\n",
       " u\"Greevil's Greed now grants 4x gold bounty from Runes\",\n",
       " u\"Alchemist can now cast  Aghanim's Scepter to directly grant any allied hero all Aghanim's Scepter bonuses as a buff (the hero upgrade and the stat upgrade). The scepter is consumed in the process. Multiple instances of this buff do not stack. Alchemist can target himself as well\"]"
      ]
     },
     "execution_count": 59,
     "metadata": {},
     "output_type": "execute_result"
    }
   ],
   "source": [
    "df_684.text[1]"
   ]
  },
  {
   "cell_type": "code",
   "execution_count": null,
   "metadata": {
    "collapsed": true
   },
   "outputs": [],
   "source": []
  }
 ],
 "metadata": {
  "kernelspec": {
   "display_name": "Python 2",
   "language": "python",
   "name": "python2"
  },
  "language_info": {
   "codemirror_mode": {
    "name": "ipython",
    "version": 2
   },
   "file_extension": ".py",
   "mimetype": "text/x-python",
   "name": "python",
   "nbconvert_exporter": "python",
   "pygments_lexer": "ipython2",
   "version": "2.7.10"
  }
 },
 "nbformat": 4,
 "nbformat_minor": 0
}
